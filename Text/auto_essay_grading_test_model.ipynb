{
 "cells": [
  {
   "cell_type": "code",
   "execution_count": 1,
   "metadata": {},
   "outputs": [],
   "source": [
    "import pandas as pd\n",
    "import numpy as np\n",
    "import re\n",
    "import joblib\n",
    "import spacy\n",
    "import nltk\n",
    "import language_tool_python\n",
    "from gensim.models import Word2Vec\n",
    "from string import punctuation\n",
    "from nltk.tokenize import word_tokenize\n",
    "from nltk.corpus import stopwords\n",
    "from spacy.lang.en.stop_words import STOP_WORDS\n",
    "\n",
    "# Setup Pandas\n",
    "pd.set_option('display.width', 500)\n",
    "pd.set_option('display.max_columns', 100)\n",
    "pd.set_option('display.notebook_repr_html', True)\n",
    "pd.set_option('display.max_colwidth', 100)"
   ]
  },
  {
   "cell_type": "markdown",
   "metadata": {},
   "source": [
    "# Load Helper"
   ]
  },
  {
   "cell_type": "code",
   "execution_count": 2,
   "metadata": {},
   "outputs": [],
   "source": [
    "snow = nltk.stem.SnowballStemmer('english')\n",
    "nlp = spacy.load('en_core_web_sm')\n",
    "tool = language_tool_python.LanguageTool('en-US')\n",
    "# word2vec_model = Word2Vec(sentences=tokenized_essays, vector_size=300, window=5, min_count=1, workers=4)\n",
    "# word2vec_model.init_sims(replace=True)\n",
    "word2vec_model = Word2Vec.load('word2vec_model.model')"
   ]
  },
  {
   "cell_type": "code",
   "execution_count": 3,
   "metadata": {},
   "outputs": [],
   "source": [
    "def tokenize_text(text):\n",
    "    return word_tokenize(text)\n",
    "\n",
    "def snowball_stemming(text):\n",
    "    text = re.sub('[^a-zA-Z]', ' ', text)\n",
    "    text = text.lower()\n",
    "    text = text.split()\n",
    "    text = [snow.stem(word) for word in text if not word in stopwords.words('english')]\n",
    "    return ' '.join(text)\n",
    "\n",
    "def get_doc_embedding(tokens):\n",
    "    embeddings = [word2vec_model.wv[word] for word in tokens if word in word2vec_model.wv]\n",
    "    if embeddings:\n",
    "        return np.mean(embeddings, axis=0)\n",
    "    else:\n",
    "        return np.zeros(word2vec_model.vector_size)\n",
    "    \n",
    "def analyze_text():\n",
    "    \n",
    "    return {\n",
    "        'Total Score': predictions[0], \n",
    "        'Unique Tokens Count': input[\"unique_token_count\"][0],\n",
    "        'Tokens Count': input[\"token_count\"][0],\n",
    "        'Stopwords Count': input[\"token_count\"][0] - input[\"nostop_count\"][0],\n",
    "        'Sentences Count': input[\"sent_count\"][0],\n",
    "        'Number of grammatical error' : input[\"corrections\"][0],\n",
    "        'corrected text' : input[\"corrected\"][0],\n",
    "    }"
   ]
  },
  {
   "cell_type": "code",
   "execution_count": 4,
   "metadata": {},
   "outputs": [],
   "source": [
    "input = pd.DataFrame()"
   ]
  },
  {
   "cell_type": "code",
   "execution_count": 19,
   "metadata": {},
   "outputs": [],
   "source": [
    "# reference_essays = {1: 161, 2: 3022, 3: 5263, 4: 5341, 5: 7209, 6: 8896, 7: 11796, 8: 12340} # topic: essay_id\n",
    "\n",
    "\n",
    "#get it manually from training set pickle \"cleaned_training_spacy.pkl\"\n",
    "best_essays = [\n",
    "    nlp('Since computers were invented, a colossal change in the way society functions has taken place. People how can go on to their computers to communicate with peers, get information on any topic for a school paper, or just because the internet to watch videos and stories. Magazine and newspaper articles, books and even movies and shows sre available on today\\'s computer! This advancement in technology has made the @NUM1 century the most modern era this world has ever seen, and is beneficial to society. The \"computer age\" has given people in today\\'s society the incredible opportunity to broaden their imaginations through technology. You can, in less than one minute go on the internet type in to @ORGANIZATION1 whatever movie or book you want and start watching instantly. People have always said that books can take you anywhere you want. Well, the computers can do the same thing, expect with greater efficiency and with more places to choosen from. You can, instead of buying a book, go online and read of the faraway city of @LOCATION1, or of the eruption of the @CAPS1 @CAPS2, and you can do it with mind-blowing speed. Some think that by wasting time on computers, people are using up time that could be spent studying or with family. Howeer, any information needed to your knowledge on a topic can be found on the internet. And if you want to spent time with your family, you can even look your computer up to a tv and watch a free movie with the family! The computer age is here and it is exactly. What society needs. Picture this: you\\'re doing a school project on the you know nothing about it. Would you rather drive minutes going and thirty minutes looking withb everything you need, or do you think it\\'s more to spend five minutes looking for the website you need on the internet? Obviously, the later of the is much more reasonable. The computer makes getting research for school or work substantially easier. In addition,you can create entire presentations on a computers with surprising ease! Being an eighth grade student, I dont know I would ever do woithout the internet. I rely on my computer to get all of my research for almost every project, and I even make some of my best project on it! The computer is the likes of all the hard working students and adults much, much easier. People\\'s lives have not only been made easier in the field of research; computer make communicating with friends and familyeasier as well! Through e-mail, video chat and instant messaging., we can communicate with whoever we would, whenever we wort. With some computers, you can even see and talk to any person you wish. Without these computers, we will one again have to resort to snail mail, whcih makes instant communication @CAPS3 telephones, we would have no other way to talk. Computers have enhanced communication chill likes so graetly that it\\'s foolish to say their not beneficial to society. How can a machine with so many abilities be for see the computer as a brooden research for school and we want! Bottom line the computer age is here and its amazing.'),\n",
    "    nlp(\"Censorship is the most foul and terrifying part of society.  Our lives have been taken over by politcal correctness, so much so that our voices are no longer our own.  Until recently we had the freedom to convey our thoughts, no matter what those thoughts were, in any form of media.  But now if something is found to be offensive in any way it is essentially burned.  Censorship limits our freedoms, takes away our @CAPS2 as citizens and people, shields us from the truths of the world, and limits the knowledge we can take from, as well as ensuring that one day there will be nothing left of media.     The @CAPS1 of @CAPS2, the document that our country lives by, says that we as people have the right of free speech.  Censorship actively and violently violates that right.  Our country was built on free speech, and now it is being taken away.  Our own words forced down our throats, never allowed to come out.  Censorship ensures that no opinions will be heard, that no one's beliefs will be questioned, that no one can assume or think for themselves.  Is this not what we are supposedly guaranteed by freedom of speech?  We are supposed to be able to say anything we want to say.  We know there are consequences for saying certain things, but we are supposed to be allowed to say them.  Letting our own ideas into the world allows for new ideas to form.  Arguements come, but these arguements allow people to see other ideas that they hadn't thought of and look at issues from new perspectives.  We are able to see our world through different eyes when we hear or read someone else's opinions.  And from there we can form our own opinions, allowing our world to be rich with iddeas and knowledge, and allowing our society to advance.  But censorship wants to take this all away from us in order to please everyone.  But there will always be someone who is unhappy.  It's the inevitable truth.     Censorship is trying to shield us from the ugliness of this world.  In a way this makes sense.  We don't want our children to understand the atrocities that happen in everyday life.  We don't want them knowing what's happening behind closed doors.  However, if we don't allow people to open these doors, they can never understand the world or be prepared for the experiences that are to come.  Learning the harsh realities of our society educates people, allowing them to stop these realities as well as be prepared for when they happen to them.  For example, let's look at the issue of rape.  Rape is a horrible thing, but it happens.  It is a nasty part of reality.  Rape can be censored from books, televsion, and other forms of media.  We can walk around pretending rape doesn't exist.  But that doesn't accomplish anything.  That doesn't get rid of rape.  It still exists.  And if the people are uneducated on the issue of rape, how will it ever stop?  How will a rape ever be able to be prevented?  How will someone know what to expect or what to do?  By censoring rape from media, we are ensuring that the people in future generations never learn about rape.  Knowledge of rape is important if it is ever going to be stopped.  Pretending something doesn't exist doesn't get rid of it.  Censorship is supposed to protect the people, but it doesn't.  It hurts the people, cutting off their access to knowledge.     We as people need knowledge.  We live off of knowledge.  And the way we obtain this knowledge is through media.  Censorship takes away pieces of knowledge gradually.  It @MONTH1 not seem like a lot is missing now, but as time goes on the gap will increase, and more knowledge will be taken from our grasp.  Is this fair?  Is this right?  Is this helping us?  How does cutting out knowledge ever help?  It brings us backwards in time, makes us fear.  It is human nature to fear the unknown.  The more that becomes unknown, the more we have to fear.  Censorship is taking away crucial pieces of knowledge that we must understand to get along in society.  This is wrong and immoral.  It is unfair, if nothing else.  We should be allowed to take from any knowledge that exists.  No good comes from hiding it.     Lastly, this gradual burning of knowledge is affecting society in horrid ways.  And as time goes on it can only get worse.  Censorship is based off of offensiveness.  If something could be offensive, it is disposed of.  However, everything that exists in society could be offensive to someone.  Therefore everything and everyone should be censored in order to fulfill the goal of censorship.  This means all media of any kind should be destroyed.  No one should say anything.  The world would be forced to be silent.  All knowledge would be taken away.  Chaos would ensue.  The people's freedom would be completely taken away.  The freedom to know would vaporize right in front of their eyes.  This is our future if we allow the censorship to continue.  We cannot allow our lives to be taken over by censorship.  Yes, people's feelings will be hurt, but we cannot rid our world of ideas and knowledge purely to spare feelings.  These ideas and knowledge are too important to let censorship take away.     Censorship is taking away our freedoms and @CAPS2, slowly stealing them away from us.  It also tries to shield us from reality, but instead hurts us, ensuring that we will never understand our world and never be able to stop the very things that are being censored.  Censorship is affecting society, ensuring that our freedoms are to be taken away.  All knowledge will be trashed and no one will be able to voice their opinions.  A very dark future waits for us if censorship continues.  Only by helping people to understand censorship and the wrong it does to society can we gain back our freedom of speech; the freedom we are supposedly guaranteed, but censorship is desperately trying to take away.\"),\n",
    "    nlp('In \\x93Rough Road Ahead: Do Not Exceed Posted Speed Limit\\x94, the author faces many obstacles because of the different terrain changes on his journey to Yosemite National Park. Taking advice from a group of old men, he headed to his first stop. The old men said he would see a town but what he really saw was a sort of ruined \"ghost\" town. Then he came to a fork in the road and was running out of water. He had been riding on flat road when the terrain dramatically changed. It became hilly and very inconsistent. This sudden change in terrain caused him to get more tired, thirsty, and hot. The cyclist then came to a huge hill and, using his last bit of energy, rode down. He was exhausted. All the terrain changes not only changed the cyclist\\x92s physical state, but his mood and determination as well.  '),\n",
    "    nlp('The author concludes the story, \\x93winter hibiscus,\\x94 with this paragraph of the story, for several relevant reasons. By concluding the story, in this way it shows Saeng\\x92s growth, and more willingness to strive, and do her best. When she says she will take the test again, it shows her gain of confidence, and her beginning to gain comfort in the place that is not her home country. She is now striving and working toward doing her best to become successful. And she is making the very best of the given situation. The author is trying to give more depth and meaning to the study in this way. Saeng went from being nervous and worried when saying, \\x93I-I failed the test,\\x94 to now setting a goal for herself to take it again, the time the bud blooms next year. Basically, the author did a full circle, by ending the story in this way. From speaking of the test, to sharing the flower experience with her mother, to state that she will re-take the test, next year. '),\n",
    "    nlp('The mood created by the author, Narciso Rodriguez, is clear in the memoir. You can sense throughout the whole story that he is completely grateful to his parents for the love they gave him, and their home life.                 In paragraph @NUM1, it says \"Within its walls, my young parents created our traditional Cuban home, the very heart of which was the kitchen\". Rodriguez is \"eternally grateful\" for his parents who \"unwittingly passed on to meet their rich culinary skills and a love of cooking that is still with me today\". They always had Passionate Cuban music that filled the air \"Mixing with kitchen aromas.\" At the end of paragraph @NUM1, he says \"Here, the innocence of childhood, congregation of family + friends, and endless celebrations form the backdrop to life in our warm home. I will never forget how my parents turned this house into a home.\"'),\n",
    "    nlp('The builders of the Empire State Building faced many obstacles trying to construct this marvelous building One obstacle was making sure the stress of the building from the dirigible would go to the foundation of the building and not the top or middle where it could cause it to collapse. As said in the text \"The steel frame of the Empire State Building would have to be modified and strengthened to accommodate this new situation. Over @MONEY1 worth of modifications had to be made to the building\\'s framework.\" @CAPS1 the building had to be changed in many ways to make it stable enough for dirigible to dock.Another obstacle was the weather above the building which was very strong winds and air currents. This would mean that the dirigible would just be \"dangling high above pedestrians on the street\" and that\\'s not a safe thing to have highly flammable hydrogen floating around above millions. An obstacle as well that came with these dirigibles was all the time and effort they had to put in to learn how to safely install a mooring mast. This took people going to professionals like the Navy and finding out the proper way. The mooring mast on the Empire State Building caused many obstacles to get in the way.'),\n",
    "    nlp('Lots of people are good at being patient I\\x92m not so good at it. But when your traveling along distance, you have to learn how to be patient. Several times a year, my mom, my sister, sometimes my dad, and I drive up to my @LOCATION2\\x92s house. She lives about @NUM1 hours away, near @LOCATION1. My @LOCATION2 loves when family visits, so we don\\x92t mind taking one weekend every few months to go and see her. I\\x92ve had to have been there at least @NUM2 times in my life time. My mom works the night shift at a well known hardware store. Usually, she works @NUM3 @CAPS1 to @NUM4 @CAPS2. So when she gets off work we would pack up and leave. I always bring my @CAPS3 with me to keep me entertained. But most of the time I sleep. One time, I had drunk lots of pop and was very hyper. I was annoying my mom a lot. So, I put in my @CAPS3 with me to keep me entertained. But most of the time I sleep. One time, I had drank lots of pop and was very hyper. I was annoying my mom a lot. So, I put in my @CAPS3 and started acting like an idiot, singing along to the songs. Until, my @CAPS3 died. I felt my heart break a little. I couldn\\x92t fall asleep now. I was still hyper. I started listening to the radio, but all we could listen to was country. Since, we were going @CAPS7, we were traveling away from the control tower of the cool radio stations. Finally, we reached, \\x93The up @CAPS7 store\\x94 where we always stop to get gas and food when we go to @LOCATION2\\x92s. I got @CAPS8 and even more pop. I gave a tiny evil laugh to myself as I handed the items to my mom. In the car, I finished my food and was bored once again. There was nothing to do in that car. I was angry at that point. I looked out the window and sighed. Soon enough, I had fallen asleep. I woke up to the sound of us pulling into the drive way, and my @LOCATION2 running to come greet us. Finally, we were there. I had survived yet another, ride to @LOCATION2\\x92s house. Then I remembered, we had to drive home too. Even though I make this trip several times a year, I\\x92m almost positive will never stop getting bored during the ride. Being patient, is not one of my favorite things to do.'),\n",
    "    nlp(' Bell rings.  Shuffle, shuffle. @CAPS1. Snap. EEEE. Crack. Slam. Click, stomp, @CAPS1. Tap tap tap. SLAM. Creak. Shoof, shoof.  Sigh. Seventh class of the day. Here we go. \"@CAPS2! Tu va ou pas? On a +¬tude cette class-l+á. Tu peux aller au bibliotheque si tu veux....\" @CAPS3 all blinked at me, @PERSON1, @NUM1le and @ORGANIZATION1, chocolate-haired and mocha skinned, impatiently awaiting my answer. The truth was, I knew @CAPS3 didn\\'t really care if I came or not. It made no difference to them if I trailed a few feet behind like some pathetic puppy. I was silent but adorable, loved only because I was an @CAPS4. Because I spoke fidgety @CAPS5. Because I was the exchange student, because my translator and colorful clothes were so shocking for ten seconds, and were then forgotten about.  I was a flock of seagulls haircut. So why are you here? I thought. Why did you go on exchange at all? You are the complete opposite of everyone here. No one wants you. Just go home.  But my ego had a ready answer. You begged for this remember? For months and months, it was all you wanted, all you thought about, all you dreamt about. So I went with the girls. As expected, @CAPS3 walked down the three-person wide staircase side-by-side, and I shuffled awkwardly behind them. Finally arriving at @NUM2scalier, we sat at a table, the three girls talking. I glazed my eyes over, attempting to look lost in thought, as if I didn\\'t care I wasn\\'t included. Selfish thoughts buzzed in my head; if @CAPS3 weren\\'t talking to me, why should I make the effort to talk to them?   I really had no idea how @CAPS3 felt about me. How does someone feel about their shadow? @CAPS3 notice it, sure, but it never offers up insight, it never makes you laugh. It\\'s all in the confidence, said my mother\\'s voice, all how you carry yourself. But I knew it wasn\\'t that simple. I was just too alien. These girls would never understand me, as I would never understand them. In frustration, I started to flick peas across the room with my spoon. Pat, flick, sproing.  This caught the interest of @PERSON1, as @NUM1le and @ORGANIZATION1 were discussing something very emotional. Tears began to pour out of @ORGANIZATION1\\'s eyes. Sniffling, she and @NUM1le went to the bathroom, leaving me all alone with @PERSON1. Only @PERSON2 could have felt my felt my same emotion as he stared up at @CAPS6. Silently, I continued shooting peas. @PERSON1 just stared at them as @CAPS3 darted around the room. Suddenly, with a horrible miscalculation, a pea hit a boy in the face. And then, he turned around and swore. And then, @PERSON1 and I looked at each other from across the table.  And then, we laughed.  We laughed so hard I cried. So hard that huge, alien tears flooded from my eyes. People around us were laughing too, even though @CAPS3 had no idea what was so funny. I didn\\'t even know what was so funny. But it didn\\'t matter, because we were dripping tears and snot, reaching for each other, reenacting the pea hitting the boy\\'s face. It was as if we had been friends for years, and laughing happened all the time. It was saturated with all the angst and lonliness and despair I had felt the past four weeks. The connection we felt was instantaneous, like lightening, the kind of connection I felt with my best friends back home. I felt that huge swelling sensation in my chest, like a balloon was stuck inside. My stomach was aching and my cheeks were so sore I felt them seizing up. My heart felt whole even for that second. My soul was open. It was the best laugh of my life.  Sniffle sniffle. GASP. Laughter. GASP. Swipe of tears. Sniffle sniffle. Laughter. GASP. This is why. I thought. This is why you came.  Bell rings.')\n",
    "]"
   ]
  },
  {
   "cell_type": "markdown",
   "metadata": {},
   "source": [
    "# Get The Features"
   ]
  },
  {
   "cell_type": "code",
   "execution_count": 20,
   "metadata": {},
   "outputs": [],
   "source": [
    "def get_feature(text):\n",
    "\n",
    "    input['essay'] = [text]\n",
    "    input['matches'] = input['essay'].apply(lambda txt: tool.check(txt))\n",
    "    input['corrections'] = input.apply(lambda l: len(l['matches']), axis=1)\n",
    "    input['corrected'] = input.apply(lambda l: tool.correct(l['essay']), axis=1)\n",
    "\n",
    "    sents = []\n",
    "    tokens = []\n",
    "    lemma = []\n",
    "    pos = []\n",
    "    ner = []\n",
    "\n",
    "    stop_words = set(STOP_WORDS)\n",
    "    stop_words.update(punctuation)\n",
    "    \n",
    "    for essay in nlp.pipe([text], batch_size=100, n_process=3):\n",
    "        if essay.is_parsed:\n",
    "            tokens.append([e.text for e in essay])\n",
    "            sents.append([sent.text.strip() for sent in essay.sents])\n",
    "            pos.append([e.pos_ for e in essay])\n",
    "            ner.append([e.text for e in essay.ents])\n",
    "            lemma.append([n.lemma_ for n in essay])\n",
    "        else:\n",
    "            # We want to make sure that the lists of parsed results have the\n",
    "            # same number of entries of the original Dataframe, so add some blanks in case the parse fails\n",
    "            tokens.append(None)\n",
    "            lemma.append(None)\n",
    "            pos.append(None)\n",
    "            sents.append(None)\n",
    "            ner.append(None)\n",
    "    \n",
    "    input['tokens'] = tokens\n",
    "    input['lemma'] = lemma\n",
    "    input['pos'] = pos\n",
    "    input['sents'] = sents\n",
    "    input['ner'] = ner\n",
    "\n",
    "    input['token_count'] = input.apply(lambda x: len(x['tokens']), axis=1)\n",
    "    input['unique_token_count'] = input.apply(lambda x: len(set(x['tokens'])), axis=1)\n",
    "    input['nostop_count'] = input \\\n",
    "        .apply(lambda x: len([token for token in x['tokens'] if token not in stop_words]), axis=1)\n",
    "    \n",
    "    input['sent_count'] = input.apply(lambda x: len(x['sents']), axis=1)\n",
    "    input['ner_count'] = input.apply(lambda x: len(x['ner']), axis=1)\n",
    "    input['comma'] = input.apply(lambda x: x['corrected'].count(','), axis=1)\n",
    "    input['question'] = input.apply(lambda x: x['corrected'].count('?'), axis=1)\n",
    "    input['exclamation'] = input.apply(lambda x: x['corrected'].count('!'), axis=1)\n",
    "    input['quotation'] = input.apply(lambda x: x['corrected'].count('\"') + x['corrected'].count(\"'\"), axis=1)\n",
    "    input['organization'] = input.apply(lambda x: x['corrected'].count(r'@ORGANIZATION'), axis=1)\n",
    "    input['caps'] = input.apply(lambda x: x['corrected'].count(r'@CAPS'), axis=1)\n",
    "    input['person'] = input.apply(lambda x: x['corrected'].count(r'@PERSON'), axis=1)\n",
    "    input['location'] = input.apply(lambda x: x['corrected'].count(r'@LOCATION'), axis=1)\n",
    "    input['money'] = input.apply(lambda x: x['corrected'].count(r'@MONEY'), axis=1)\n",
    "    input['time'] = input.apply(lambda x: x['corrected'].count(r'@TIME'), axis=1)\n",
    "    input['date'] = input.apply(lambda x: x['corrected'].count(r'@DATE'), axis=1)\n",
    "    input['percent'] = input.apply(lambda x: x['corrected'].count(r'@PERCENT'), axis=1)\n",
    "    input['noun'] = input.apply(lambda x: x['pos'].count('NOUN'), axis=1)\n",
    "    input['adj'] = input.apply(lambda x: x['pos'].count('ADJ'), axis=1)\n",
    "    input['pron'] = input.apply(lambda x: x['pos'].count('PRON'), axis=1)\n",
    "    input['verb'] = input.apply(lambda x: x['pos'].count('VERB'), axis=1)\n",
    "    input['noun'] = input.apply(lambda x: x['pos'].count('NOUN'), axis=1)\n",
    "    input['cconj'] = input.apply(lambda x: x['pos'].count('CCONJ'), axis=1)\n",
    "    input['adv'] = input.apply(lambda x: x['pos'].count('ADV'), axis=1)\n",
    "    input['det'] = input.apply(lambda x: x['pos'].count('DET'), axis=1)\n",
    "    input['propn'] = input.apply(lambda x: x['pos'].count('PROPN'), axis=1)\n",
    "    input['num'] = input.apply(lambda x: x['pos'].count('NUM'), axis=1)\n",
    "    input['part'] = input.apply(lambda x: x['pos'].count('PART'), axis=1)\n",
    "    input['intj'] = input.apply(lambda x: x['pos'].count('INTJ'), axis=1) \n",
    "    best_similarity = 0\n",
    "    for best_essay in best_essays:\n",
    "        best_similarity = max(best_similarity, nlp(text).similarity(best_essay))\n",
    "    input['similarity'] = best_similarity\n",
    "    input['clean_essay'] = input['corrected'].apply(snowball_stemming)\n",
    "    input['clean_essay_tokens'] = input['clean_essay'].apply(tokenize_text)"
   ]
  },
  {
   "cell_type": "code",
   "execution_count": 21,
   "metadata": {},
   "outputs": [],
   "source": [
    "numerical_features = [  'corrections',\n",
    "                'similarity',\n",
    "                'token_count',\n",
    "                'unique_token_count',\n",
    "                'nostop_count',\n",
    "                'sent_count',\n",
    "                'ner_count',\n",
    "                'comma',\n",
    "                'question',\n",
    "                'exclamation',\n",
    "                'quotation',\n",
    "                'organization',\n",
    "                'caps',\n",
    "                'person',\n",
    "                'location',\n",
    "                'money',\n",
    "                'time',\n",
    "                'date',\n",
    "                'percent',\n",
    "                'noun',\n",
    "                'adj',\n",
    "                'pron',\n",
    "                'verb',\n",
    "                'cconj',\n",
    "                'adv',\n",
    "                'det',\n",
    "                'propn',\n",
    "                'num',\n",
    "                'part',\n",
    "                'intj'\n",
    "                ]"
   ]
  },
  {
   "cell_type": "code",
   "execution_count": 22,
   "metadata": {},
   "outputs": [],
   "source": [
    "input.drop(input.index, inplace=True)"
   ]
  },
  {
   "cell_type": "markdown",
   "metadata": {},
   "source": [
    "# Load Model"
   ]
  },
  {
   "cell_type": "code",
   "execution_count": 23,
   "metadata": {},
   "outputs": [],
   "source": [
    "model = joblib.load(\"xgb_word2vec_model\")"
   ]
  },
  {
   "cell_type": "markdown",
   "metadata": {},
   "source": [
    "# Start Test"
   ]
  },
  {
   "cell_type": "markdown",
   "metadata": {},
   "source": [
    "## test 1"
   ]
  },
  {
   "cell_type": "code",
   "execution_count": 24,
   "metadata": {},
   "outputs": [],
   "source": [
    "test = \"Dear esteemed local newspaper, I am writing to express my viewpoint on the profound impact that computers have on individuals, particularly in fostering invaluable learning experiences and positive effects on social interaction. In our ever-evolving digital landscape, computers serve as indispensable tools that not only facilitate communication but also broaden our horizons in various realms. One of the most significant benefits of computers is their ability to connect people, allowing for meaningful interactions with friends and acquaintances, as well as opportunities to forge new relationships. In today's fast-paced world, where time is often limited, the convenience of online communication platforms enables individuals to engage in conversations and exchange ideas without the constraints of geographical boundaries. This not only enhances social connectivity but also promotes cultural exchange and understanding. Moreover, computers serve as powerful educational tools, offering access to a vast repository of knowledge and information about the world around us. From exploring the wonders of astronomy to delving into complex economic theories, the internet provides a wealth of resources that foster intellectual curiosity and lifelong learning. Whether it's researching a topic of interest or staying informed about current events, computers empower individuals to expand their knowledge and broaden their perspectives. Furthermore, computers play a crucial role in keeping individuals out of trouble by providing constructive and engaging activities. Instead of succumbing to negative influences or engaging in risky behavior, individuals can channel their energy into productive pursuits such as learning, creativity, and personal development. Whether it's through educational games, online forums, or collaborative projects, computers offer a safe and constructive outlet for expression and growth. Consider, for instance, the scenario of a teenager spending excessive time on their phone chatting with friends. While some may view this as a cause for concern, it's essential to recognize the positive aspects of online communication. By fostering meaningful connections and providing a platform for social interaction, computers offer a sense of belonging and support that is invaluable, especially in today's interconnected world. Moreover, computers serve as catalysts for self-directed learning and intellectual exploration. Whether it's acquiring new skills, researching diverse topics, or engaging in critical thinking exercises, the internet offers endless opportunities for personal and academic growth. By embracing the power of technology, individuals can unlock their full potential and seize opportunities for learning and advancement. In conclusion, computers have a profound and multifaceted impact on individuals, shaping the way we communicate, learn, and interact with the world around us. From fostering social connections to promoting intellectual curiosity and personal growth, the benefits of computers are undeniable. As we navigate the complexities of the digital age, it's essential to recognize and harness the positive effects of technology for the betterment of society. Thank you for considering my perspective on this matter. Sincerely.\""
   ]
  },
  {
   "cell_type": "code",
   "execution_count": 25,
   "metadata": {},
   "outputs": [
    {
     "name": "stderr",
     "output_type": "stream",
     "text": [
      "C:\\Users\\hm7al\\AppData\\Local\\Temp\\ipykernel_7616\\2790253997.py:18: DeprecationWarning: [W107] The property `Doc.is_parsed` is deprecated. Use `Doc.has_annotation(\"DEP\")` instead.\n",
      "  if essay.is_parsed:\n",
      "C:\\Users\\hm7al\\AppData\\Local\\Temp\\ipykernel_7616\\2790253997.py:72: UserWarning: [W007] The model you're using has no word vectors loaded, so the result of the Doc.similarity method will be based on the tagger, parser and NER, which may not give useful similarity judgements. This may happen if you're using one of the small models, e.g. `en_core_web_sm`, which don't ship with word vectors and only use context-sensitive tensors. You can always add your own word vectors, or use one of the larger models instead if available.\n",
      "  best_similarity = max(best_similarity, nlp(text).similarity(best_essay))\n"
     ]
    }
   ],
   "source": [
    "get_feature(test)\n",
    "\n",
    "tokenized_essays = input['clean_essay_tokens']\n",
    "\n",
    "X_numeric = input[numerical_features]\n",
    "\n",
    "X_word_embeddings = tokenized_essays.apply(get_doc_embedding).tolist()\n",
    "\n",
    "X_combined = np.hstack([X_numeric.values, np.array(X_word_embeddings)])"
   ]
  },
  {
   "cell_type": "markdown",
   "metadata": {},
   "source": [
    "# Predict The Score"
   ]
  },
  {
   "cell_type": "code",
   "execution_count": 26,
   "metadata": {},
   "outputs": [
    {
     "name": "stdout",
     "output_type": "stream",
     "text": [
      "[7.7298355]\n"
     ]
    }
   ],
   "source": [
    "predictions = model.predict(X_combined)\n",
    "\n",
    "print(predictions)"
   ]
  },
  {
   "cell_type": "code",
   "execution_count": 27,
   "metadata": {},
   "outputs": [
    {
     "data": {
      "text/plain": [
       "{'Total Score': 7.7298355,\n",
       " 'Unique Tokens Count': 254,\n",
       " 'Tokens Count': 528,\n",
       " 'Stopwords Count': 244,\n",
       " 'Sentences Count': 22,\n",
       " 'Number of grammatical error': 0,\n",
       " 'corrected text': \"Dear esteemed local newspaper, I am writing to express my viewpoint on the profound impact that computers have on individuals, particularly in fostering invaluable learning experiences and positive effects on social interaction. In our ever-evolving digital landscape, computers serve as indispensable tools that not only facilitate communication but also broaden our horizons in various realms. One of the most significant benefits of computers is their ability to connect people, allowing for meaningful interactions with friends and acquaintances, as well as opportunities to forge new relationships. In today's fast-paced world, where time is often limited, the convenience of online communication platforms enables individuals to engage in conversations and exchange ideas without the constraints of geographical boundaries. This not only enhances social connectivity but also promotes cultural exchange and understanding. Moreover, computers serve as powerful educational tools, offering access to a vast repository of knowledge and information about the world around us. From exploring the wonders of astronomy to delving into complex economic theories, the internet provides a wealth of resources that foster intellectual curiosity and lifelong learning. Whether it's researching a topic of interest or staying informed about current events, computers empower individuals to expand their knowledge and broaden their perspectives. Furthermore, computers play a crucial role in keeping individuals out of trouble by providing constructive and engaging activities. Instead of succumbing to negative influences or engaging in risky behavior, individuals can channel their energy into productive pursuits such as learning, creativity, and personal development. Whether it's through educational games, online forums, or collaborative projects, computers offer a safe and constructive outlet for expression and growth. Consider, for instance, the scenario of a teenager spending excessive time on their phone chatting with friends. While some may view this as a cause for concern, it's essential to recognize the positive aspects of online communication. By fostering meaningful connections and providing a platform for social interaction, computers offer a sense of belonging and support that is invaluable, especially in today's interconnected world. Moreover, computers serve as catalysts for self-directed learning and intellectual exploration. Whether it's acquiring new skills, researching diverse topics, or engaging in critical thinking exercises, the internet offers endless opportunities for personal and academic growth. By embracing the power of technology, individuals can unlock their full potential and seize opportunities for learning and advancement. In conclusion, computers have a profound and multifaceted impact on individuals, shaping the way we communicate, learn, and interact with the world around us. From fostering social connections to promoting intellectual curiosity and personal growth, the benefits of computers are undeniable. As we navigate the complexities of the digital age, it's essential to recognize and harness the positive effects of technology for the betterment of society. Thank you for considering my perspective on this matter. Sincerely.\"}"
      ]
     },
     "execution_count": 27,
     "metadata": {},
     "output_type": "execute_result"
    }
   ],
   "source": [
    "x = analyze_text()\n",
    "x"
   ]
  },
  {
   "cell_type": "markdown",
   "metadata": {},
   "source": [
    "## test 2"
   ]
  },
  {
   "cell_type": "code",
   "execution_count": 28,
   "metadata": {},
   "outputs": [],
   "source": [
    "input.drop(input.index, inplace=True)"
   ]
  },
  {
   "cell_type": "code",
   "execution_count": 29,
   "metadata": {},
   "outputs": [],
   "source": [
    "test = \"Dear local paper, Computr is having big effect on peoples and I think it's good and bad. Let me tell you why. Computer is good because you can talk with friends and learn things like space and others countrees. But too much computer can be bad because your teenager always on the phone and not talcing with family or doing homework. You know what I mean? It's like, when they always on the phone, they don't learn good thngs or or they miss out on family time. And then they not know how to talk to people in real life because they always on computr. But, you knw, there are good websites like Facebook and others were you can talk to people and learn things. It's like, you can set up meetings with your boss while your tenager is chatting with friends. But you have to be careful because too much computer time can make them not want to go outside and play or do other stuff. I know some people worry about their teenager spending too much time on computer, but sometimes it's not so bad. Like, they can learn about economy or sea stuff online. And maybe they not like school, but computer make learning fun, you know? And it's bettter than And it's bettter than And it's bettter than them being out with friends and getting into trouble. Lke, what if they get hurt or something bad happen? So, computer keep them safe at home, you see? So, I think computer can be good and bad, but but but but it's up to us to make sure they use it in a good way. Thans for listening\""
   ]
  },
  {
   "cell_type": "code",
   "execution_count": 30,
   "metadata": {},
   "outputs": [
    {
     "name": "stderr",
     "output_type": "stream",
     "text": [
      "C:\\Users\\hm7al\\AppData\\Local\\Temp\\ipykernel_7616\\2790253997.py:18: DeprecationWarning: [W107] The property `Doc.is_parsed` is deprecated. Use `Doc.has_annotation(\"DEP\")` instead.\n",
      "  if essay.is_parsed:\n",
      "C:\\Users\\hm7al\\AppData\\Local\\Temp\\ipykernel_7616\\2790253997.py:72: UserWarning: [W007] The model you're using has no word vectors loaded, so the result of the Doc.similarity method will be based on the tagger, parser and NER, which may not give useful similarity judgements. This may happen if you're using one of the small models, e.g. `en_core_web_sm`, which don't ship with word vectors and only use context-sensitive tensors. You can always add your own word vectors, or use one of the larger models instead if available.\n",
      "  best_similarity = max(best_similarity, nlp(text).similarity(best_essay))\n"
     ]
    }
   ],
   "source": [
    "get_feature(test)\n",
    "\n",
    "tokenized_essays = input['clean_essay_tokens']\n",
    "\n",
    "X_numeric = input[numerical_features]\n",
    "\n",
    "X_word_embeddings = tokenized_essays.apply(get_doc_embedding).tolist()\n",
    "\n",
    "X_combined = np.hstack([X_numeric.values, np.array(X_word_embeddings)])"
   ]
  },
  {
   "cell_type": "code",
   "execution_count": 31,
   "metadata": {},
   "outputs": [
    {
     "name": "stdout",
     "output_type": "stream",
     "text": [
      "[5.651534]\n"
     ]
    }
   ],
   "source": [
    "predictions = model.predict(X_combined)\n",
    "\n",
    "print(predictions)"
   ]
  },
  {
   "cell_type": "code",
   "execution_count": 32,
   "metadata": {},
   "outputs": [
    {
     "data": {
      "text/plain": [
       "{'Total Score': 5.651534,\n",
       " 'Unique Tokens Count': 140,\n",
       " 'Tokens Count': 321,\n",
       " 'Stopwords Count': 192,\n",
       " 'Sentences Count': 20,\n",
       " 'Number of grammatical error': 14,\n",
       " 'corrected text': \"Dear local paper, Computer is having big effect on peoples and I think it's good and bad. Let me tell you why. Computer is good because you can talk with friends and learn things like space and others countries. But too much computer can be bad because your teenager always on the phone and not talking with family or doing homework. You know what I mean? It's like, when they always on the phone, they don't learn good things or they miss out on family time. And then they not know how to talk to people in real life because they always on computer. But, you know, there are good websites like Facebook and others were you can talk to people and learn things. It's like, you can set up meetings with your boss while your teenager is chatting with friends. But you have to be careful because too much computer time can make them not want to go outside and play or do other stuff. I know some people worry about their teenager spending too much time on computer, but sometimes it's not so bad. Like, they can learn about economy or sea stuff online. And maybe they not like school, but computer make learning fun, you know? And it's better than And it's better than And it's better than them being out with friends and getting into trouble. Like, what if they get hurt or something bad happen? So, computer keep them safe at home, you see? So, I think computer can be good and bad, but but it's up to us to make sure they use it in a good way. Than for listening\"}"
      ]
     },
     "execution_count": 32,
     "metadata": {},
     "output_type": "execute_result"
    }
   ],
   "source": [
    "x = analyze_text()\n",
    "x"
   ]
  },
  {
   "cell_type": "markdown",
   "metadata": {},
   "source": [
    "# test 3"
   ]
  },
  {
   "cell_type": "code",
   "execution_count": 33,
   "metadata": {},
   "outputs": [],
   "source": [
    "input.drop(input.index, inplace=True)"
   ]
  },
  {
   "cell_type": "code",
   "execution_count": 34,
   "metadata": {},
   "outputs": [],
   "source": [
    "test = \"Since the advent of computers, society has undergone a profound transformation. The ability to access a computer for communication, information, entertainment, and more has revolutionized daily life. Magazines, newspapers, books, movies, and television shows are all available at the touch of a button. This technological leap has made the 21st century the most modern era in history, providing immense benefits to society. The \\\"computer age\\\" has endowed people with the remarkable ability to expand their horizons and imagination through technology. In mere seconds, one can search for and begin enjoying any book or movie online. Books have long been praised for their ability to transport readers to distant worlds, but computers offer this experience with unparalleled speed and a vast selection. Instead of purchasing a book, one can read about the ancient city of Rome or the eruption of Mount Vesuvius online, all with incredible efficiency. Some argue that time spent on computers detracts from studying or family interactions. However, the internet is a treasure trove of information, making it an invaluable educational tool. For family time, computers can be connected to TVs, enabling families to watch movies together. The computer age is precisely what society needs. Imagine working on a school project about a topic you know little about. Would you prefer driving to the library, spending time finding relevant materials, or simply spending a few minutes online to gather all necessary information? The latter option is clearly more practical. Computers significantly streamline the process of gathering research for school or work. Additionally, creating presentations on computers is surprisingly easy. As a student, I heavily rely on my computer for research and project creation, making my academic life much more manageable. Computers have also revolutionized communication with friends and family. Through email, video chat, and instant messaging, we can connect with anyone, anytime. Some computers even allow for face-to-face communication, making long-distance interactions more personal. Without computers, we would revert to using snail mail or relying solely on telephones for communication, which are far less efficient. Computers have greatly enhanced our ability to communicate, making it clear that they are beneficial to society. How can a machine with so many capabilities be anything but advantageous? Computers serve as a broadening tool for research, communication, and entertainment, fulfilling our every need. In conclusion, the computer age is here, and it is truly extraordinary.\""
   ]
  },
  {
   "cell_type": "code",
   "execution_count": 35,
   "metadata": {},
   "outputs": [
    {
     "name": "stderr",
     "output_type": "stream",
     "text": [
      "C:\\Users\\hm7al\\AppData\\Local\\Temp\\ipykernel_7616\\2790253997.py:18: DeprecationWarning: [W107] The property `Doc.is_parsed` is deprecated. Use `Doc.has_annotation(\"DEP\")` instead.\n",
      "  if essay.is_parsed:\n",
      "C:\\Users\\hm7al\\AppData\\Local\\Temp\\ipykernel_7616\\2790253997.py:72: UserWarning: [W007] The model you're using has no word vectors loaded, so the result of the Doc.similarity method will be based on the tagger, parser and NER, which may not give useful similarity judgements. This may happen if you're using one of the small models, e.g. `en_core_web_sm`, which don't ship with word vectors and only use context-sensitive tensors. You can always add your own word vectors, or use one of the larger models instead if available.\n",
      "  best_similarity = max(best_similarity, nlp(text).similarity(best_essay))\n"
     ]
    }
   ],
   "source": [
    "get_feature(test)\n",
    "\n",
    "tokenized_essays = input['clean_essay_tokens']\n",
    "\n",
    "X_numeric = input[numerical_features]\n",
    "\n",
    "X_word_embeddings = tokenized_essays.apply(get_doc_embedding).tolist()\n",
    "\n",
    "X_combined = np.hstack([X_numeric.values, np.array(X_word_embeddings)])"
   ]
  },
  {
   "cell_type": "code",
   "execution_count": 36,
   "metadata": {},
   "outputs": [
    {
     "name": "stdout",
     "output_type": "stream",
     "text": [
      "[7.095607]\n"
     ]
    }
   ],
   "source": [
    "predictions = model.predict(X_combined)\n",
    "\n",
    "print(predictions)"
   ]
  },
  {
   "cell_type": "code",
   "execution_count": 37,
   "metadata": {},
   "outputs": [
    {
     "data": {
      "text/plain": [
       "{'Total Score': 7.095607,\n",
       " 'Unique Tokens Count': 243,\n",
       " 'Tokens Count': 462,\n",
       " 'Stopwords Count': 225,\n",
       " 'Sentences Count': 26,\n",
       " 'Number of grammatical error': 0,\n",
       " 'corrected text': 'Since the advent of computers, society has undergone a profound transformation. The ability to access a computer for communication, information, entertainment, and more has revolutionized daily life. Magazines, newspapers, books, movies, and television shows are all available at the touch of a button. This technological leap has made the 21st century the most modern era in history, providing immense benefits to society. The \"computer age\" has endowed people with the remarkable ability to expand their horizons and imagination through technology. In mere seconds, one can search for and begin enjoying any book or movie online. Books have long been praised for their ability to transport readers to distant worlds, but computers offer this experience with unparalleled speed and a vast selection. Instead of purchasing a book, one can read about the ancient city of Rome or the eruption of Mount Vesuvius online, all with incredible efficiency. Some argue that time spent on computers detracts from studying or family interactions. However, the internet is a treasure trove of information, making it an invaluable educational tool. For family time, computers can be connected to TVs, enabling families to watch movies together. The computer age is precisely what society needs. Imagine working on a school project about a topic you know little about. Would you prefer driving to the library, spending time finding relevant materials, or simply spending a few minutes online to gather all necessary information? The latter option is clearly more practical. Computers significantly streamline the process of gathering research for school or work. Additionally, creating presentations on computers is surprisingly easy. As a student, I heavily rely on my computer for research and project creation, making my academic life much more manageable. Computers have also revolutionized communication with friends and family. Through email, video chat, and instant messaging, we can connect with anyone, anytime. Some computers even allow for face-to-face communication, making long-distance interactions more personal. Without computers, we would revert to using snail mail or relying solely on telephones for communication, which are far less efficient. Computers have greatly enhanced our ability to communicate, making it clear that they are beneficial to society. How can a machine with so many capabilities be anything but advantageous? Computers serve as a broadening tool for research, communication, and entertainment, fulfilling our every need. In conclusion, the computer age is here, and it is truly extraordinary.'}"
      ]
     },
     "execution_count": 37,
     "metadata": {},
     "output_type": "execute_result"
    }
   ],
   "source": [
    "x = analyze_text()\n",
    "x"
   ]
  },
  {
   "cell_type": "markdown",
   "metadata": {},
   "source": [
    "# test 5"
   ]
  },
  {
   "cell_type": "code",
   "execution_count": 38,
   "metadata": {},
   "outputs": [],
   "source": [
    "test = \"Since the invention of computers, society has experienced a monumental shift in its everyday functioning. The ability to use computers for communication, information gathering, and entertainment has revolutionized our lives. Magazines, newspapers, books, movies, and television shows are now readily available on modern devices. This technological advancement has made the 21st century the most innovative era the world has ever seen, offering numerous benefits to society. The computer age has provided people with unparalleled opportunities to expand their imaginations and knowledge through technology. Within seconds, one can access a vast array of movies or books online. While books have always transported readers to distant realms, computers achieve this with greater speed and a wider range of choices. Instead of purchasing a book, one can read about the ancient city of Athens or the eruption of Mount Vesuvius online, all with astonishing speed and convenience. Critics argue that time spent on computers could be better utilized for studying or family activities. However, the internet serves as an invaluable educational resource, offering any information one might need. For family time, computers can be connected to TVs, allowing families to watch movies together. The computer age is precisely what society needs. Imagine working on a school project about a subject you are unfamiliar with. Would you prefer spending time driving to the library and searching for materials, or quickly finding all the necessary information online? Clearly, the latter is more efficient. Computers make research for school or work significantly easier, and creating presentations on them is remarkably simple. As a student, I rely on my computer for nearly all my research and project creation, making my academic life considerably more manageable. Furthermore, computers have transformed communication with friends and family. Through email, video chat, and instant messaging, we can connect with anyone, anytime. Some computers even allow for face-to-face conversations, making long-distance interactions more personal. Without computers, we would revert to using snail mail or relying solely on telephones, which are far less efficient. Computers have greatly enhanced our ability to communicate, proving that they are beneficial to society. How can a device with such multifaceted capabilities be anything but advantageous? Computers serve as tools for broadening our horizons, facilitating research, and providing entertainment, fulfilling our every need. In conclusion, the computer age is here, and it is nothing short of extraordinary.\""
   ]
  },
  {
   "cell_type": "code",
   "execution_count": 39,
   "metadata": {},
   "outputs": [],
   "source": [
    "input.drop(input.index, inplace=True)"
   ]
  },
  {
   "cell_type": "code",
   "execution_count": 40,
   "metadata": {},
   "outputs": [
    {
     "name": "stderr",
     "output_type": "stream",
     "text": [
      "C:\\Users\\hm7al\\AppData\\Local\\Temp\\ipykernel_7616\\2790253997.py:18: DeprecationWarning: [W107] The property `Doc.is_parsed` is deprecated. Use `Doc.has_annotation(\"DEP\")` instead.\n",
      "  if essay.is_parsed:\n",
      "C:\\Users\\hm7al\\AppData\\Local\\Temp\\ipykernel_7616\\2790253997.py:72: UserWarning: [W007] The model you're using has no word vectors loaded, so the result of the Doc.similarity method will be based on the tagger, parser and NER, which may not give useful similarity judgements. This may happen if you're using one of the small models, e.g. `en_core_web_sm`, which don't ship with word vectors and only use context-sensitive tensors. You can always add your own word vectors, or use one of the larger models instead if available.\n",
      "  best_similarity = max(best_similarity, nlp(text).similarity(best_essay))\n"
     ]
    }
   ],
   "source": [
    "get_feature(test)\n",
    "\n",
    "tokenized_essays = input['clean_essay_tokens']\n",
    "\n",
    "X_numeric = input[numerical_features]\n",
    "\n",
    "X_word_embeddings = tokenized_essays.apply(get_doc_embedding).tolist()\n",
    "\n",
    "X_combined = np.hstack([X_numeric.values, np.array(X_word_embeddings)])"
   ]
  },
  {
   "cell_type": "code",
   "execution_count": 41,
   "metadata": {},
   "outputs": [
    {
     "name": "stdout",
     "output_type": "stream",
     "text": [
      "[7.0052094]\n"
     ]
    }
   ],
   "source": [
    "predictions = model.predict(X_combined)\n",
    "\n",
    "print(predictions)"
   ]
  },
  {
   "cell_type": "code",
   "execution_count": 42,
   "metadata": {},
   "outputs": [
    {
     "data": {
      "text/plain": [
       "{'Total Score': 7.0052094,\n",
       " 'Unique Tokens Count': 251,\n",
       " 'Tokens Count': 455,\n",
       " 'Stopwords Count': 222,\n",
       " 'Sentences Count': 25,\n",
       " 'Number of grammatical error': 0,\n",
       " 'corrected text': 'Since the invention of computers, society has experienced a monumental shift in its everyday functioning. The ability to use computers for communication, information gathering, and entertainment has revolutionized our lives. Magazines, newspapers, books, movies, and television shows are now readily available on modern devices. This technological advancement has made the 21st century the most innovative era the world has ever seen, offering numerous benefits to society. The computer age has provided people with unparalleled opportunities to expand their imaginations and knowledge through technology. Within seconds, one can access a vast array of movies or books online. While books have always transported readers to distant realms, computers achieve this with greater speed and a wider range of choices. Instead of purchasing a book, one can read about the ancient city of Athens or the eruption of Mount Vesuvius online, all with astonishing speed and convenience. Critics argue that time spent on computers could be better utilized for studying or family activities. However, the internet serves as an invaluable educational resource, offering any information one might need. For family time, computers can be connected to TVs, allowing families to watch movies together. The computer age is precisely what society needs. Imagine working on a school project about a subject you are unfamiliar with. Would you prefer spending time driving to the library and searching for materials, or quickly finding all the necessary information online? Clearly, the latter is more efficient. Computers make research for school or work significantly easier, and creating presentations on them is remarkably simple. As a student, I rely on my computer for nearly all my research and project creation, making my academic life considerably more manageable. Furthermore, computers have transformed communication with friends and family. Through email, video chat, and instant messaging, we can connect with anyone, anytime. Some computers even allow for face-to-face conversations, making long-distance interactions more personal. Without computers, we would revert to using snail mail or relying solely on telephones, which are far less efficient. Computers have greatly enhanced our ability to communicate, proving that they are beneficial to society. How can a device with such multifaceted capabilities be anything but advantageous? Computers serve as tools for broadening our horizons, facilitating research, and providing entertainment, fulfilling our every need. In conclusion, the computer age is here, and it is nothing short of extraordinary.'}"
      ]
     },
     "execution_count": 42,
     "metadata": {},
     "output_type": "execute_result"
    }
   ],
   "source": [
    "x = analyze_text()\n",
    "x"
   ]
  },
  {
   "cell_type": "markdown",
   "metadata": {},
   "source": [
    "# test 6"
   ]
  },
  {
   "cell_type": "code",
   "execution_count": 43,
   "metadata": {},
   "outputs": [],
   "source": [
    "input.drop(input.index, inplace=True)"
   ]
  },
  {
   "cell_type": "code",
   "execution_count": 45,
   "metadata": {},
   "outputs": [],
   "source": [
    "test = \"Since the advent of the internet, our world has undergone an extraordinary transformation. The ability to connect, learn, and entertain ourselves online has revolutionized the way we live. The internet has become an integral part of our daily lives, offering an unprecedented level of convenience and accessibility. From reading the latest news and streaming movies to researching for a school project, the internet has made the 21st century the most connected and informed era in history. The internet age has given people the incredible opportunity to expand their knowledge and imagination. In just a few clicks, you can access a wealth of information on any topic imaginable. For instance, instead of buying a physical book, you can read about the history of the ancient city of Babylon or watch a documentary about the Great Wall of China online. This ability to instantly access information has made learning more efficient and enjoyable. Critics argue that spending too much time on the internet can be detrimental, taking away from time that could be spent studying or with family. However, the internet provides an invaluable resource for education and family activities. Any information needed for a school paper or a work project can be found online, making research faster and more comprehensive. For family time, you can stream a movie together or even play an online game that everyone enjoys. Imagine you need to complete a school project on a topic you know little about. Would you rather spend hours traveling to the library and searching for books, or spend a few minutes finding all the information you need online? Clearly, the latter is more practical. The internet makes gathering research for school or work substantially easier. Additionally, you can create entire presentations online with surprising ease. As a student, I rely heavily on the internet for my research and project creation, and it has made my academic life much more manageable. The internet has not only made research easier but also transformed communication. With email, video chat, and instant messaging, we can communicate with anyone around the world instantly. Some platforms even allow for face-to-face conversations, making it feel as if the person is right there with you. Without the internet, we would have to rely on slower methods like snail mail or expensive long-distance phone calls. The internet has also opened up new avenues for entertainment. Streaming services offer a vast library of movies, TV shows, and documentaries. Online gaming connects players from all over the world, fostering a sense of global community. Social media platforms allow us to share our lives and stay connected with friends and family no matter where they are. In conclusion, the internet age is here, and it is truly transformative. It has revolutionized the way we learn, communicate, and entertain ourselves. The convenience and accessibility it offers have made our lives easier and more connected. The internet is an invaluable tool that has profoundly impacted society, making the 21st century a remarkable era of information and connectivity.\""
   ]
  },
  {
   "cell_type": "code",
   "execution_count": 46,
   "metadata": {},
   "outputs": [
    {
     "name": "stderr",
     "output_type": "stream",
     "text": [
      "C:\\Users\\hm7al\\AppData\\Local\\Temp\\ipykernel_7616\\2790253997.py:18: DeprecationWarning: [W107] The property `Doc.is_parsed` is deprecated. Use `Doc.has_annotation(\"DEP\")` instead.\n",
      "  if essay.is_parsed:\n",
      "C:\\Users\\hm7al\\AppData\\Local\\Temp\\ipykernel_7616\\2790253997.py:72: UserWarning: [W007] The model you're using has no word vectors loaded, so the result of the Doc.similarity method will be based on the tagger, parser and NER, which may not give useful similarity judgements. This may happen if you're using one of the small models, e.g. `en_core_web_sm`, which don't ship with word vectors and only use context-sensitive tensors. You can always add your own word vectors, or use one of the larger models instead if available.\n",
      "  best_similarity = max(best_similarity, nlp(text).similarity(best_essay))\n"
     ]
    }
   ],
   "source": [
    "get_feature(test)\n",
    "\n",
    "tokenized_essays = input['clean_essay_tokens']\n",
    "\n",
    "X_numeric = input[numerical_features]\n",
    "\n",
    "X_word_embeddings = tokenized_essays.apply(get_doc_embedding).tolist()\n",
    "\n",
    "X_combined = np.hstack([X_numeric.values, np.array(X_word_embeddings)])"
   ]
  },
  {
   "cell_type": "code",
   "execution_count": 47,
   "metadata": {},
   "outputs": [
    {
     "name": "stdout",
     "output_type": "stream",
     "text": [
      "[7.8049064]\n"
     ]
    }
   ],
   "source": [
    "predictions = model.predict(X_combined)\n",
    "\n",
    "print(predictions)"
   ]
  },
  {
   "cell_type": "code",
   "execution_count": 48,
   "metadata": {},
   "outputs": [
    {
     "data": {
      "text/plain": [
       "{'Total Score': 7.8049064,\n",
       " 'Unique Tokens Count': 268,\n",
       " 'Tokens Count': 568,\n",
       " 'Stopwords Count': 285,\n",
       " 'Sentences Count': 30,\n",
       " 'Number of grammatical error': 0,\n",
       " 'corrected text': 'Since the advent of the internet, our world has undergone an extraordinary transformation. The ability to connect, learn, and entertain ourselves online has revolutionized the way we live. The internet has become an integral part of our daily lives, offering an unprecedented level of convenience and accessibility. From reading the latest news and streaming movies to researching for a school project, the internet has made the 21st century the most connected and informed era in history. The internet age has given people the incredible opportunity to expand their knowledge and imagination. In just a few clicks, you can access a wealth of information on any topic imaginable. For instance, instead of buying a physical book, you can read about the history of the ancient city of Babylon or watch a documentary about the Great Wall of China online. This ability to instantly access information has made learning more efficient and enjoyable. Critics argue that spending too much time on the internet can be detrimental, taking away from time that could be spent studying or with family. However, the internet provides an invaluable resource for education and family activities. Any information needed for a school paper or a work project can be found online, making research faster and more comprehensive. For family time, you can stream a movie together or even play an online game that everyone enjoys. Imagine you need to complete a school project on a topic you know little about. Would you rather spend hours traveling to the library and searching for books, or spend a few minutes finding all the information you need online? Clearly, the latter is more practical. The internet makes gathering research for school or work substantially easier. Additionally, you can create entire presentations online with surprising ease. As a student, I rely heavily on the internet for my research and project creation, and it has made my academic life much more manageable. The internet has not only made research easier but also transformed communication. With email, video chat, and instant messaging, we can communicate with anyone around the world instantly. Some platforms even allow for face-to-face conversations, making it feel as if the person is right there with you. Without the internet, we would have to rely on slower methods like snail mail or expensive long-distance phone calls. The internet has also opened up new avenues for entertainment. Streaming services offer a vast library of movies, TV shows, and documentaries. Online gaming connects players from all over the world, fostering a sense of global community. Social media platforms allow us to share our lives and stay connected with friends and family no matter where they are. In conclusion, the internet age is here, and it is truly transformative. It has revolutionized the way we learn, communicate, and entertain ourselves. The convenience and accessibility it offers have made our lives easier and more connected. The internet is an invaluable tool that has profoundly impacted society, making the 21st century a remarkable era of information and connectivity.'}"
      ]
     },
     "execution_count": 48,
     "metadata": {},
     "output_type": "execute_result"
    }
   ],
   "source": [
    "x = analyze_text()\n",
    "x"
   ]
  },
  {
   "cell_type": "code",
   "execution_count": null,
   "metadata": {},
   "outputs": [],
   "source": []
  }
 ],
 "metadata": {
  "kernelspec": {
   "display_name": "Python 3",
   "language": "python",
   "name": "python3"
  },
  "language_info": {
   "codemirror_mode": {
    "name": "ipython",
    "version": 3
   },
   "file_extension": ".py",
   "mimetype": "text/x-python",
   "name": "python",
   "nbconvert_exporter": "python",
   "pygments_lexer": "ipython3",
   "version": "3.9.5"
  }
 },
 "nbformat": 4,
 "nbformat_minor": 2
}
