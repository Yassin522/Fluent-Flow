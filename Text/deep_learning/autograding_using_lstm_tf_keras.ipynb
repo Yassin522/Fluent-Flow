{
  "cells": [
    {
      "cell_type": "code",
      "execution_count": 1,
      "metadata": {
        "_cell_guid": "b1076dfc-b9ad-4769-8c92-a6c4dae69d19",
        "_uuid": "8f2839f25d086af736a60e9eeb907d3b93b6e0e5",
        "execution": {
          "iopub.execute_input": "2021-04-11T01:39:47.219987Z",
          "iopub.status.busy": "2021-04-11T01:39:47.216948Z",
          "iopub.status.idle": "2021-04-11T01:39:47.224680Z",
          "shell.execute_reply": "2021-04-11T01:39:47.223985Z"
        },
        "id": "PZIZNMgcIzKW",
        "papermill": {
          "duration": 0.044706,
          "end_time": "2021-04-11T01:39:47.224806",
          "exception": false,
          "start_time": "2021-04-11T01:39:47.180100",
          "status": "completed"
        },
        "tags": []
      },
      "outputs": [],
      "source": [
        "import numpy as np # linear algebra\n",
        "import pandas as pd # data processing, CSV file I/O (e.g. pd.read_csv)\n",
        "import os\n",
        "import itertools\n",
        "from google.colab import drive\n",
        "\n",
        "import nltk\n",
        "from nltk.corpus import stopwords                   #Stopwords corpus\n",
        "from nltk.stem import PorterStemmer                 # Stemmer\n",
        "\n",
        "from sklearn.feature_extraction.text import CountVectorizer          #For Bag of words\n",
        "from sklearn.feature_extraction.text import TfidfVectorizer          #For TF-IDF\n",
        "from gensim.models import Word2Vec                                   #For Word2Vec\n",
        "\n",
        "from tensorflow.keras.layers import Embedding\n",
        "from tensorflow.keras.preprocessing.sequence import pad_sequences\n",
        "from tensorflow.keras.models import Sequential\n",
        "from tensorflow.keras.preprocessing.text import one_hot\n",
        "from tensorflow.keras.layers import LSTM\n",
        "from tensorflow.keras.layers import Dropout\n",
        "from tensorflow.keras.layers import Dense\n",
        "\n",
        "import warnings\n",
        "warnings.filterwarnings(\"ignore\")                     #Ignoring unnecessory warnings\n",
        "\n",
        "import re\n",
        "from nltk.corpus import stopwords\n",
        "from nltk.stem.porter import PorterStemmer\n",
        "snow = nltk.stem.SnowballStemmer('english')"
      ]
    },
    {
      "cell_type": "code",
      "execution_count": 2,
      "metadata": {
        "colab": {
          "base_uri": "https://localhost:8080/"
        },
        "id": "qUaV9RMMI0KN",
        "outputId": "50a9e299-d63b-48ea-82ef-84413eb77b31"
      },
      "outputs": [
        {
          "name": "stdout",
          "output_type": "stream",
          "text": [
            "Mounted at /content/drive\n"
          ]
        }
      ],
      "source": [
        "drive.mount('/content/drive')\n",
        "data_path = '/content/drive/My Drive/Data/training_set_rel3.tsv'"
      ]
    },
    {
      "cell_type": "code",
      "execution_count": 3,
      "metadata": {
        "_cell_guid": "79c7e3d0-c299-4dcb-8224-4455121ee9b0",
        "_uuid": "d629ff2d2480ee46fbb7e2d37f6b5fab8052498a",
        "colab": {
          "base_uri": "https://localhost:8080/",
          "height": 206
        },
        "execution": {
          "iopub.execute_input": "2021-04-11T01:39:47.288895Z",
          "iopub.status.busy": "2021-04-11T01:39:47.288391Z",
          "iopub.status.idle": "2021-04-11T01:39:47.669329Z",
          "shell.execute_reply": "2021-04-11T01:39:47.668879Z"
        },
        "id": "qlojSySMIzKa",
        "outputId": "ac8068d3-0410-4416-f54e-1039ea381715",
        "papermill": {
          "duration": 0.414025,
          "end_time": "2021-04-11T01:39:47.669431",
          "exception": false,
          "start_time": "2021-04-11T01:39:47.255406",
          "status": "completed"
        },
        "tags": []
      },
      "outputs": [
        {
          "data": {
            "application/vnd.google.colaboratory.intrinsic+json": {
              "summary": "{\n  \"name\": \"df\",\n  \"rows\": 12976,\n  \"fields\": [\n    {\n      \"column\": \"essay\",\n      \"properties\": {\n        \"dtype\": \"string\",\n        \"num_unique_values\": 12972,\n        \"samples\": [\n          \"The features of the setting affect the cyclist in many ways. He is riding his bike along the road and encounters a dilema.\\u0094\\u0085 @CAPS1 weeds crossed my path and a ridiculously large snake. Blocked the\\u0085 pavement in front of me.\\u0094 He had to stop and into by the snake which showed him down and freaked him out. He had problems with thirst already and had to deal with a snake that \\u0093really did look like a diamondback.\\u0094 @CAPS2, he sees a building up ahead and discovers that it\\u0092s a walrus Grape Juice factory. He thought that is might have some water but realized it was abandoned. Relating to his thirst, before he left he grabbed some pebbles.\\u0094 I\\u0092d read once that sucking on stones helps takes your mind off thirst by allowing what spit you have left to circulate.\\u0094 * @CAPS3 he came across a fishing camp and received instructions on how to go on. This affected him because he @CAPS3 got to a secure place and got proper directions and will learn from his mistake of listening to the older men at the beginning. The features of \",\n          \"The author concludes the story with this paragraph because the cold was brufield or the  author never  wanted to be around while the cold was in sesion. At the  time it was realy cold\",\n          \"Computers, a very much talked about subject. Did you know that @PERCENT1 of homes in @LOCATION1 own at least one computer. And that goes for about @PERCENT2 in @LOCATION2. Some people don't like that this is true, but on the other hand some people do. I have a computer, it can do so much, for example it can help me with writing, I can play games on it and socialize with social networking sites and \\\"I.M.'s\\\", it can even help me order a product form a website like @ORGANIZATION1, @LOCATION3, or @LOCATION4. Like I said, I have a computer and I can use it to help me write. At school in english, I would use my computer to help me with a writing prompt. I also use it to write conclusions for science labs. There are a lot of other kids that do this as well, it really is very helpful. That is only one of the reasons I think computers are beneficial to society. Another reason I think computers are beneficial to society is because you can play games on them, like \\\"world of warcraft\\\", \\\"@CAPS1 @CAPS2 @NUM1\\\", or classics like \\\"@CAPS3 @CAPS4 @CAPS5\\\". There are millions of people that play games on the computer. Also you can socialize with social networking sites, like @CAPS6 and twitter, and also because you can \\\"I.M.\\\" your friends. I.M. stands for @CAPS7 messaging, and it is kind of like email except it is just about instantaneous, and so you and friend can have a conversation over the computer. Also there is video chatting, where it is kind of like a phone except you can see the person you're talking to and it is over the computer, so it is almost like you and the person you are videochatting with are meeting face to face, but your not. A third reason I feel that computers are beneficial to society is because you can order a product over the internet form shop websites. For example, I got my @CAPS8 from @LOCATION3, and also the bulb for a @CAPS9 in my house is wearing out, so my dad is going to buy a @LOCATION1 bulb on @ORGANIZATION1. It is things like this that make life that much easier for the @CAPS10 @PERSON1, because this way these people don't have to drive to the store to buy something, that is, if they can wait a week or two for the product to arrive. These are the kinds of things that make me feel that computers are beneficial to society. I know they might not be the best reasons, but they are quite important to me. Being able to type essays, play games and socialize, and order products form websites is just amazing. These are some of the reasons that I and others love computers. But I have a question for you, why do you like or dislike computers?\"\n        ],\n        \"semantic_type\": \"\",\n        \"description\": \"\"\n      }\n    },\n    {\n      \"column\": \"domain1_score\",\n      \"properties\": {\n        \"dtype\": \"number\",\n        \"std\": 8,\n        \"min\": 0,\n        \"max\": 60,\n        \"num_unique_values\": 53,\n        \"samples\": [\n          19,\n          32,\n          28\n        ],\n        \"semantic_type\": \"\",\n        \"description\": \"\"\n      }\n    }\n  ]\n}",
              "type": "dataframe",
              "variable_name": "df"
            },
            "text/html": [
              "\n",
              "  <div id=\"df-70a38ea2-3822-4026-bbe5-196c4bbd2448\" class=\"colab-df-container\">\n",
              "    <div>\n",
              "<style scoped>\n",
              "    .dataframe tbody tr th:only-of-type {\n",
              "        vertical-align: middle;\n",
              "    }\n",
              "\n",
              "    .dataframe tbody tr th {\n",
              "        vertical-align: top;\n",
              "    }\n",
              "\n",
              "    .dataframe thead th {\n",
              "        text-align: right;\n",
              "    }\n",
              "</style>\n",
              "<table border=\"1\" class=\"dataframe\">\n",
              "  <thead>\n",
              "    <tr style=\"text-align: right;\">\n",
              "      <th></th>\n",
              "      <th>essay</th>\n",
              "      <th>domain1_score</th>\n",
              "    </tr>\n",
              "  </thead>\n",
              "  <tbody>\n",
              "    <tr>\n",
              "      <th>0</th>\n",
              "      <td>Dear local newspaper, I think effects computer...</td>\n",
              "      <td>8</td>\n",
              "    </tr>\n",
              "    <tr>\n",
              "      <th>1</th>\n",
              "      <td>Dear @CAPS1 @CAPS2, I believe that using compu...</td>\n",
              "      <td>9</td>\n",
              "    </tr>\n",
              "    <tr>\n",
              "      <th>2</th>\n",
              "      <td>Dear, @CAPS1 @CAPS2 @CAPS3 More and more peopl...</td>\n",
              "      <td>7</td>\n",
              "    </tr>\n",
              "    <tr>\n",
              "      <th>3</th>\n",
              "      <td>Dear Local Newspaper, @CAPS1 I have found that...</td>\n",
              "      <td>10</td>\n",
              "    </tr>\n",
              "    <tr>\n",
              "      <th>4</th>\n",
              "      <td>Dear @LOCATION1, I know having computers has a...</td>\n",
              "      <td>8</td>\n",
              "    </tr>\n",
              "  </tbody>\n",
              "</table>\n",
              "</div>\n",
              "    <div class=\"colab-df-buttons\">\n",
              "\n",
              "  <div class=\"colab-df-container\">\n",
              "    <button class=\"colab-df-convert\" onclick=\"convertToInteractive('df-70a38ea2-3822-4026-bbe5-196c4bbd2448')\"\n",
              "            title=\"Convert this dataframe to an interactive table.\"\n",
              "            style=\"display:none;\">\n",
              "\n",
              "  <svg xmlns=\"http://www.w3.org/2000/svg\" height=\"24px\" viewBox=\"0 -960 960 960\">\n",
              "    <path d=\"M120-120v-720h720v720H120Zm60-500h600v-160H180v160Zm220 220h160v-160H400v160Zm0 220h160v-160H400v160ZM180-400h160v-160H180v160Zm440 0h160v-160H620v160ZM180-180h160v-160H180v160Zm440 0h160v-160H620v160Z\"/>\n",
              "  </svg>\n",
              "    </button>\n",
              "\n",
              "  <style>\n",
              "    .colab-df-container {\n",
              "      display:flex;\n",
              "      gap: 12px;\n",
              "    }\n",
              "\n",
              "    .colab-df-convert {\n",
              "      background-color: #E8F0FE;\n",
              "      border: none;\n",
              "      border-radius: 50%;\n",
              "      cursor: pointer;\n",
              "      display: none;\n",
              "      fill: #1967D2;\n",
              "      height: 32px;\n",
              "      padding: 0 0 0 0;\n",
              "      width: 32px;\n",
              "    }\n",
              "\n",
              "    .colab-df-convert:hover {\n",
              "      background-color: #E2EBFA;\n",
              "      box-shadow: 0px 1px 2px rgba(60, 64, 67, 0.3), 0px 1px 3px 1px rgba(60, 64, 67, 0.15);\n",
              "      fill: #174EA6;\n",
              "    }\n",
              "\n",
              "    .colab-df-buttons div {\n",
              "      margin-bottom: 4px;\n",
              "    }\n",
              "\n",
              "    [theme=dark] .colab-df-convert {\n",
              "      background-color: #3B4455;\n",
              "      fill: #D2E3FC;\n",
              "    }\n",
              "\n",
              "    [theme=dark] .colab-df-convert:hover {\n",
              "      background-color: #434B5C;\n",
              "      box-shadow: 0px 1px 3px 1px rgba(0, 0, 0, 0.15);\n",
              "      filter: drop-shadow(0px 1px 2px rgba(0, 0, 0, 0.3));\n",
              "      fill: #FFFFFF;\n",
              "    }\n",
              "  </style>\n",
              "\n",
              "    <script>\n",
              "      const buttonEl =\n",
              "        document.querySelector('#df-70a38ea2-3822-4026-bbe5-196c4bbd2448 button.colab-df-convert');\n",
              "      buttonEl.style.display =\n",
              "        google.colab.kernel.accessAllowed ? 'block' : 'none';\n",
              "\n",
              "      async function convertToInteractive(key) {\n",
              "        const element = document.querySelector('#df-70a38ea2-3822-4026-bbe5-196c4bbd2448');\n",
              "        const dataTable =\n",
              "          await google.colab.kernel.invokeFunction('convertToInteractive',\n",
              "                                                    [key], {});\n",
              "        if (!dataTable) return;\n",
              "\n",
              "        const docLinkHtml = 'Like what you see? Visit the ' +\n",
              "          '<a target=\"_blank\" href=https://colab.research.google.com/notebooks/data_table.ipynb>data table notebook</a>'\n",
              "          + ' to learn more about interactive tables.';\n",
              "        element.innerHTML = '';\n",
              "        dataTable['output_type'] = 'display_data';\n",
              "        await google.colab.output.renderOutput(dataTable, element);\n",
              "        const docLink = document.createElement('div');\n",
              "        docLink.innerHTML = docLinkHtml;\n",
              "        element.appendChild(docLink);\n",
              "      }\n",
              "    </script>\n",
              "  </div>\n",
              "\n",
              "\n",
              "<div id=\"df-bca330aa-33cf-47ff-88aa-95087e890c69\">\n",
              "  <button class=\"colab-df-quickchart\" onclick=\"quickchart('df-bca330aa-33cf-47ff-88aa-95087e890c69')\"\n",
              "            title=\"Suggest charts\"\n",
              "            style=\"display:none;\">\n",
              "\n",
              "<svg xmlns=\"http://www.w3.org/2000/svg\" height=\"24px\"viewBox=\"0 0 24 24\"\n",
              "     width=\"24px\">\n",
              "    <g>\n",
              "        <path d=\"M19 3H5c-1.1 0-2 .9-2 2v14c0 1.1.9 2 2 2h14c1.1 0 2-.9 2-2V5c0-1.1-.9-2-2-2zM9 17H7v-7h2v7zm4 0h-2V7h2v10zm4 0h-2v-4h2v4z\"/>\n",
              "    </g>\n",
              "</svg>\n",
              "  </button>\n",
              "\n",
              "<style>\n",
              "  .colab-df-quickchart {\n",
              "      --bg-color: #E8F0FE;\n",
              "      --fill-color: #1967D2;\n",
              "      --hover-bg-color: #E2EBFA;\n",
              "      --hover-fill-color: #174EA6;\n",
              "      --disabled-fill-color: #AAA;\n",
              "      --disabled-bg-color: #DDD;\n",
              "  }\n",
              "\n",
              "  [theme=dark] .colab-df-quickchart {\n",
              "      --bg-color: #3B4455;\n",
              "      --fill-color: #D2E3FC;\n",
              "      --hover-bg-color: #434B5C;\n",
              "      --hover-fill-color: #FFFFFF;\n",
              "      --disabled-bg-color: #3B4455;\n",
              "      --disabled-fill-color: #666;\n",
              "  }\n",
              "\n",
              "  .colab-df-quickchart {\n",
              "    background-color: var(--bg-color);\n",
              "    border: none;\n",
              "    border-radius: 50%;\n",
              "    cursor: pointer;\n",
              "    display: none;\n",
              "    fill: var(--fill-color);\n",
              "    height: 32px;\n",
              "    padding: 0;\n",
              "    width: 32px;\n",
              "  }\n",
              "\n",
              "  .colab-df-quickchart:hover {\n",
              "    background-color: var(--hover-bg-color);\n",
              "    box-shadow: 0 1px 2px rgba(60, 64, 67, 0.3), 0 1px 3px 1px rgba(60, 64, 67, 0.15);\n",
              "    fill: var(--button-hover-fill-color);\n",
              "  }\n",
              "\n",
              "  .colab-df-quickchart-complete:disabled,\n",
              "  .colab-df-quickchart-complete:disabled:hover {\n",
              "    background-color: var(--disabled-bg-color);\n",
              "    fill: var(--disabled-fill-color);\n",
              "    box-shadow: none;\n",
              "  }\n",
              "\n",
              "  .colab-df-spinner {\n",
              "    border: 2px solid var(--fill-color);\n",
              "    border-color: transparent;\n",
              "    border-bottom-color: var(--fill-color);\n",
              "    animation:\n",
              "      spin 1s steps(1) infinite;\n",
              "  }\n",
              "\n",
              "  @keyframes spin {\n",
              "    0% {\n",
              "      border-color: transparent;\n",
              "      border-bottom-color: var(--fill-color);\n",
              "      border-left-color: var(--fill-color);\n",
              "    }\n",
              "    20% {\n",
              "      border-color: transparent;\n",
              "      border-left-color: var(--fill-color);\n",
              "      border-top-color: var(--fill-color);\n",
              "    }\n",
              "    30% {\n",
              "      border-color: transparent;\n",
              "      border-left-color: var(--fill-color);\n",
              "      border-top-color: var(--fill-color);\n",
              "      border-right-color: var(--fill-color);\n",
              "    }\n",
              "    40% {\n",
              "      border-color: transparent;\n",
              "      border-right-color: var(--fill-color);\n",
              "      border-top-color: var(--fill-color);\n",
              "    }\n",
              "    60% {\n",
              "      border-color: transparent;\n",
              "      border-right-color: var(--fill-color);\n",
              "    }\n",
              "    80% {\n",
              "      border-color: transparent;\n",
              "      border-right-color: var(--fill-color);\n",
              "      border-bottom-color: var(--fill-color);\n",
              "    }\n",
              "    90% {\n",
              "      border-color: transparent;\n",
              "      border-bottom-color: var(--fill-color);\n",
              "    }\n",
              "  }\n",
              "</style>\n",
              "\n",
              "  <script>\n",
              "    async function quickchart(key) {\n",
              "      const quickchartButtonEl =\n",
              "        document.querySelector('#' + key + ' button');\n",
              "      quickchartButtonEl.disabled = true;  // To prevent multiple clicks.\n",
              "      quickchartButtonEl.classList.add('colab-df-spinner');\n",
              "      try {\n",
              "        const charts = await google.colab.kernel.invokeFunction(\n",
              "            'suggestCharts', [key], {});\n",
              "      } catch (error) {\n",
              "        console.error('Error during call to suggestCharts:', error);\n",
              "      }\n",
              "      quickchartButtonEl.classList.remove('colab-df-spinner');\n",
              "      quickchartButtonEl.classList.add('colab-df-quickchart-complete');\n",
              "    }\n",
              "    (() => {\n",
              "      let quickchartButtonEl =\n",
              "        document.querySelector('#df-bca330aa-33cf-47ff-88aa-95087e890c69 button');\n",
              "      quickchartButtonEl.style.display =\n",
              "        google.colab.kernel.accessAllowed ? 'block' : 'none';\n",
              "    })();\n",
              "  </script>\n",
              "</div>\n",
              "    </div>\n",
              "  </div>\n"
            ],
            "text/plain": [
              "                                               essay  domain1_score\n",
              "0  Dear local newspaper, I think effects computer...              8\n",
              "1  Dear @CAPS1 @CAPS2, I believe that using compu...              9\n",
              "2  Dear, @CAPS1 @CAPS2 @CAPS3 More and more peopl...              7\n",
              "3  Dear Local Newspaper, @CAPS1 I have found that...             10\n",
              "4  Dear @LOCATION1, I know having computers has a...              8"
            ]
          },
          "execution_count": 3,
          "metadata": {},
          "output_type": "execute_result"
        }
      ],
      "source": [
        "df = pd.read_csv(data_path, sep='\\t', encoding='ISO-8859-1')\n",
        "df = df.dropna(axis=1)\n",
        "df = df.drop(columns=['rater1_domain1', 'rater2_domain1'])\n",
        "df = df.drop(columns=['essay_id', 'essay_set'])\n",
        "df.head()"
      ]
    },
    {
      "cell_type": "code",
      "execution_count": 4,
      "metadata": {
        "colab": {
          "base_uri": "https://localhost:8080/",
          "height": 127
        },
        "execution": {
          "iopub.execute_input": "2021-04-11T01:39:47.731253Z",
          "iopub.status.busy": "2021-04-11T01:39:47.730481Z",
          "iopub.status.idle": "2021-04-11T01:39:47.733578Z",
          "shell.execute_reply": "2021-04-11T01:39:47.734005Z"
        },
        "id": "beVQqSoXIzKe",
        "outputId": "be1a500f-117b-4f04-f63d-6a333d82520c",
        "papermill": {
          "duration": 0.036085,
          "end_time": "2021-04-11T01:39:47.734110",
          "exception": false,
          "start_time": "2021-04-11T01:39:47.698025",
          "status": "completed"
        },
        "tags": []
      },
      "outputs": [
        {
          "data": {
            "application/vnd.google.colaboratory.intrinsic+json": {
              "type": "string"
            },
            "text/plain": [
              "\"Dear @CAPS1 @CAPS2, I believe that using computers will benefit us in many ways like talking and becoming friends will others through websites like facebook and mysace. Using computers can help us find coordibates, locations, and able ourselfs to millions of information. Also computers will benefit us by helping with jobs as in planning a house plan and typing a @NUM1 page report for one of our jobs in less than writing it. Now lets go into the wonder world of technology. Using a computer will help us in life by talking or making friends on line. Many people have myspace, facebooks, aim, these all benefit us by having conversations with one another. Many people believe computers are bad but how can you make friends if you can never talk to them? I am very fortunate for having a computer that can help with not only school work but my social life and how I make friends. Computers help us with finding our locations, coordibates and millions of information online. If we didn't go on the internet a lot we wouldn't know how to go onto websites that @MONTH1 help us with locations and coordinates like @LOCATION1. Would you rather use a computer or be in @LOCATION3. When your supposed to be vacationing in @LOCATION2. Million of information is found on the internet. You can as almost every question and a computer will have it. Would you rather easily draw up a house plan on the computers or take @NUM1 hours doing one by hand with ugly erazer marks all over it, you are garrenteed that to find a job with a drawing like that. Also when appling for a job many workers must write very long papers like a @NUM3 word essay on why this job fits you the most, and many people I know don't like writing @NUM3 words non-stopp for hours when it could take them I hav an a computer. That is why computers we needed a lot now adays. I hope this essay has impacted your descion on computers because they are great machines to work with. The other day I showed my mom how to use a computer and she said it was the greatest invention sense sliced bread! Now go out and buy a computer to help you chat online with friends, find locations and millions of information on one click of the button and help your self with getting a job with neat, prepared, printed work that your boss will love.\""
            ]
          },
          "execution_count": 4,
          "metadata": {},
          "output_type": "execute_result"
        }
      ],
      "source": [
        "df['essay'][1]"
      ]
    },
    {
      "cell_type": "code",
      "execution_count": 5,
      "metadata": {
        "execution": {
          "iopub.execute_input": "2021-04-11T01:39:54.425435Z",
          "iopub.status.busy": "2021-04-11T01:39:54.424762Z",
          "iopub.status.idle": "2021-04-11T01:39:54.427714Z",
          "shell.execute_reply": "2021-04-11T01:39:54.427310Z"
        },
        "id": "mJuKFg6sIzKh",
        "papermill": {
          "duration": 0.041202,
          "end_time": "2021-04-11T01:39:54.427800",
          "exception": false,
          "start_time": "2021-04-11T01:39:54.386598",
          "status": "completed"
        },
        "tags": []
      },
      "outputs": [],
      "source": [
        "list_1 = []\n",
        "list_2 = []\n",
        "list_3 = []\n",
        "list_4 = []\n",
        "list_5 = []\n",
        "list_6 = []\n",
        "list_7 = []\n",
        "list_8 = []\n",
        "list_9 = []\n",
        "list_10 = []"
      ]
    },
    {
      "cell_type": "code",
      "execution_count": 6,
      "metadata": {
        "execution": {
          "iopub.execute_input": "2021-04-11T01:39:54.514517Z",
          "iopub.status.busy": "2021-04-11T01:39:54.509371Z",
          "iopub.status.idle": "2021-04-11T01:39:55.570139Z",
          "shell.execute_reply": "2021-04-11T01:39:55.569624Z"
        },
        "id": "pfDDn9XYIzKi",
        "papermill": {
          "duration": 1.112739,
          "end_time": "2021-04-11T01:39:55.570268",
          "exception": false,
          "start_time": "2021-04-11T01:39:54.457529",
          "status": "completed"
        },
        "tags": []
      },
      "outputs": [],
      "source": [
        "data = []\n",
        "num = [1,2,3,4,5,6,7,8,9,10]\n",
        "count = 0\n",
        "for i,j in zip(range(len(df)),df[\"essay\"]):\n",
        "    if df[\"domain1_score\"][i] == 1:\n",
        "        list_1.append(j)\n",
        "    if df[\"domain1_score\"][i] == 2:\n",
        "        list_2.append(j)\n",
        "    if df[\"domain1_score\"][i] == 3:\n",
        "        list_3.append(j)\n",
        "    if df[\"domain1_score\"][i] == 4:\n",
        "        list_4.append(j)\n",
        "    if df[\"domain1_score\"][i] == 5:\n",
        "        list_5.append(j)\n",
        "    if df[\"domain1_score\"][i] == 6:\n",
        "        list_6.append(j)\n",
        "    if df[\"domain1_score\"][i] == 7:\n",
        "        list_7.append(j)\n",
        "    if df[\"domain1_score\"][i] == 8:\n",
        "        list_8.append(j)\n",
        "    if df[\"domain1_score\"][i] == 9:\n",
        "        list_9.append(j)\n",
        "    if df[\"domain1_score\"][i] == 10:\n",
        "        list_10.append(j)\n"
      ]
    },
    {
      "cell_type": "code",
      "execution_count": 7,
      "metadata": {
        "colab": {
          "base_uri": "https://localhost:8080/"
        },
        "execution": {
          "iopub.execute_input": "2021-04-11T01:39:55.669184Z",
          "iopub.status.busy": "2021-04-11T01:39:55.668402Z",
          "iopub.status.idle": "2021-04-11T01:39:55.672428Z",
          "shell.execute_reply": "2021-04-11T01:39:55.671965Z"
        },
        "id": "n869-MsrIzKk",
        "outputId": "d2198f88-0389-4a8a-9eeb-cefaf89383c2",
        "papermill": {
          "duration": 0.039382,
          "end_time": "2021-04-11T01:39:55.672514",
          "exception": false,
          "start_time": "2021-04-11T01:39:55.633132",
          "status": "completed"
        },
        "tags": []
      },
      "outputs": [
        {
          "data": {
            "text/plain": [
              "10323"
            ]
          },
          "execution_count": 7,
          "metadata": {},
          "output_type": "execute_result"
        }
      ],
      "source": [
        "data = list(itertools.chain(list_1,list_2,list_3,list_4,list_5,list_6,list_7,list_8,list_9,list_10))\n",
        "len(data)"
      ]
    },
    {
      "cell_type": "code",
      "execution_count": 8,
      "metadata": {
        "execution": {
          "iopub.execute_input": "2021-04-11T01:39:55.736082Z",
          "iopub.status.busy": "2021-04-11T01:39:55.735419Z",
          "iopub.status.idle": "2021-04-11T01:39:55.738400Z",
          "shell.execute_reply": "2021-04-11T01:39:55.737975Z"
        },
        "id": "l7xtvgyYIzKl",
        "papermill": {
          "duration": 0.036208,
          "end_time": "2021-04-11T01:39:55.738485",
          "exception": false,
          "start_time": "2021-04-11T01:39:55.702277",
          "status": "completed"
        },
        "tags": []
      },
      "outputs": [],
      "source": [
        "def gen_num(num,length):\n",
        "    num_list = [num]*length\n",
        "    return num_list"
      ]
    },
    {
      "cell_type": "code",
      "execution_count": 9,
      "metadata": {
        "colab": {
          "base_uri": "https://localhost:8080/"
        },
        "execution": {
          "iopub.execute_input": "2021-04-11T01:39:55.807591Z",
          "iopub.status.busy": "2021-04-11T01:39:55.806877Z",
          "iopub.status.idle": "2021-04-11T01:39:55.810345Z",
          "shell.execute_reply": "2021-04-11T01:39:55.809830Z"
        },
        "id": "WWLgMQPmIzKm",
        "outputId": "5a0e1d66-1509-4bd2-bb47-485acccc5fe8",
        "papermill": {
          "duration": 0.042298,
          "end_time": "2021-04-11T01:39:55.810425",
          "exception": false,
          "start_time": "2021-04-11T01:39:55.768127",
          "status": "completed"
        },
        "tags": []
      },
      "outputs": [
        {
          "data": {
            "text/plain": [
              "10323"
            ]
          },
          "execution_count": 9,
          "metadata": {},
          "output_type": "execute_result"
        }
      ],
      "source": [
        "score_1 = gen_num(1,len(list_1))\n",
        "score_2 = gen_num(2,len(list_2))\n",
        "score_3 = gen_num(3,len(list_3))\n",
        "score_4 = gen_num(4,len(list_4))\n",
        "score_5 = gen_num(5,len(list_5))\n",
        "score_6 = gen_num(6,len(list_6))\n",
        "score_7 = gen_num(7,len(list_7))\n",
        "score_8 = gen_num(8,len(list_8))\n",
        "score_9 = gen_num(9,len(list_9))\n",
        "score_10 = gen_num(10,len(list_10))\n",
        "\n",
        "score = list(itertools.chain(score_1,score_2,score_3,score_4,score_5,score_6,score_7,score_8,score_9,score_10))\n",
        "len(score)\n"
      ]
    },
    {
      "cell_type": "code",
      "execution_count": 10,
      "metadata": {
        "colab": {
          "base_uri": "https://localhost:8080/",
          "height": 423
        },
        "execution": {
          "iopub.execute_input": "2021-04-11T01:39:55.891904Z",
          "iopub.status.busy": "2021-04-11T01:39:55.879722Z",
          "iopub.status.idle": "2021-04-11T01:39:55.895504Z",
          "shell.execute_reply": "2021-04-11T01:39:55.896016Z"
        },
        "id": "8QZVlLfHIzKn",
        "outputId": "451976a7-1889-4a12-a80e-7d41775bcab8",
        "papermill": {
          "duration": 0.055246,
          "end_time": "2021-04-11T01:39:55.896117",
          "exception": false,
          "start_time": "2021-04-11T01:39:55.840871",
          "status": "completed"
        },
        "tags": []
      },
      "outputs": [
        {
          "data": {
            "application/vnd.google.colaboratory.intrinsic+json": {
              "summary": "{\n  \"name\": \"df\",\n  \"rows\": 10323,\n  \"fields\": [\n    {\n      \"column\": \"essay\",\n      \"properties\": {\n        \"dtype\": \"string\",\n        \"num_unique_values\": 10320,\n        \"samples\": [\n          \"The author concludes the story with the paragraph, \\u0093When they come back, Saeng vowed silently to herself, in the spring, when the snow\\u0085\\u0094 to show that Saeng got stronger. She got, stronger because she adjusted to her new home and new environment. Saeng is more confident in herself to take the test again. She doesn\\u0092t want to cry again, like she did in her last test. Being more confident and more adjusted is the reason why she has become stronger, and the reason why she wants to take the test again is because she is stronger.\",\n          \"Builders of the Empire State Building faced many obstacles well attempting to allow dirigibles to dock there. One obstacle was the \\\"violent air-currents.\\\" Due to these currents, it became very hard to be able to allow a dirigible to dock at the top of the empire state building, without blowing away. Another obstacle was safety. The dirigibles were filled with hydrogen, instead of helium. Hydrogen is a very flammable object and if an accident were to happen, a flaming balloon flying over a highly populated area of New York could become very dangerous. Although the idea of making docking stations for dirigibles is a good idea, there are too many obstacles and hazards preventing it from ever happening.\",\n          \"In \\\"Narciso Rodriguez\\\" from Home: The Blueprints of Our Lives, the mood created by the author is grateful. The narrarator in this memoir is very grateful as it states in paragraph @NUM1. \\\"I will always be grateful to my parents for their love and sacrifice. He also says that they have done a more courageous thing than he could ever do. The narrarator is also very proud of being Cuban. Also, he loves Cuban music. He also states that he loves his house in paragraph @NUM2. \\\"It was in this simple house that my parents welcomed other refugees to celebrate their arrival to this country and where I celebrated my first birthdays\\\". The mood created by the author is grateful in \\\"Narciso Rodriguez\\\" from Home: The Blueprints of Our Lives.\"\n        ],\n        \"semantic_type\": \"\",\n        \"description\": \"\"\n      }\n    },\n    {\n      \"column\": \"score\",\n      \"properties\": {\n        \"dtype\": \"number\",\n        \"std\": 2,\n        \"min\": 1,\n        \"max\": 10,\n        \"num_unique_values\": 10,\n        \"samples\": [\n          9,\n          2,\n          6\n        ],\n        \"semantic_type\": \"\",\n        \"description\": \"\"\n      }\n    }\n  ]\n}",
              "type": "dataframe",
              "variable_name": "df"
            },
            "text/html": [
              "\n",
              "  <div id=\"df-c4b94d4a-1fd3-4ce5-8b3e-0805e5857c95\" class=\"colab-df-container\">\n",
              "    <div>\n",
              "<style scoped>\n",
              "    .dataframe tbody tr th:only-of-type {\n",
              "        vertical-align: middle;\n",
              "    }\n",
              "\n",
              "    .dataframe tbody tr th {\n",
              "        vertical-align: top;\n",
              "    }\n",
              "\n",
              "    .dataframe thead th {\n",
              "        text-align: right;\n",
              "    }\n",
              "</style>\n",
              "<table border=\"1\" class=\"dataframe\">\n",
              "  <thead>\n",
              "    <tr style=\"text-align: right;\">\n",
              "      <th></th>\n",
              "      <th>essay</th>\n",
              "      <th>score</th>\n",
              "    </tr>\n",
              "  </thead>\n",
              "  <tbody>\n",
              "    <tr>\n",
              "      <th>0</th>\n",
              "      <td>Write a persuasive essay to a newspaper reflec...</td>\n",
              "      <td>1</td>\n",
              "    </tr>\n",
              "    <tr>\n",
              "      <th>1</th>\n",
              "      <td>If the people that are publishing and writing ...</td>\n",
              "      <td>1</td>\n",
              "    </tr>\n",
              "    <tr>\n",
              "      <th>2</th>\n",
              "      <td>I do think that there should be a censorship i...</td>\n",
              "      <td>1</td>\n",
              "    </tr>\n",
              "    <tr>\n",
              "      <th>3</th>\n",
              "      <td>I belive that they need to keep every thing an...</td>\n",
              "      <td>1</td>\n",
              "    </tr>\n",
              "    <tr>\n",
              "      <th>4</th>\n",
              "      <td>Hi my name is @CAPS1 @CAPS2 @PERSON1 and I'm h...</td>\n",
              "      <td>1</td>\n",
              "    </tr>\n",
              "    <tr>\n",
              "      <th>...</th>\n",
              "      <td>...</td>\n",
              "      <td>...</td>\n",
              "    </tr>\n",
              "    <tr>\n",
              "      <th>10318</th>\n",
              "      <td>A time I was patient was when I had to be pati...</td>\n",
              "      <td>10</td>\n",
              "    </tr>\n",
              "    <tr>\n",
              "      <th>10319</th>\n",
              "      <td>Being patient is hard to be. First of all its ...</td>\n",
              "      <td>10</td>\n",
              "    </tr>\n",
              "    <tr>\n",
              "      <th>10320</th>\n",
              "      <td>One day I was watching @CAPS1. I was bored the...</td>\n",
              "      <td>10</td>\n",
              "    </tr>\n",
              "    <tr>\n",
              "      <th>10321</th>\n",
              "      <td>My own way about patient is that when somebody...</td>\n",
              "      <td>10</td>\n",
              "    </tr>\n",
              "    <tr>\n",
              "      <th>10322</th>\n",
              "      <td>I dont like computers</td>\n",
              "      <td>10</td>\n",
              "    </tr>\n",
              "  </tbody>\n",
              "</table>\n",
              "<p>10323 rows × 2 columns</p>\n",
              "</div>\n",
              "    <div class=\"colab-df-buttons\">\n",
              "\n",
              "  <div class=\"colab-df-container\">\n",
              "    <button class=\"colab-df-convert\" onclick=\"convertToInteractive('df-c4b94d4a-1fd3-4ce5-8b3e-0805e5857c95')\"\n",
              "            title=\"Convert this dataframe to an interactive table.\"\n",
              "            style=\"display:none;\">\n",
              "\n",
              "  <svg xmlns=\"http://www.w3.org/2000/svg\" height=\"24px\" viewBox=\"0 -960 960 960\">\n",
              "    <path d=\"M120-120v-720h720v720H120Zm60-500h600v-160H180v160Zm220 220h160v-160H400v160Zm0 220h160v-160H400v160ZM180-400h160v-160H180v160Zm440 0h160v-160H620v160ZM180-180h160v-160H180v160Zm440 0h160v-160H620v160Z\"/>\n",
              "  </svg>\n",
              "    </button>\n",
              "\n",
              "  <style>\n",
              "    .colab-df-container {\n",
              "      display:flex;\n",
              "      gap: 12px;\n",
              "    }\n",
              "\n",
              "    .colab-df-convert {\n",
              "      background-color: #E8F0FE;\n",
              "      border: none;\n",
              "      border-radius: 50%;\n",
              "      cursor: pointer;\n",
              "      display: none;\n",
              "      fill: #1967D2;\n",
              "      height: 32px;\n",
              "      padding: 0 0 0 0;\n",
              "      width: 32px;\n",
              "    }\n",
              "\n",
              "    .colab-df-convert:hover {\n",
              "      background-color: #E2EBFA;\n",
              "      box-shadow: 0px 1px 2px rgba(60, 64, 67, 0.3), 0px 1px 3px 1px rgba(60, 64, 67, 0.15);\n",
              "      fill: #174EA6;\n",
              "    }\n",
              "\n",
              "    .colab-df-buttons div {\n",
              "      margin-bottom: 4px;\n",
              "    }\n",
              "\n",
              "    [theme=dark] .colab-df-convert {\n",
              "      background-color: #3B4455;\n",
              "      fill: #D2E3FC;\n",
              "    }\n",
              "\n",
              "    [theme=dark] .colab-df-convert:hover {\n",
              "      background-color: #434B5C;\n",
              "      box-shadow: 0px 1px 3px 1px rgba(0, 0, 0, 0.15);\n",
              "      filter: drop-shadow(0px 1px 2px rgba(0, 0, 0, 0.3));\n",
              "      fill: #FFFFFF;\n",
              "    }\n",
              "  </style>\n",
              "\n",
              "    <script>\n",
              "      const buttonEl =\n",
              "        document.querySelector('#df-c4b94d4a-1fd3-4ce5-8b3e-0805e5857c95 button.colab-df-convert');\n",
              "      buttonEl.style.display =\n",
              "        google.colab.kernel.accessAllowed ? 'block' : 'none';\n",
              "\n",
              "      async function convertToInteractive(key) {\n",
              "        const element = document.querySelector('#df-c4b94d4a-1fd3-4ce5-8b3e-0805e5857c95');\n",
              "        const dataTable =\n",
              "          await google.colab.kernel.invokeFunction('convertToInteractive',\n",
              "                                                    [key], {});\n",
              "        if (!dataTable) return;\n",
              "\n",
              "        const docLinkHtml = 'Like what you see? Visit the ' +\n",
              "          '<a target=\"_blank\" href=https://colab.research.google.com/notebooks/data_table.ipynb>data table notebook</a>'\n",
              "          + ' to learn more about interactive tables.';\n",
              "        element.innerHTML = '';\n",
              "        dataTable['output_type'] = 'display_data';\n",
              "        await google.colab.output.renderOutput(dataTable, element);\n",
              "        const docLink = document.createElement('div');\n",
              "        docLink.innerHTML = docLinkHtml;\n",
              "        element.appendChild(docLink);\n",
              "      }\n",
              "    </script>\n",
              "  </div>\n",
              "\n",
              "\n",
              "<div id=\"df-9a00788e-4b81-47f4-a8b0-d12a3f54f050\">\n",
              "  <button class=\"colab-df-quickchart\" onclick=\"quickchart('df-9a00788e-4b81-47f4-a8b0-d12a3f54f050')\"\n",
              "            title=\"Suggest charts\"\n",
              "            style=\"display:none;\">\n",
              "\n",
              "<svg xmlns=\"http://www.w3.org/2000/svg\" height=\"24px\"viewBox=\"0 0 24 24\"\n",
              "     width=\"24px\">\n",
              "    <g>\n",
              "        <path d=\"M19 3H5c-1.1 0-2 .9-2 2v14c0 1.1.9 2 2 2h14c1.1 0 2-.9 2-2V5c0-1.1-.9-2-2-2zM9 17H7v-7h2v7zm4 0h-2V7h2v10zm4 0h-2v-4h2v4z\"/>\n",
              "    </g>\n",
              "</svg>\n",
              "  </button>\n",
              "\n",
              "<style>\n",
              "  .colab-df-quickchart {\n",
              "      --bg-color: #E8F0FE;\n",
              "      --fill-color: #1967D2;\n",
              "      --hover-bg-color: #E2EBFA;\n",
              "      --hover-fill-color: #174EA6;\n",
              "      --disabled-fill-color: #AAA;\n",
              "      --disabled-bg-color: #DDD;\n",
              "  }\n",
              "\n",
              "  [theme=dark] .colab-df-quickchart {\n",
              "      --bg-color: #3B4455;\n",
              "      --fill-color: #D2E3FC;\n",
              "      --hover-bg-color: #434B5C;\n",
              "      --hover-fill-color: #FFFFFF;\n",
              "      --disabled-bg-color: #3B4455;\n",
              "      --disabled-fill-color: #666;\n",
              "  }\n",
              "\n",
              "  .colab-df-quickchart {\n",
              "    background-color: var(--bg-color);\n",
              "    border: none;\n",
              "    border-radius: 50%;\n",
              "    cursor: pointer;\n",
              "    display: none;\n",
              "    fill: var(--fill-color);\n",
              "    height: 32px;\n",
              "    padding: 0;\n",
              "    width: 32px;\n",
              "  }\n",
              "\n",
              "  .colab-df-quickchart:hover {\n",
              "    background-color: var(--hover-bg-color);\n",
              "    box-shadow: 0 1px 2px rgba(60, 64, 67, 0.3), 0 1px 3px 1px rgba(60, 64, 67, 0.15);\n",
              "    fill: var(--button-hover-fill-color);\n",
              "  }\n",
              "\n",
              "  .colab-df-quickchart-complete:disabled,\n",
              "  .colab-df-quickchart-complete:disabled:hover {\n",
              "    background-color: var(--disabled-bg-color);\n",
              "    fill: var(--disabled-fill-color);\n",
              "    box-shadow: none;\n",
              "  }\n",
              "\n",
              "  .colab-df-spinner {\n",
              "    border: 2px solid var(--fill-color);\n",
              "    border-color: transparent;\n",
              "    border-bottom-color: var(--fill-color);\n",
              "    animation:\n",
              "      spin 1s steps(1) infinite;\n",
              "  }\n",
              "\n",
              "  @keyframes spin {\n",
              "    0% {\n",
              "      border-color: transparent;\n",
              "      border-bottom-color: var(--fill-color);\n",
              "      border-left-color: var(--fill-color);\n",
              "    }\n",
              "    20% {\n",
              "      border-color: transparent;\n",
              "      border-left-color: var(--fill-color);\n",
              "      border-top-color: var(--fill-color);\n",
              "    }\n",
              "    30% {\n",
              "      border-color: transparent;\n",
              "      border-left-color: var(--fill-color);\n",
              "      border-top-color: var(--fill-color);\n",
              "      border-right-color: var(--fill-color);\n",
              "    }\n",
              "    40% {\n",
              "      border-color: transparent;\n",
              "      border-right-color: var(--fill-color);\n",
              "      border-top-color: var(--fill-color);\n",
              "    }\n",
              "    60% {\n",
              "      border-color: transparent;\n",
              "      border-right-color: var(--fill-color);\n",
              "    }\n",
              "    80% {\n",
              "      border-color: transparent;\n",
              "      border-right-color: var(--fill-color);\n",
              "      border-bottom-color: var(--fill-color);\n",
              "    }\n",
              "    90% {\n",
              "      border-color: transparent;\n",
              "      border-bottom-color: var(--fill-color);\n",
              "    }\n",
              "  }\n",
              "</style>\n",
              "\n",
              "  <script>\n",
              "    async function quickchart(key) {\n",
              "      const quickchartButtonEl =\n",
              "        document.querySelector('#' + key + ' button');\n",
              "      quickchartButtonEl.disabled = true;  // To prevent multiple clicks.\n",
              "      quickchartButtonEl.classList.add('colab-df-spinner');\n",
              "      try {\n",
              "        const charts = await google.colab.kernel.invokeFunction(\n",
              "            'suggestCharts', [key], {});\n",
              "      } catch (error) {\n",
              "        console.error('Error during call to suggestCharts:', error);\n",
              "      }\n",
              "      quickchartButtonEl.classList.remove('colab-df-spinner');\n",
              "      quickchartButtonEl.classList.add('colab-df-quickchart-complete');\n",
              "    }\n",
              "    (() => {\n",
              "      let quickchartButtonEl =\n",
              "        document.querySelector('#df-9a00788e-4b81-47f4-a8b0-d12a3f54f050 button');\n",
              "      quickchartButtonEl.style.display =\n",
              "        google.colab.kernel.accessAllowed ? 'block' : 'none';\n",
              "    })();\n",
              "  </script>\n",
              "</div>\n",
              "    </div>\n",
              "  </div>\n"
            ],
            "text/plain": [
              "                                                   essay  score\n",
              "0      Write a persuasive essay to a newspaper reflec...      1\n",
              "1      If the people that are publishing and writing ...      1\n",
              "2      I do think that there should be a censorship i...      1\n",
              "3      I belive that they need to keep every thing an...      1\n",
              "4      Hi my name is @CAPS1 @CAPS2 @PERSON1 and I'm h...      1\n",
              "...                                                  ...    ...\n",
              "10318  A time I was patient was when I had to be pati...     10\n",
              "10319  Being patient is hard to be. First of all its ...     10\n",
              "10320  One day I was watching @CAPS1. I was bored the...     10\n",
              "10321  My own way about patient is that when somebody...     10\n",
              "10322                              I dont like computers     10\n",
              "\n",
              "[10323 rows x 2 columns]"
            ]
          },
          "execution_count": 10,
          "metadata": {},
          "output_type": "execute_result"
        }
      ],
      "source": [
        "# dictionary of lists\n",
        "dictnary = {'essay': data, 'score': score}\n",
        "df = pd.DataFrame(dictnary)\n",
        "df"
      ]
    },
    {
      "cell_type": "code",
      "execution_count": 11,
      "metadata": {
        "colab": {
          "base_uri": "https://localhost:8080/"
        },
        "execution": {
          "iopub.execute_input": "2021-04-11T01:39:55.974624Z",
          "iopub.status.busy": "2021-04-11T01:39:55.973979Z",
          "iopub.status.idle": "2021-04-11T01:39:56.093596Z",
          "shell.execute_reply": "2021-04-11T01:39:56.094238Z"
        },
        "id": "jupk8NF6IzKo",
        "outputId": "c9c5b381-fcc2-49f2-a1cf-10cd941cc992",
        "papermill": {
          "duration": 0.167363,
          "end_time": "2021-04-11T01:39:56.094407",
          "exception": false,
          "start_time": "2021-04-11T01:39:55.927044",
          "status": "completed"
        },
        "tags": []
      },
      "outputs": [
        {
          "name": "stderr",
          "output_type": "stream",
          "text": [
            "[nltk_data] Downloading package stopwords to /root/nltk_data...\n",
            "[nltk_data]   Unzipping corpora/stopwords.zip.\n"
          ]
        },
        {
          "data": {
            "text/plain": [
              "True"
            ]
          },
          "execution_count": 11,
          "metadata": {},
          "output_type": "execute_result"
        }
      ],
      "source": [
        "nltk.download('stopwords')"
      ]
    },
    {
      "cell_type": "code",
      "execution_count": 12,
      "metadata": {
        "colab": {
          "base_uri": "https://localhost:8080/"
        },
        "execution": {
          "iopub.execute_input": "2021-04-11T01:39:56.164765Z",
          "iopub.status.busy": "2021-04-11T01:39:56.164105Z",
          "iopub.status.idle": "2021-04-11T01:39:56.170538Z",
          "shell.execute_reply": "2021-04-11T01:39:56.170074Z"
        },
        "id": "xyUddcZjIzKp",
        "outputId": "24930e45-68f0-4a59-f2a1-bf003072457d",
        "papermill": {
          "duration": 0.043135,
          "end_time": "2021-04-11T01:39:56.170631",
          "exception": false,
          "start_time": "2021-04-11T01:39:56.127496",
          "status": "completed"
        },
        "tags": []
      },
      "outputs": [
        {
          "data": {
            "text/plain": [
              "179"
            ]
          },
          "execution_count": 12,
          "metadata": {},
          "output_type": "execute_result"
        }
      ],
      "source": [
        "stop_words = set(stopwords.words('english'))\n",
        "len(stop_words) #finding stop words"
      ]
    },
    {
      "cell_type": "code",
      "execution_count": 13,
      "metadata": {
        "execution": {
          "iopub.execute_input": "2021-04-11T01:39:56.245604Z",
          "iopub.status.busy": "2021-04-11T01:39:56.244658Z",
          "iopub.status.idle": "2021-04-11T01:44:34.306557Z",
          "shell.execute_reply": "2021-04-11T01:44:34.305813Z"
        },
        "id": "h4TmEy1pIzKp",
        "papermill": {
          "duration": 278.103593,
          "end_time": "2021-04-11T01:44:34.306668",
          "exception": false,
          "start_time": "2021-04-11T01:39:56.203075",
          "status": "completed"
        },
        "tags": []
      },
      "outputs": [],
      "source": [
        "corpus = []\n",
        "pattern = re.compile('[^a-zA-Z]')\n",
        "for i in range(0, len(df)):\n",
        "    review = pattern.sub(' ', df['essay'][i])\n",
        "    review = review.lower()\n",
        "    review = review.split()\n",
        "\n",
        "    review = [snow.stem(word) for word in review if not word in stop_words]\n",
        "    review = ' '.join(review)\n",
        "    corpus.append(review)"
      ]
    },
    {
      "cell_type": "code",
      "execution_count": 14,
      "metadata": {
        "colab": {
          "base_uri": "https://localhost:8080/"
        },
        "execution": {
          "iopub.execute_input": "2021-04-11T01:44:34.425486Z",
          "iopub.status.busy": "2021-04-11T01:44:34.410057Z",
          "iopub.status.idle": "2021-04-11T01:44:34.905535Z",
          "shell.execute_reply": "2021-04-11T01:44:34.905963Z"
        },
        "id": "8as9DhLwIzKq",
        "outputId": "26aa0588-1b39-4133-c30c-d25117e949ad",
        "papermill": {
          "duration": 0.566544,
          "end_time": "2021-04-11T01:44:34.906083",
          "exception": false,
          "start_time": "2021-04-11T01:44:34.339539",
          "status": "completed"
        },
        "tags": []
      },
      "outputs": [
        {
          "data": {
            "text/plain": [
              "list"
            ]
          },
          "execution_count": 14,
          "metadata": {},
          "output_type": "execute_result"
        }
      ],
      "source": [
        "voc_size=5000\n",
        "onehot_repr=[one_hot(words,voc_size)for words in corpus]\n",
        "type(onehot_repr)"
      ]
    },
    {
      "cell_type": "code",
      "execution_count": 15,
      "metadata": {
        "colab": {
          "base_uri": "https://localhost:8080/"
        },
        "execution": {
          "iopub.execute_input": "2021-04-11T01:44:34.978383Z",
          "iopub.status.busy": "2021-04-11T01:44:34.977235Z",
          "iopub.status.idle": "2021-04-11T01:44:35.233935Z",
          "shell.execute_reply": "2021-04-11T01:44:35.233208Z"
        },
        "id": "MIhFgvfFIzKr",
        "outputId": "741c1d9d-a104-4e1a-b5d7-f462e0c3f007",
        "papermill": {
          "duration": 0.295017,
          "end_time": "2021-04-11T01:44:35.234065",
          "exception": false,
          "start_time": "2021-04-11T01:44:34.939048",
          "status": "completed"
        },
        "tags": []
      },
      "outputs": [
        {
          "name": "stdout",
          "output_type": "stream",
          "text": [
            "[[   0    0    0 ... 4810 3763 2175]\n",
            " [   0    0    0 ... 3547  786  786]\n",
            " [   0    0    0 ... 2220 3278 1166]\n",
            " ...\n",
            " [   0    0    0 ... 3250 1166  839]\n",
            " [   0    0    0 ...  714 3964 2188]\n",
            " [   0    0    0 ...  197  267  839]]\n"
          ]
        }
      ],
      "source": [
        "sent_length=400\n",
        "embedded_docs=pad_sequences(onehot_repr,padding='pre',maxlen=sent_length)\n",
        "print(embedded_docs)"
      ]
    },
    {
      "cell_type": "code",
      "execution_count": 16,
      "metadata": {
        "execution": {
          "iopub.execute_input": "2021-04-11T01:44:35.381105Z",
          "iopub.status.busy": "2021-04-11T01:44:35.374559Z",
          "iopub.status.idle": "2021-04-11T01:44:35.383750Z",
          "shell.execute_reply": "2021-04-11T01:44:35.383342Z"
        },
        "id": "_K_3A-LYIzKs",
        "papermill": {
          "duration": 0.049924,
          "end_time": "2021-04-11T01:44:35.383845",
          "exception": false,
          "start_time": "2021-04-11T01:44:35.333921",
          "status": "completed"
        },
        "tags": []
      },
      "outputs": [],
      "source": [
        "from gensim.models import Word2Vec\n",
        "\n",
        "def essay_to_wordlist(essay_v, remove_stopwords):\n",
        "    \"\"\"Remove the tagged labels and word tokenize the sentence.\"\"\"\n",
        "    essay_v = re.sub(\"[^a-zA-Z]\", \" \", essay_v)\n",
        "    words = essay_v.lower().split()\n",
        "    if remove_stopwords:\n",
        "        stops = set(stopwords.words(\"english\"))\n",
        "        words = [w for w in words if not w in stops]\n",
        "    return (words)\n",
        "\n",
        "def essay_to_sentences(essay_v, remove_stopwords):\n",
        "    \"\"\"Sentence tokenize the essay and call essay_to_wordlist() for word tokenization.\"\"\"\n",
        "    tokenizer = nltk.data.load('tokenizers/punkt/english.pickle')\n",
        "    raw_sentences = tokenizer.tokenize(essay_v.strip())\n",
        "    sentences = []\n",
        "    for raw_sentence in raw_sentences:\n",
        "        if len(raw_sentence) > 0:\n",
        "            sentences.append(essay_to_wordlist(raw_sentence, remove_stopwords))\n",
        "    return sentences\n",
        "\n",
        "def makeFeatureVec(words, model, num_features):\n",
        "    \"\"\"Make Feature Vector from the words list of an Essay.\"\"\"\n",
        "    featureVec = np.zeros((num_features,), dtype=\"float32\")\n",
        "    num_words = 0\n",
        "    index2word_set = set(model.wv.index_to_key)  # Updated from index2word to index_to_key\n",
        "    for word in words:\n",
        "        if word in index2word_set:\n",
        "            num_words += 1\n",
        "            featureVec = np.add(featureVec, model.wv[word])  # Ensure to use model.wv[word]\n",
        "    if num_words > 0:\n",
        "        featureVec = np.divide(featureVec, num_words)\n",
        "    return featureVec\n",
        "\n",
        "def getAvgFeatureVecs(essays, model, num_features):\n",
        "    \"\"\"Main function to generate the word vectors for word2vec model.\"\"\"\n",
        "    counter = 0\n",
        "    essayFeatureVecs = np.zeros((len(essays),num_features),dtype=\"float32\")\n",
        "    for essay in essays:\n",
        "        essayFeatureVecs[counter] = makeFeatureVec(essay, model, num_features)\n",
        "        counter = counter + 1\n",
        "    return essayFeatureVecs"
      ]
    },
    {
      "cell_type": "code",
      "execution_count": 17,
      "metadata": {
        "colab": {
          "base_uri": "https://localhost:8080/"
        },
        "execution": {
          "iopub.execute_input": "2021-04-11T01:44:35.454554Z",
          "iopub.status.busy": "2021-04-11T01:44:35.453621Z",
          "iopub.status.idle": "2021-04-11T01:44:35.458691Z",
          "shell.execute_reply": "2021-04-11T01:44:35.459402Z"
        },
        "id": "20bD3BvyIzKt",
        "outputId": "f7fbb5fe-7285-4713-ac3d-ddcd0a133b54",
        "papermill": {
          "duration": 0.042977,
          "end_time": "2021-04-11T01:44:35.459537",
          "exception": false,
          "start_time": "2021-04-11T01:44:35.416560",
          "status": "completed"
        },
        "tags": []
      },
      "outputs": [
        {
          "name": "stderr",
          "output_type": "stream",
          "text": [
            "[nltk_data] Downloading package punkt to /root/nltk_data...\n",
            "[nltk_data]   Unzipping tokenizers/punkt.zip.\n"
          ]
        },
        {
          "data": {
            "text/plain": [
              "True"
            ]
          },
          "execution_count": 17,
          "metadata": {},
          "output_type": "execute_result"
        }
      ],
      "source": [
        "nltk.download('punkt')"
      ]
    },
    {
      "cell_type": "code",
      "execution_count": 18,
      "metadata": {
        "execution": {
          "iopub.execute_input": "2021-04-11T01:44:35.536629Z",
          "iopub.status.busy": "2021-04-11T01:44:35.536089Z",
          "iopub.status.idle": "2021-04-11T01:44:35.605107Z",
          "shell.execute_reply": "2021-04-11T01:44:35.604110Z"
        },
        "id": "cfJ3TBsKIzKu",
        "papermill": {
          "duration": 0.111255,
          "end_time": "2021-04-11T01:44:35.605230",
          "exception": false,
          "start_time": "2021-04-11T01:44:35.493975",
          "status": "completed"
        },
        "tags": []
      },
      "outputs": [],
      "source": [
        "from keras.layers import Embedding, LSTM, Dense, Dropout, Lambda, Flatten\n",
        "from keras.models import Sequential, load_model, model_from_config\n",
        "import keras.backend as K\n",
        "\n",
        "def get_model():\n",
        "    \"\"\"Define the model.\"\"\"\n",
        "    model = Sequential()\n",
        "    model.add(LSTM(300, dropout=0.4, recurrent_dropout=0.4, input_shape=[1, 300], return_sequences=True))\n",
        "    model.add(LSTM(64, recurrent_dropout=0.4))\n",
        "    model.add(Dropout(0.5))\n",
        "    model.add(Dense(1, activation='relu'))\n",
        "\n",
        "    model.compile(loss='mean_squared_error', optimizer='rmsprop', metrics=['accuracy','mae'])\n",
        "    model.summary()\n",
        "\n",
        "    return model"
      ]
    },
    {
      "cell_type": "code",
      "execution_count": 19,
      "metadata": {
        "execution": {
          "iopub.execute_input": "2021-04-11T01:44:35.677657Z",
          "iopub.status.busy": "2021-04-11T01:44:35.676990Z",
          "iopub.status.idle": "2021-04-11T01:44:35.679362Z",
          "shell.execute_reply": "2021-04-11T01:44:35.679884Z"
        },
        "id": "wLUa1e-0IzKu",
        "papermill": {
          "duration": 0.040215,
          "end_time": "2021-04-11T01:44:35.679990",
          "exception": false,
          "start_time": "2021-04-11T01:44:35.639775",
          "status": "completed"
        },
        "tags": []
      },
      "outputs": [],
      "source": [
        "X=df\n",
        "y = X['score']"
      ]
    },
    {
      "cell_type": "code",
      "execution_count": 20,
      "metadata": {
        "colab": {
          "base_uri": "https://localhost:8080/"
        },
        "execution": {
          "iopub.execute_input": "2021-04-11T01:44:35.769655Z",
          "iopub.status.busy": "2021-04-11T01:44:35.768591Z",
          "iopub.status.idle": "2021-04-11T01:56:14.007727Z",
          "shell.execute_reply": "2021-04-11T01:56:14.006737Z"
        },
        "id": "SYBa7jh3IzKv",
        "outputId": "15c506ed-cf88-4755-895a-074b900c38d0",
        "papermill": {
          "duration": 698.293723,
          "end_time": "2021-04-11T01:56:14.007833",
          "exception": false,
          "start_time": "2021-04-11T01:44:35.714110",
          "status": "completed"
        },
        "tags": []
      },
      "outputs": [
        {
          "name": "stdout",
          "output_type": "stream",
          "text": [
            "\n",
            "--------Fold 1--------\n",
            "\n",
            "Training Word2Vec Model...\n"
          ]
        },
        {
          "name": "stderr",
          "output_type": "stream",
          "text": [
            "WARNING:gensim.models.keyedvectors:destructive init_sims(replace=True) deprecated & no longer required for space-efficiency\n"
          ]
        },
        {
          "name": "stdout",
          "output_type": "stream",
          "text": [
            "Model: \"sequential\"\n",
            "_________________________________________________________________\n",
            " Layer (type)                Output Shape              Param #   \n",
            "=================================================================\n",
            " lstm (LSTM)                 (None, 1, 300)            721200    \n",
            "                                                                 \n",
            " lstm_1 (LSTM)               (None, 64)                93440     \n",
            "                                                                 \n",
            " dropout (Dropout)           (None, 64)                0         \n",
            "                                                                 \n",
            " dense (Dense)               (None, 1)                 65        \n",
            "                                                                 \n",
            "=================================================================\n",
            "Total params: 814705 (3.11 MB)\n",
            "Trainable params: 814705 (3.11 MB)\n",
            "Non-trainable params: 0 (0.00 Byte)\n",
            "_________________________________________________________________\n",
            "Epoch 1/50\n",
            "130/130 [==============================] - 10s 37ms/step - loss: 5.3649 - accuracy: 0.1446 - mae: 1.6249\n",
            "Epoch 2/50\n",
            "130/130 [==============================] - 3s 23ms/step - loss: 2.1810 - accuracy: 0.1591 - mae: 1.1272\n",
            "Epoch 3/50\n",
            "130/130 [==============================] - 3s 23ms/step - loss: 2.0034 - accuracy: 0.1625 - mae: 1.0792\n",
            "Epoch 4/50\n",
            "130/130 [==============================] - 3s 24ms/step - loss: 1.9602 - accuracy: 0.1632 - mae: 1.0640\n",
            "Epoch 5/50\n",
            "130/130 [==============================] - 5s 40ms/step - loss: 1.9144 - accuracy: 0.1651 - mae: 1.0443\n",
            "Epoch 6/50\n",
            "130/130 [==============================] - 6s 45ms/step - loss: 1.8553 - accuracy: 0.1664 - mae: 1.0260\n",
            "Epoch 7/50\n",
            "130/130 [==============================] - 3s 23ms/step - loss: 1.8328 - accuracy: 0.1661 - mae: 1.0184\n",
            "Epoch 8/50\n",
            "130/130 [==============================] - 3s 23ms/step - loss: 1.8082 - accuracy: 0.1664 - mae: 1.0112\n",
            "Epoch 9/50\n",
            "130/130 [==============================] - 4s 31ms/step - loss: 1.7710 - accuracy: 0.1665 - mae: 0.9996\n",
            "Epoch 10/50\n",
            "130/130 [==============================] - 4s 29ms/step - loss: 1.8009 - accuracy: 0.1665 - mae: 1.0028\n",
            "Epoch 11/50\n",
            "130/130 [==============================] - 3s 25ms/step - loss: 1.7027 - accuracy: 0.1665 - mae: 0.9834\n",
            "Epoch 12/50\n",
            "130/130 [==============================] - 3s 22ms/step - loss: 1.6325 - accuracy: 0.1664 - mae: 0.9653\n",
            "Epoch 13/50\n",
            "130/130 [==============================] - 3s 27ms/step - loss: 1.5839 - accuracy: 0.1665 - mae: 0.9470\n",
            "Epoch 14/50\n",
            "130/130 [==============================] - 4s 33ms/step - loss: 1.5290 - accuracy: 0.1665 - mae: 0.9401\n",
            "Epoch 15/50\n",
            "130/130 [==============================] - 3s 25ms/step - loss: 1.5010 - accuracy: 0.1663 - mae: 0.9387\n",
            "Epoch 16/50\n",
            "130/130 [==============================] - 3s 24ms/step - loss: 1.4998 - accuracy: 0.1665 - mae: 0.9264\n",
            "Epoch 17/50\n",
            "130/130 [==============================] - 4s 30ms/step - loss: 1.4409 - accuracy: 0.1663 - mae: 0.9218\n",
            "Epoch 18/50\n",
            "130/130 [==============================] - 4s 33ms/step - loss: 1.4116 - accuracy: 0.1664 - mae: 0.9106\n",
            "Epoch 19/50\n",
            "130/130 [==============================] - 3s 26ms/step - loss: 1.3412 - accuracy: 0.1663 - mae: 0.8877\n",
            "Epoch 20/50\n",
            "130/130 [==============================] - 3s 23ms/step - loss: 1.3749 - accuracy: 0.1664 - mae: 0.8961\n",
            "Epoch 21/50\n",
            "130/130 [==============================] - 4s 30ms/step - loss: 1.3256 - accuracy: 0.1664 - mae: 0.8792\n",
            "Epoch 22/50\n",
            "130/130 [==============================] - 4s 30ms/step - loss: 1.2765 - accuracy: 0.1665 - mae: 0.8672\n",
            "Epoch 23/50\n",
            "130/130 [==============================] - 3s 23ms/step - loss: 1.2665 - accuracy: 0.1665 - mae: 0.8540\n",
            "Epoch 24/50\n",
            "130/130 [==============================] - 3s 23ms/step - loss: 1.2517 - accuracy: 0.1665 - mae: 0.8485\n",
            "Epoch 25/50\n",
            "130/130 [==============================] - 3s 27ms/step - loss: 1.2251 - accuracy: 0.1664 - mae: 0.8399\n",
            "Epoch 26/50\n",
            "130/130 [==============================] - 4s 31ms/step - loss: 1.2039 - accuracy: 0.1665 - mae: 0.8343\n",
            "Epoch 27/50\n",
            "130/130 [==============================] - 3s 24ms/step - loss: 1.1784 - accuracy: 0.1664 - mae: 0.8244\n",
            "Epoch 28/50\n",
            "130/130 [==============================] - 3s 24ms/step - loss: 1.1702 - accuracy: 0.1665 - mae: 0.8266\n",
            "Epoch 29/50\n",
            "130/130 [==============================] - 3s 24ms/step - loss: 1.1374 - accuracy: 0.1665 - mae: 0.8129\n",
            "Epoch 30/50\n",
            "130/130 [==============================] - 5s 36ms/step - loss: 1.1047 - accuracy: 0.1665 - mae: 0.7975\n",
            "Epoch 31/50\n",
            "130/130 [==============================] - 3s 22ms/step - loss: 1.0978 - accuracy: 0.1664 - mae: 0.8000\n",
            "Epoch 32/50\n",
            "130/130 [==============================] - 3s 23ms/step - loss: 1.0759 - accuracy: 0.1665 - mae: 0.7912\n",
            "Epoch 33/50\n",
            "130/130 [==============================] - 3s 27ms/step - loss: 1.0834 - accuracy: 0.1665 - mae: 0.7948\n",
            "Epoch 34/50\n",
            "130/130 [==============================] - 5s 37ms/step - loss: 1.0797 - accuracy: 0.1665 - mae: 0.7910\n",
            "Epoch 35/50\n",
            "130/130 [==============================] - 3s 22ms/step - loss: 1.0252 - accuracy: 0.1665 - mae: 0.7774\n",
            "Epoch 36/50\n",
            "130/130 [==============================] - 3s 21ms/step - loss: 1.0691 - accuracy: 0.1665 - mae: 0.7836\n",
            "Epoch 37/50\n",
            "130/130 [==============================] - 3s 24ms/step - loss: 1.0234 - accuracy: 0.1664 - mae: 0.7695\n",
            "Epoch 38/50\n",
            "130/130 [==============================] - 5s 38ms/step - loss: 0.9898 - accuracy: 0.1665 - mae: 0.7593\n",
            "Epoch 39/50\n",
            "130/130 [==============================] - 3s 26ms/step - loss: 1.0139 - accuracy: 0.1664 - mae: 0.7662\n",
            "Epoch 40/50\n",
            "130/130 [==============================] - 4s 28ms/step - loss: 0.9945 - accuracy: 0.1665 - mae: 0.7614\n",
            "Epoch 41/50\n",
            "130/130 [==============================] - 3s 27ms/step - loss: 0.9791 - accuracy: 0.1664 - mae: 0.7597\n",
            "Epoch 42/50\n",
            "130/130 [==============================] - 5s 36ms/step - loss: 0.9707 - accuracy: 0.1665 - mae: 0.7545\n",
            "Epoch 43/50\n",
            "130/130 [==============================] - 3s 22ms/step - loss: 0.9758 - accuracy: 0.1664 - mae: 0.7546\n",
            "Epoch 44/50\n",
            "130/130 [==============================] - 3s 23ms/step - loss: 0.9790 - accuracy: 0.1664 - mae: 0.7580\n",
            "Epoch 45/50\n",
            "130/130 [==============================] - 3s 22ms/step - loss: 0.9682 - accuracy: 0.1663 - mae: 0.7520\n",
            "Epoch 46/50\n",
            "130/130 [==============================] - 5s 37ms/step - loss: 0.9895 - accuracy: 0.1665 - mae: 0.7586\n",
            "Epoch 47/50\n",
            "130/130 [==============================] - 3s 25ms/step - loss: 0.9601 - accuracy: 0.1663 - mae: 0.7523\n",
            "Epoch 48/50\n",
            "130/130 [==============================] - 3s 25ms/step - loss: 0.9374 - accuracy: 0.1665 - mae: 0.7439\n",
            "Epoch 49/50\n",
            "130/130 [==============================] - 3s 23ms/step - loss: 0.9283 - accuracy: 0.1660 - mae: 0.7424\n",
            "Epoch 50/50\n",
            "130/130 [==============================] - 5s 37ms/step - loss: 0.9296 - accuracy: 0.1664 - mae: 0.7430\n",
            "65/65 [==============================] - 1s 9ms/step\n",
            "acc Score: 0.41937046004842615\n",
            "Kappa Score: 0.9135115304974715\n",
            "\n",
            "--------Fold 2--------\n",
            "\n",
            "Training Word2Vec Model...\n"
          ]
        },
        {
          "name": "stderr",
          "output_type": "stream",
          "text": [
            "WARNING:gensim.models.keyedvectors:destructive init_sims(replace=True) deprecated & no longer required for space-efficiency\n"
          ]
        },
        {
          "name": "stdout",
          "output_type": "stream",
          "text": [
            "Model: \"sequential_1\"\n",
            "_________________________________________________________________\n",
            " Layer (type)                Output Shape              Param #   \n",
            "=================================================================\n",
            " lstm_2 (LSTM)               (None, 1, 300)            721200    \n",
            "                                                                 \n",
            " lstm_3 (LSTM)               (None, 64)                93440     \n",
            "                                                                 \n",
            " dropout_1 (Dropout)         (None, 64)                0         \n",
            "                                                                 \n",
            " dense_1 (Dense)             (None, 1)                 65        \n",
            "                                                                 \n",
            "=================================================================\n",
            "Total params: 814705 (3.11 MB)\n",
            "Trainable params: 814705 (3.11 MB)\n",
            "Non-trainable params: 0 (0.00 Byte)\n",
            "_________________________________________________________________\n",
            "Epoch 1/50\n",
            "130/130 [==============================] - 8s 23ms/step - loss: 5.1754 - accuracy: 0.1463 - mae: 1.6112\n",
            "Epoch 2/50\n",
            "130/130 [==============================] - 5s 37ms/step - loss: 2.2220 - accuracy: 0.1603 - mae: 1.1381\n",
            "Epoch 3/50\n",
            "130/130 [==============================] - 3s 24ms/step - loss: 2.0678 - accuracy: 0.1631 - mae: 1.0874\n",
            "Epoch 4/50\n",
            "130/130 [==============================] - 3s 24ms/step - loss: 2.0019 - accuracy: 0.1646 - mae: 1.0733\n",
            "Epoch 5/50\n",
            "130/130 [==============================] - 3s 21ms/step - loss: 1.9803 - accuracy: 0.1653 - mae: 1.0572\n",
            "Epoch 6/50\n",
            "130/130 [==============================] - 5s 36ms/step - loss: 1.9102 - accuracy: 0.1669 - mae: 1.0435\n",
            "Epoch 7/50\n",
            "130/130 [==============================] - 3s 25ms/step - loss: 1.8932 - accuracy: 0.1670 - mae: 1.0280\n",
            "Epoch 8/50\n",
            "130/130 [==============================] - 3s 24ms/step - loss: 1.8754 - accuracy: 0.1676 - mae: 1.0193\n",
            "Epoch 9/50\n",
            "130/130 [==============================] - 3s 23ms/step - loss: 1.8280 - accuracy: 0.1677 - mae: 1.0121\n",
            "Epoch 10/50\n",
            "130/130 [==============================] - 4s 34ms/step - loss: 1.8403 - accuracy: 0.1676 - mae: 1.0062\n",
            "Epoch 11/50\n",
            "130/130 [==============================] - 3s 26ms/step - loss: 1.7750 - accuracy: 0.1677 - mae: 0.9931\n",
            "Epoch 12/50\n",
            "130/130 [==============================] - 3s 23ms/step - loss: 1.7244 - accuracy: 0.1677 - mae: 0.9846\n",
            "Epoch 13/50\n",
            "130/130 [==============================] - 3s 25ms/step - loss: 1.7189 - accuracy: 0.1677 - mae: 0.9847\n",
            "Epoch 14/50\n",
            "130/130 [==============================] - 5s 37ms/step - loss: 1.6585 - accuracy: 0.1677 - mae: 0.9694\n",
            "Epoch 15/50\n",
            "130/130 [==============================] - 3s 25ms/step - loss: 1.5688 - accuracy: 0.1677 - mae: 0.9468\n",
            "Epoch 16/50\n",
            "130/130 [==============================] - 3s 24ms/step - loss: 1.5497 - accuracy: 0.1675 - mae: 0.9369\n",
            "Epoch 17/50\n",
            "130/130 [==============================] - 3s 25ms/step - loss: 1.5188 - accuracy: 0.1676 - mae: 0.9267\n",
            "Epoch 18/50\n",
            "130/130 [==============================] - 5s 35ms/step - loss: 1.5117 - accuracy: 0.1676 - mae: 0.9280\n",
            "Epoch 19/50\n",
            "130/130 [==============================] - 3s 26ms/step - loss: 1.4436 - accuracy: 0.1676 - mae: 0.9106\n",
            "Epoch 20/50\n",
            "130/130 [==============================] - 3s 22ms/step - loss: 1.4223 - accuracy: 0.1677 - mae: 0.9044\n",
            "Epoch 21/50\n",
            "130/130 [==============================] - 3s 21ms/step - loss: 1.4460 - accuracy: 0.1676 - mae: 0.9085\n",
            "Epoch 22/50\n",
            "130/130 [==============================] - 4s 28ms/step - loss: 1.4304 - accuracy: 0.1674 - mae: 0.8994\n",
            "Epoch 23/50\n",
            "130/130 [==============================] - 4s 30ms/step - loss: 1.3775 - accuracy: 0.1677 - mae: 0.8896\n",
            "Epoch 24/50\n",
            "130/130 [==============================] - 3s 22ms/step - loss: 1.3463 - accuracy: 0.1677 - mae: 0.8733\n",
            "Epoch 25/50\n",
            "130/130 [==============================] - 3s 25ms/step - loss: 1.3054 - accuracy: 0.1677 - mae: 0.8663\n",
            "Epoch 26/50\n",
            "130/130 [==============================] - 4s 28ms/step - loss: 1.3037 - accuracy: 0.1676 - mae: 0.8630\n",
            "Epoch 27/50\n",
            "130/130 [==============================] - 4s 32ms/step - loss: 1.3213 - accuracy: 0.1677 - mae: 0.8675\n",
            "Epoch 28/50\n",
            "130/130 [==============================] - 3s 24ms/step - loss: 1.3004 - accuracy: 0.1676 - mae: 0.8586\n",
            "Epoch 29/50\n",
            "130/130 [==============================] - 3s 22ms/step - loss: 1.2448 - accuracy: 0.1676 - mae: 0.8420\n",
            "Epoch 30/50\n",
            "130/130 [==============================] - 4s 27ms/step - loss: 1.2482 - accuracy: 0.1676 - mae: 0.8404\n",
            "Epoch 31/50\n",
            "130/130 [==============================] - 4s 34ms/step - loss: 1.2514 - accuracy: 0.1677 - mae: 0.8446\n",
            "Epoch 32/50\n",
            "130/130 [==============================] - 3s 22ms/step - loss: 1.2260 - accuracy: 0.1676 - mae: 0.8335\n",
            "Epoch 33/50\n",
            "130/130 [==============================] - 3s 22ms/step - loss: 1.1779 - accuracy: 0.1677 - mae: 0.8164\n",
            "Epoch 34/50\n",
            "130/130 [==============================] - 3s 22ms/step - loss: 1.1981 - accuracy: 0.1677 - mae: 0.8201\n",
            "Epoch 35/50\n",
            "130/130 [==============================] - 5s 36ms/step - loss: 1.1526 - accuracy: 0.1677 - mae: 0.8077\n",
            "Epoch 36/50\n",
            "130/130 [==============================] - 3s 22ms/step - loss: 1.1249 - accuracy: 0.1677 - mae: 0.7983\n",
            "Epoch 37/50\n",
            "130/130 [==============================] - 3s 22ms/step - loss: 1.1181 - accuracy: 0.1677 - mae: 0.7942\n",
            "Epoch 38/50\n",
            "130/130 [==============================] - 3s 23ms/step - loss: 1.0876 - accuracy: 0.1676 - mae: 0.7881\n",
            "Epoch 39/50\n",
            "130/130 [==============================] - 5s 35ms/step - loss: 1.0947 - accuracy: 0.1677 - mae: 0.7864\n",
            "Epoch 40/50\n",
            "130/130 [==============================] - 3s 27ms/step - loss: 1.0761 - accuracy: 0.1677 - mae: 0.7802\n",
            "Epoch 41/50\n",
            "130/130 [==============================] - 3s 25ms/step - loss: 1.0833 - accuracy: 0.1676 - mae: 0.7816\n",
            "Epoch 42/50\n",
            "130/130 [==============================] - 3s 25ms/step - loss: 1.0713 - accuracy: 0.1677 - mae: 0.7760\n",
            "Epoch 43/50\n",
            "130/130 [==============================] - 5s 35ms/step - loss: 1.0506 - accuracy: 0.1677 - mae: 0.7722\n",
            "Epoch 44/50\n",
            "130/130 [==============================] - 3s 25ms/step - loss: 1.0365 - accuracy: 0.1676 - mae: 0.7678\n",
            "Epoch 45/50\n",
            "130/130 [==============================] - 3s 23ms/step - loss: 1.0397 - accuracy: 0.1676 - mae: 0.7707\n",
            "Epoch 46/50\n",
            "130/130 [==============================] - 3s 24ms/step - loss: 1.0395 - accuracy: 0.1677 - mae: 0.7679\n",
            "Epoch 47/50\n",
            "130/130 [==============================] - 4s 32ms/step - loss: 1.0076 - accuracy: 0.1677 - mae: 0.7631\n",
            "Epoch 48/50\n",
            "130/130 [==============================] - 4s 29ms/step - loss: 1.0086 - accuracy: 0.1677 - mae: 0.7592\n",
            "Epoch 49/50\n",
            "130/130 [==============================] - 3s 25ms/step - loss: 1.0001 - accuracy: 0.1677 - mae: 0.7576\n",
            "Epoch 50/50\n",
            "130/130 [==============================] - 3s 25ms/step - loss: 0.9996 - accuracy: 0.1676 - mae: 0.7544\n",
            "65/65 [==============================] - 1s 6ms/step\n",
            "acc Score: 0.44552058111380144\n",
            "Kappa Score: 0.9288958610584995\n",
            "\n",
            "--------Fold 3--------\n",
            "\n",
            "Training Word2Vec Model...\n"
          ]
        },
        {
          "name": "stderr",
          "output_type": "stream",
          "text": [
            "WARNING:gensim.models.keyedvectors:destructive init_sims(replace=True) deprecated & no longer required for space-efficiency\n"
          ]
        },
        {
          "name": "stdout",
          "output_type": "stream",
          "text": [
            "Model: \"sequential_2\"\n",
            "_________________________________________________________________\n",
            " Layer (type)                Output Shape              Param #   \n",
            "=================================================================\n",
            " lstm_4 (LSTM)               (None, 1, 300)            721200    \n",
            "                                                                 \n",
            " lstm_5 (LSTM)               (None, 64)                93440     \n",
            "                                                                 \n",
            " dropout_2 (Dropout)         (None, 64)                0         \n",
            "                                                                 \n",
            " dense_2 (Dense)             (None, 1)                 65        \n",
            "                                                                 \n",
            "=================================================================\n",
            "Total params: 814705 (3.11 MB)\n",
            "Trainable params: 814705 (3.11 MB)\n",
            "Non-trainable params: 0 (0.00 Byte)\n",
            "_________________________________________________________________\n",
            "Epoch 1/50\n",
            "130/130 [==============================] - 9s 27ms/step - loss: 5.2010 - accuracy: 0.1516 - mae: 1.6079\n",
            "Epoch 2/50\n",
            "130/130 [==============================] - 3s 22ms/step - loss: 2.3109 - accuracy: 0.1658 - mae: 1.1558\n",
            "Epoch 3/50\n",
            "130/130 [==============================] - 3s 21ms/step - loss: 2.0739 - accuracy: 0.1684 - mae: 1.0882\n",
            "Epoch 4/50\n",
            "130/130 [==============================] - 3s 23ms/step - loss: 2.0523 - accuracy: 0.1693 - mae: 1.0806\n",
            "Epoch 5/50\n",
            "130/130 [==============================] - 5s 36ms/step - loss: 1.9844 - accuracy: 0.1705 - mae: 1.0583\n",
            "Epoch 6/50\n",
            "130/130 [==============================] - 3s 23ms/step - loss: 1.9679 - accuracy: 0.1711 - mae: 1.0515\n",
            "Epoch 7/50\n",
            "130/130 [==============================] - 3s 22ms/step - loss: 1.8893 - accuracy: 0.1722 - mae: 1.0349\n",
            "Epoch 8/50\n",
            "130/130 [==============================] - 3s 24ms/step - loss: 1.8806 - accuracy: 0.1726 - mae: 1.0254\n",
            "Epoch 9/50\n",
            "130/130 [==============================] - 5s 36ms/step - loss: 1.8326 - accuracy: 0.1727 - mae: 1.0072\n",
            "Epoch 10/50\n",
            "130/130 [==============================] - 3s 24ms/step - loss: 1.8265 - accuracy: 0.1727 - mae: 1.0033\n",
            "Epoch 11/50\n",
            "130/130 [==============================] - 3s 22ms/step - loss: 1.8130 - accuracy: 0.1728 - mae: 0.9956\n",
            "Epoch 12/50\n",
            "130/130 [==============================] - 3s 23ms/step - loss: 1.7903 - accuracy: 0.1728 - mae: 0.9950\n",
            "Epoch 13/50\n",
            "130/130 [==============================] - 5s 36ms/step - loss: 1.7878 - accuracy: 0.1728 - mae: 0.9908\n",
            "Epoch 14/50\n",
            "130/130 [==============================] - 3s 23ms/step - loss: 1.7002 - accuracy: 0.1728 - mae: 0.9756\n",
            "Epoch 15/50\n",
            "130/130 [==============================] - 3s 21ms/step - loss: 1.6183 - accuracy: 0.1728 - mae: 0.9571\n",
            "Epoch 16/50\n",
            "130/130 [==============================] - 3s 25ms/step - loss: 1.5975 - accuracy: 0.1728 - mae: 0.9532\n",
            "Epoch 17/50\n",
            "130/130 [==============================] - 4s 34ms/step - loss: 1.5469 - accuracy: 0.1727 - mae: 0.9365\n",
            "Epoch 18/50\n",
            "130/130 [==============================] - 4s 27ms/step - loss: 1.5428 - accuracy: 0.1728 - mae: 0.9334\n",
            "Epoch 19/50\n",
            "130/130 [==============================] - 3s 25ms/step - loss: 1.4919 - accuracy: 0.1726 - mae: 0.9225\n",
            "Epoch 20/50\n",
            "130/130 [==============================] - 3s 24ms/step - loss: 1.4523 - accuracy: 0.1726 - mae: 0.9124\n",
            "Epoch 21/50\n",
            "130/130 [==============================] - 4s 33ms/step - loss: 1.4232 - accuracy: 0.1726 - mae: 0.9041\n",
            "Epoch 22/50\n",
            "130/130 [==============================] - 4s 28ms/step - loss: 1.4208 - accuracy: 0.1727 - mae: 0.8959\n",
            "Epoch 23/50\n",
            "130/130 [==============================] - 3s 23ms/step - loss: 1.3976 - accuracy: 0.1727 - mae: 0.8893\n",
            "Epoch 24/50\n",
            "130/130 [==============================] - 3s 22ms/step - loss: 1.4223 - accuracy: 0.1728 - mae: 0.8967\n",
            "Epoch 25/50\n",
            "130/130 [==============================] - 4s 33ms/step - loss: 1.3568 - accuracy: 0.1726 - mae: 0.8807\n",
            "Epoch 26/50\n",
            "130/130 [==============================] - 5s 37ms/step - loss: 1.3421 - accuracy: 0.1728 - mae: 0.8738\n",
            "Epoch 27/50\n",
            "130/130 [==============================] - 4s 34ms/step - loss: 1.2856 - accuracy: 0.1728 - mae: 0.8551\n",
            "Epoch 28/50\n",
            "130/130 [==============================] - 3s 23ms/step - loss: 1.2686 - accuracy: 0.1727 - mae: 0.8497\n",
            "Epoch 29/50\n",
            "130/130 [==============================] - 5s 37ms/step - loss: 1.2475 - accuracy: 0.1727 - mae: 0.8370\n",
            "Epoch 30/50\n",
            "130/130 [==============================] - 3s 23ms/step - loss: 1.2277 - accuracy: 0.1727 - mae: 0.8292\n",
            "Epoch 31/50\n",
            "130/130 [==============================] - 3s 23ms/step - loss: 1.2229 - accuracy: 0.1728 - mae: 0.8310\n",
            "Epoch 32/50\n",
            "130/130 [==============================] - 3s 24ms/step - loss: 1.1902 - accuracy: 0.1727 - mae: 0.8211\n",
            "Epoch 33/50\n",
            "130/130 [==============================] - 5s 36ms/step - loss: 1.1639 - accuracy: 0.1728 - mae: 0.8082\n",
            "Epoch 34/50\n",
            "130/130 [==============================] - 3s 23ms/step - loss: 1.1308 - accuracy: 0.1728 - mae: 0.7994\n",
            "Epoch 35/50\n",
            "130/130 [==============================] - 3s 23ms/step - loss: 1.1273 - accuracy: 0.1728 - mae: 0.8036\n",
            "Epoch 36/50\n",
            "130/130 [==============================] - 3s 22ms/step - loss: 1.1211 - accuracy: 0.1728 - mae: 0.7994\n",
            "Epoch 37/50\n",
            "130/130 [==============================] - 4s 34ms/step - loss: 1.1203 - accuracy: 0.1727 - mae: 0.7979\n",
            "Epoch 38/50\n",
            "130/130 [==============================] - 3s 23ms/step - loss: 1.1105 - accuracy: 0.1728 - mae: 0.7954\n",
            "Epoch 39/50\n",
            "130/130 [==============================] - 3s 24ms/step - loss: 1.1043 - accuracy: 0.1728 - mae: 0.7911\n",
            "Epoch 40/50\n",
            "130/130 [==============================] - 5s 36ms/step - loss: 1.0966 - accuracy: 0.1727 - mae: 0.7903\n",
            "Epoch 41/50\n",
            "130/130 [==============================] - 5s 38ms/step - loss: 1.0656 - accuracy: 0.1728 - mae: 0.7758\n",
            "Epoch 42/50\n",
            "130/130 [==============================] - 3s 22ms/step - loss: 1.0518 - accuracy: 0.1727 - mae: 0.7755\n",
            "Epoch 43/50\n",
            "130/130 [==============================] - 3s 23ms/step - loss: 1.0552 - accuracy: 0.1728 - mae: 0.7743\n",
            "Epoch 44/50\n",
            "130/130 [==============================] - 3s 22ms/step - loss: 1.0312 - accuracy: 0.1726 - mae: 0.7666\n",
            "Epoch 45/50\n",
            "130/130 [==============================] - 5s 36ms/step - loss: 1.0358 - accuracy: 0.1724 - mae: 0.7662\n",
            "Epoch 46/50\n",
            "130/130 [==============================] - 3s 23ms/step - loss: 1.0318 - accuracy: 0.1727 - mae: 0.7689\n",
            "Epoch 47/50\n",
            "130/130 [==============================] - 3s 26ms/step - loss: 1.0319 - accuracy: 0.1728 - mae: 0.7663\n",
            "Epoch 48/50\n",
            "130/130 [==============================] - 3s 23ms/step - loss: 1.0192 - accuracy: 0.1727 - mae: 0.7627\n",
            "Epoch 49/50\n",
            "130/130 [==============================] - 5s 35ms/step - loss: 1.0173 - accuracy: 0.1727 - mae: 0.7628\n",
            "Epoch 50/50\n",
            "130/130 [==============================] - 3s 23ms/step - loss: 0.9995 - accuracy: 0.1727 - mae: 0.7582\n",
            "65/65 [==============================] - 1s 6ms/step\n",
            "acc Score: 0.462953995157385\n",
            "Kappa Score: 0.9363889023399914\n",
            "\n",
            "--------Fold 4--------\n",
            "\n",
            "Training Word2Vec Model...\n"
          ]
        },
        {
          "name": "stderr",
          "output_type": "stream",
          "text": [
            "WARNING:gensim.models.keyedvectors:destructive init_sims(replace=True) deprecated & no longer required for space-efficiency\n"
          ]
        },
        {
          "name": "stdout",
          "output_type": "stream",
          "text": [
            "Model: \"sequential_3\"\n",
            "_________________________________________________________________\n",
            " Layer (type)                Output Shape              Param #   \n",
            "=================================================================\n",
            " lstm_6 (LSTM)               (None, 1, 300)            721200    \n",
            "                                                                 \n",
            " lstm_7 (LSTM)               (None, 64)                93440     \n",
            "                                                                 \n",
            " dropout_3 (Dropout)         (None, 64)                0         \n",
            "                                                                 \n",
            " dense_3 (Dense)             (None, 1)                 65        \n",
            "                                                                 \n",
            "=================================================================\n",
            "Total params: 814705 (3.11 MB)\n",
            "Trainable params: 814705 (3.11 MB)\n",
            "Non-trainable params: 0 (0.00 Byte)\n",
            "_________________________________________________________________\n",
            "Epoch 1/50\n",
            "130/130 [==============================] - 9s 26ms/step - loss: 5.2298 - accuracy: 0.1483 - mae: 1.5943\n",
            "Epoch 2/50\n",
            "130/130 [==============================] - 4s 27ms/step - loss: 2.1907 - accuracy: 0.1613 - mae: 1.1238\n",
            "Epoch 3/50\n",
            "130/130 [==============================] - 5s 39ms/step - loss: 2.0643 - accuracy: 0.1613 - mae: 1.0795\n",
            "Epoch 4/50\n",
            "130/130 [==============================] - 4s 27ms/step - loss: 1.9760 - accuracy: 0.1630 - mae: 1.0611\n",
            "Epoch 5/50\n",
            "130/130 [==============================] - 3s 25ms/step - loss: 1.9681 - accuracy: 0.1649 - mae: 1.0548\n",
            "Epoch 6/50\n",
            "130/130 [==============================] - 3s 23ms/step - loss: 1.8960 - accuracy: 0.1648 - mae: 1.0372\n",
            "Epoch 7/50\n",
            "130/130 [==============================] - 5s 39ms/step - loss: 1.8842 - accuracy: 0.1658 - mae: 1.0189\n",
            "Epoch 8/50\n",
            "130/130 [==============================] - 3s 24ms/step - loss: 1.8452 - accuracy: 0.1664 - mae: 1.0147\n",
            "Epoch 9/50\n",
            "130/130 [==============================] - 3s 23ms/step - loss: 1.8416 - accuracy: 0.1670 - mae: 1.0060\n",
            "Epoch 10/50\n",
            "130/130 [==============================] - 3s 23ms/step - loss: 1.7619 - accuracy: 0.1670 - mae: 0.9872\n",
            "Epoch 11/50\n",
            "130/130 [==============================] - 4s 35ms/step - loss: 1.7857 - accuracy: 0.1670 - mae: 0.9876\n",
            "Epoch 12/50\n",
            "130/130 [==============================] - 3s 25ms/step - loss: 1.7075 - accuracy: 0.1670 - mae: 0.9733\n",
            "Epoch 13/50\n",
            "130/130 [==============================] - 3s 23ms/step - loss: 1.6814 - accuracy: 0.1670 - mae: 0.9691\n",
            "Epoch 14/50\n",
            "130/130 [==============================] - 3s 25ms/step - loss: 1.5750 - accuracy: 0.1670 - mae: 0.9437\n",
            "Epoch 15/50\n",
            "130/130 [==============================] - 5s 37ms/step - loss: 1.5532 - accuracy: 0.1668 - mae: 0.9359\n",
            "Epoch 16/50\n",
            "130/130 [==============================] - 3s 27ms/step - loss: 1.5333 - accuracy: 0.1670 - mae: 0.9321\n",
            "Epoch 17/50\n",
            "130/130 [==============================] - 3s 25ms/step - loss: 1.5190 - accuracy: 0.1668 - mae: 0.9314\n",
            "Epoch 18/50\n",
            "130/130 [==============================] - 4s 30ms/step - loss: 1.4622 - accuracy: 0.1668 - mae: 0.9171\n",
            "Epoch 19/50\n",
            "130/130 [==============================] - 4s 32ms/step - loss: 1.4421 - accuracy: 0.1668 - mae: 0.9059\n",
            "Epoch 20/50\n",
            "130/130 [==============================] - 3s 23ms/step - loss: 1.4193 - accuracy: 0.1667 - mae: 0.8978\n",
            "Epoch 21/50\n",
            "130/130 [==============================] - 3s 23ms/step - loss: 1.4139 - accuracy: 0.1670 - mae: 0.8965\n",
            "Epoch 22/50\n",
            "130/130 [==============================] - 3s 26ms/step - loss: 1.3516 - accuracy: 0.1666 - mae: 0.8791\n",
            "Epoch 23/50\n",
            "130/130 [==============================] - 4s 33ms/step - loss: 1.3593 - accuracy: 0.1667 - mae: 0.8811\n",
            "Epoch 24/50\n",
            "130/130 [==============================] - 3s 26ms/step - loss: 1.3043 - accuracy: 0.1670 - mae: 0.8655\n",
            "Epoch 25/50\n",
            "130/130 [==============================] - 3s 23ms/step - loss: 1.3110 - accuracy: 0.1668 - mae: 0.8630\n",
            "Epoch 26/50\n",
            "130/130 [==============================] - 4s 29ms/step - loss: 1.2986 - accuracy: 0.1670 - mae: 0.8580\n",
            "Epoch 27/50\n",
            "130/130 [==============================] - 4s 31ms/step - loss: 1.2477 - accuracy: 0.1670 - mae: 0.8458\n",
            "Epoch 28/50\n",
            "130/130 [==============================] - 3s 24ms/step - loss: 1.2619 - accuracy: 0.1668 - mae: 0.8372\n",
            "Epoch 29/50\n",
            "130/130 [==============================] - 3s 22ms/step - loss: 1.1947 - accuracy: 0.1668 - mae: 0.8277\n",
            "Epoch 30/50\n",
            "130/130 [==============================] - 3s 27ms/step - loss: 1.2042 - accuracy: 0.1667 - mae: 0.8308\n",
            "Epoch 31/50\n",
            "130/130 [==============================] - 4s 34ms/step - loss: 1.1872 - accuracy: 0.1668 - mae: 0.8158\n",
            "Epoch 32/50\n",
            "130/130 [==============================] - 3s 23ms/step - loss: 1.1729 - accuracy: 0.1670 - mae: 0.8078\n",
            "Epoch 33/50\n",
            "130/130 [==============================] - 3s 25ms/step - loss: 1.1463 - accuracy: 0.1668 - mae: 0.8041\n",
            "Epoch 34/50\n",
            "130/130 [==============================] - 3s 26ms/step - loss: 1.1588 - accuracy: 0.1667 - mae: 0.8111\n",
            "Epoch 35/50\n",
            "130/130 [==============================] - 6s 45ms/step - loss: 1.1416 - accuracy: 0.1668 - mae: 0.7988\n",
            "Epoch 36/50\n",
            "130/130 [==============================] - 4s 27ms/step - loss: 1.0941 - accuracy: 0.1668 - mae: 0.7905\n",
            "Epoch 37/50\n",
            "130/130 [==============================] - 3s 25ms/step - loss: 1.0967 - accuracy: 0.1668 - mae: 0.7905\n",
            "Epoch 38/50\n",
            "130/130 [==============================] - 4s 27ms/step - loss: 1.0869 - accuracy: 0.1670 - mae: 0.7875\n",
            "Epoch 39/50\n",
            "130/130 [==============================] - 5s 35ms/step - loss: 1.0851 - accuracy: 0.1670 - mae: 0.7844\n",
            "Epoch 40/50\n",
            "130/130 [==============================] - 3s 22ms/step - loss: 1.0823 - accuracy: 0.1670 - mae: 0.7801\n",
            "Epoch 41/50\n",
            "130/130 [==============================] - 3s 24ms/step - loss: 1.0492 - accuracy: 0.1670 - mae: 0.7713\n",
            "Epoch 42/50\n",
            "130/130 [==============================] - 3s 25ms/step - loss: 1.0572 - accuracy: 0.1668 - mae: 0.7720\n",
            "Epoch 43/50\n",
            "130/130 [==============================] - 5s 37ms/step - loss: 1.0475 - accuracy: 0.1670 - mae: 0.7709\n",
            "Epoch 44/50\n",
            "130/130 [==============================] - 3s 24ms/step - loss: 1.0232 - accuracy: 0.1668 - mae: 0.7639\n",
            "Epoch 45/50\n",
            "130/130 [==============================] - 3s 25ms/step - loss: 0.9981 - accuracy: 0.1670 - mae: 0.7581\n",
            "Epoch 46/50\n",
            "130/130 [==============================] - 3s 22ms/step - loss: 1.0252 - accuracy: 0.1667 - mae: 0.7619\n",
            "Epoch 47/50\n",
            "130/130 [==============================] - 5s 36ms/step - loss: 1.0235 - accuracy: 0.1668 - mae: 0.7635\n",
            "Epoch 48/50\n",
            "130/130 [==============================] - 3s 26ms/step - loss: 0.9940 - accuracy: 0.1667 - mae: 0.7528\n",
            "Epoch 49/50\n",
            "130/130 [==============================] - 3s 24ms/step - loss: 0.9759 - accuracy: 0.1668 - mae: 0.7475\n",
            "Epoch 50/50\n",
            "130/130 [==============================] - 3s 24ms/step - loss: 0.9868 - accuracy: 0.1670 - mae: 0.7524\n",
            "65/65 [==============================] - 1s 5ms/step\n",
            "acc Score: 0.4127906976744186\n",
            "Kappa Score: 0.9147305126338735\n",
            "\n",
            "--------Fold 5--------\n",
            "\n",
            "Training Word2Vec Model...\n"
          ]
        },
        {
          "name": "stderr",
          "output_type": "stream",
          "text": [
            "WARNING:gensim.models.keyedvectors:destructive init_sims(replace=True) deprecated & no longer required for space-efficiency\n"
          ]
        },
        {
          "name": "stdout",
          "output_type": "stream",
          "text": [
            "Model: \"sequential_4\"\n",
            "_________________________________________________________________\n",
            " Layer (type)                Output Shape              Param #   \n",
            "=================================================================\n",
            " lstm_8 (LSTM)               (None, 1, 300)            721200    \n",
            "                                                                 \n",
            " lstm_9 (LSTM)               (None, 64)                93440     \n",
            "                                                                 \n",
            " dropout_4 (Dropout)         (None, 64)                0         \n",
            "                                                                 \n",
            " dense_4 (Dense)             (None, 1)                 65        \n",
            "                                                                 \n",
            "=================================================================\n",
            "Total params: 814705 (3.11 MB)\n",
            "Trainable params: 814705 (3.11 MB)\n",
            "Non-trainable params: 0 (0.00 Byte)\n",
            "_________________________________________________________________\n",
            "Epoch 1/50\n",
            "130/130 [==============================] - 8s 27ms/step - loss: 5.2387 - accuracy: 0.1435 - mae: 1.6090\n",
            "Epoch 2/50\n",
            "130/130 [==============================] - 4s 34ms/step - loss: 2.2275 - accuracy: 0.1613 - mae: 1.1377\n",
            "Epoch 3/50\n",
            "130/130 [==============================] - 3s 23ms/step - loss: 2.0772 - accuracy: 0.1615 - mae: 1.0930\n",
            "Epoch 4/50\n",
            "130/130 [==============================] - 4s 27ms/step - loss: 2.0420 - accuracy: 0.1615 - mae: 1.0771\n",
            "Epoch 5/50\n",
            "130/130 [==============================] - 4s 31ms/step - loss: 1.9701 - accuracy: 0.1644 - mae: 1.0560\n",
            "Epoch 6/50\n",
            "130/130 [==============================] - 4s 29ms/step - loss: 1.9616 - accuracy: 0.1648 - mae: 1.0559\n",
            "Epoch 7/50\n",
            "130/130 [==============================] - 3s 25ms/step - loss: 1.8865 - accuracy: 0.1660 - mae: 1.0301\n",
            "Epoch 8/50\n",
            "130/130 [==============================] - 3s 26ms/step - loss: 1.8382 - accuracy: 0.1664 - mae: 1.0151\n",
            "Epoch 9/50\n",
            "130/130 [==============================] - 4s 30ms/step - loss: 1.8300 - accuracy: 0.1667 - mae: 1.0077\n",
            "Epoch 10/50\n",
            "130/130 [==============================] - 4s 31ms/step - loss: 1.8123 - accuracy: 0.1668 - mae: 1.0015\n",
            "Epoch 11/50\n",
            "130/130 [==============================] - 3s 22ms/step - loss: 1.7919 - accuracy: 0.1668 - mae: 1.0016\n",
            "Epoch 12/50\n",
            "130/130 [==============================] - 3s 25ms/step - loss: 1.7111 - accuracy: 0.1668 - mae: 0.9834\n",
            "Epoch 13/50\n",
            "130/130 [==============================] - 4s 28ms/step - loss: 1.6986 - accuracy: 0.1668 - mae: 0.9722\n",
            "Epoch 14/50\n",
            "130/130 [==============================] - 4s 30ms/step - loss: 1.6295 - accuracy: 0.1666 - mae: 0.9653\n",
            "Epoch 15/50\n",
            "130/130 [==============================] - 3s 26ms/step - loss: 1.5319 - accuracy: 0.1667 - mae: 0.9391\n",
            "Epoch 16/50\n",
            "130/130 [==============================] - 3s 24ms/step - loss: 1.5199 - accuracy: 0.1667 - mae: 0.9342\n",
            "Epoch 17/50\n",
            "130/130 [==============================] - 4s 29ms/step - loss: 1.4944 - accuracy: 0.1666 - mae: 0.9286\n",
            "Epoch 18/50\n",
            "130/130 [==============================] - 4s 31ms/step - loss: 1.4630 - accuracy: 0.1667 - mae: 0.9175\n",
            "Epoch 19/50\n",
            "130/130 [==============================] - 3s 26ms/step - loss: 1.4428 - accuracy: 0.1667 - mae: 0.9127\n",
            "Epoch 20/50\n",
            "130/130 [==============================] - 3s 27ms/step - loss: 1.4625 - accuracy: 0.1668 - mae: 0.9150\n",
            "Epoch 21/50\n",
            "130/130 [==============================] - 5s 41ms/step - loss: 1.3708 - accuracy: 0.1666 - mae: 0.8907\n",
            "Epoch 22/50\n",
            "130/130 [==============================] - 5s 38ms/step - loss: 1.4283 - accuracy: 0.1667 - mae: 0.9021\n",
            "Epoch 23/50\n",
            "130/130 [==============================] - 4s 28ms/step - loss: 1.3563 - accuracy: 0.1666 - mae: 0.8803\n",
            "Epoch 24/50\n",
            "130/130 [==============================] - 4s 34ms/step - loss: 1.3736 - accuracy: 0.1667 - mae: 0.8834\n",
            "Epoch 25/50\n",
            "130/130 [==============================] - 4s 29ms/step - loss: 1.3187 - accuracy: 0.1667 - mae: 0.8716\n",
            "Epoch 26/50\n",
            "130/130 [==============================] - 3s 26ms/step - loss: 1.2923 - accuracy: 0.1666 - mae: 0.8623\n",
            "Epoch 27/50\n",
            "130/130 [==============================] - 3s 23ms/step - loss: 1.2813 - accuracy: 0.1666 - mae: 0.8564\n",
            "Epoch 28/50\n",
            "130/130 [==============================] - 4s 35ms/step - loss: 1.2580 - accuracy: 0.1668 - mae: 0.8449\n",
            "Epoch 29/50\n",
            "130/130 [==============================] - 3s 24ms/step - loss: 1.2376 - accuracy: 0.1667 - mae: 0.8369\n",
            "Epoch 30/50\n",
            "130/130 [==============================] - 3s 24ms/step - loss: 1.2019 - accuracy: 0.1668 - mae: 0.8316\n",
            "Epoch 31/50\n",
            "130/130 [==============================] - 3s 25ms/step - loss: 1.1948 - accuracy: 0.1667 - mae: 0.8257\n",
            "Epoch 32/50\n",
            "130/130 [==============================] - 4s 33ms/step - loss: 1.1538 - accuracy: 0.1667 - mae: 0.8166\n",
            "Epoch 33/50\n",
            "130/130 [==============================] - 3s 26ms/step - loss: 1.1491 - accuracy: 0.1668 - mae: 0.8115\n",
            "Epoch 34/50\n",
            "130/130 [==============================] - 3s 24ms/step - loss: 1.1320 - accuracy: 0.1666 - mae: 0.8059\n",
            "Epoch 35/50\n",
            "130/130 [==============================] - 3s 23ms/step - loss: 1.1192 - accuracy: 0.1667 - mae: 0.8037\n",
            "Epoch 36/50\n",
            "130/130 [==============================] - 4s 34ms/step - loss: 1.1235 - accuracy: 0.1668 - mae: 0.7962\n",
            "Epoch 37/50\n",
            "130/130 [==============================] - 3s 26ms/step - loss: 1.0881 - accuracy: 0.1668 - mae: 0.7973\n",
            "Epoch 38/50\n",
            "130/130 [==============================] - 3s 23ms/step - loss: 1.0725 - accuracy: 0.1668 - mae: 0.7875\n",
            "Epoch 39/50\n",
            "130/130 [==============================] - 3s 23ms/step - loss: 1.0659 - accuracy: 0.1668 - mae: 0.7828\n",
            "Epoch 40/50\n",
            "130/130 [==============================] - 4s 31ms/step - loss: 1.0684 - accuracy: 0.1667 - mae: 0.7845\n",
            "Epoch 41/50\n",
            "130/130 [==============================] - 4s 29ms/step - loss: 1.0495 - accuracy: 0.1667 - mae: 0.7770\n",
            "Epoch 42/50\n",
            "130/130 [==============================] - 3s 22ms/step - loss: 1.0518 - accuracy: 0.1668 - mae: 0.7764\n",
            "Epoch 43/50\n",
            "130/130 [==============================] - 3s 26ms/step - loss: 1.0270 - accuracy: 0.1668 - mae: 0.7663\n",
            "Epoch 44/50\n",
            "130/130 [==============================] - 4s 34ms/step - loss: 1.0193 - accuracy: 0.1668 - mae: 0.7620\n",
            "Epoch 45/50\n",
            "130/130 [==============================] - 3s 26ms/step - loss: 1.0078 - accuracy: 0.1668 - mae: 0.7663\n",
            "Epoch 46/50\n",
            "130/130 [==============================] - 3s 26ms/step - loss: 1.0077 - accuracy: 0.1668 - mae: 0.7631\n",
            "Epoch 47/50\n",
            "130/130 [==============================] - 3s 23ms/step - loss: 1.0337 - accuracy: 0.1668 - mae: 0.7668\n",
            "Epoch 48/50\n",
            "130/130 [==============================] - 4s 32ms/step - loss: 0.9951 - accuracy: 0.1668 - mae: 0.7562\n",
            "Epoch 49/50\n",
            "130/130 [==============================] - 4s 27ms/step - loss: 0.9784 - accuracy: 0.1667 - mae: 0.7577\n",
            "Epoch 50/50\n",
            "130/130 [==============================] - 3s 23ms/step - loss: 0.9740 - accuracy: 0.1668 - mae: 0.7519\n",
            "65/65 [==============================] - 1s 6ms/step\n",
            "acc Score: 0.42829457364341084\n",
            "Kappa Score: 0.9161813478118851\n"
          ]
        }
      ],
      "source": [
        "from sklearn.model_selection import KFold\n",
        "from sklearn.linear_model import LinearRegression\n",
        "from sklearn.metrics import cohen_kappa_score\n",
        "\n",
        "cv = KFold(n_splits = 5, shuffle = True)\n",
        "results = []\n",
        "y_pred_list = []\n",
        "\n",
        "count = 1\n",
        "for traincv, testcv in cv.split(X):\n",
        "    print(\"\\n--------Fold {}--------\\n\".format(count))\n",
        "    X_test, X_train, y_test, y_train = X.iloc[testcv], X.iloc[traincv], y.iloc[testcv], y.iloc[traincv]\n",
        "\n",
        "    train_essays = X_train['essay']\n",
        "    test_essays = X_test['essay']\n",
        "\n",
        "    sentences = []\n",
        "\n",
        "    for essay in train_essays:\n",
        "            # Obtaining all sentences from the training essays.\n",
        "            sentences += essay_to_sentences(essay, remove_stopwords = True)\n",
        "\n",
        "    # Initializing variables for word2vec model.\n",
        "    num_features = 300\n",
        "    min_word_count = 40\n",
        "    num_workers = 4\n",
        "    context = 10\n",
        "    downsampling = 1e-3\n",
        "\n",
        "    print(\"Training Word2Vec Model...\")\n",
        "    model = Word2Vec(sentences, workers=num_workers, vector_size=num_features, min_count=min_word_count, window=context, sample=downsampling)\n",
        "\n",
        "    model.init_sims(replace=True)\n",
        "    model.wv.save_word2vec_format('word2vecmodel.bin', binary=True)\n",
        "\n",
        "    clean_train_essays = []\n",
        "\n",
        "    # Generate training and testing data word vectors.\n",
        "    for essay_v in train_essays:\n",
        "        clean_train_essays.append(essay_to_wordlist(essay_v, remove_stopwords=True))\n",
        "    trainDataVecs = getAvgFeatureVecs(clean_train_essays, model, num_features)\n",
        "\n",
        "    clean_test_essays = []\n",
        "    for essay_v in test_essays:\n",
        "        clean_test_essays.append(essay_to_wordlist( essay_v, remove_stopwords=True ))\n",
        "    testDataVecs = getAvgFeatureVecs( clean_test_essays, model, num_features )\n",
        "\n",
        "    trainDataVecs = np.array(trainDataVecs)\n",
        "    testDataVecs = np.array(testDataVecs)\n",
        "    # Reshaping train and test vectors to 3 dimensions. (1 represnts one timestep)\n",
        "    trainDataVecs = np.reshape(trainDataVecs, (trainDataVecs.shape[0], 1, trainDataVecs.shape[1]))\n",
        "    testDataVecs = np.reshape(testDataVecs, (testDataVecs.shape[0], 1, testDataVecs.shape[1]))\n",
        "\n",
        "    lstm_model = get_model()\n",
        "    lstm_model.fit(trainDataVecs, y_train, batch_size=64, epochs=50)\n",
        "    #lstm_model.load_weights('./model_weights/final_lstm.h5')\n",
        "    y_pred = lstm_model.predict(testDataVecs)\n",
        "\n",
        "    # Save any one of the 5 models.\n",
        "    if count == 5:\n",
        "         lstm_model.save('./final_lstm.h5')\n",
        "\n",
        "    # Round y_pred to the nearest integer.\n",
        "    y_pred = np.around(y_pred)\n",
        "\n",
        "    # Evaluate the model on the evaluation metric. \"Quadratic mean averaged Kappa\"\n",
        "    result = cohen_kappa_score(y_test.values,y_pred,weights='quadratic')\n",
        "    from sklearn.metrics import accuracy_score\n",
        "    acc = accuracy_score(y_test.values,y_pred)\n",
        "    print(\"acc Score: {}\".format(acc))\n",
        "    print(\"Kappa Score: {}\".format(result))\n",
        "    results.append(result)\n",
        "\n",
        "    count += 1\n"
      ]
    },
    {
      "cell_type": "code",
      "execution_count": 21,
      "metadata": {
        "colab": {
          "base_uri": "https://localhost:8080/"
        },
        "execution": {
          "iopub.execute_input": "2021-04-11T01:56:24.229113Z",
          "iopub.status.busy": "2021-04-11T01:56:24.227758Z",
          "iopub.status.idle": "2021-04-11T01:56:24.231837Z",
          "shell.execute_reply": "2021-04-11T01:56:24.231366Z"
        },
        "id": "Ln01Mtb0IzKw",
        "outputId": "d553d2bb-457b-4827-a659-283d78697109",
        "papermill": {
          "duration": 2.712954,
          "end_time": "2021-04-11T01:56:24.232011",
          "exception": false,
          "start_time": "2021-04-11T01:56:21.519057",
          "status": "completed"
        },
        "tags": []
      },
      "outputs": [
        {
          "name": "stdout",
          "output_type": "stream",
          "text": [
            "Average Kappa score after a 5-fold cross validation:  0.9219\n"
          ]
        }
      ],
      "source": [
        "print(\"Average Kappa score after a 5-fold cross validation: \",np.around(np.array(results).mean(),decimals=4))"
      ]
    },
    {
      "cell_type": "code",
      "execution_count": 22,
      "metadata": {
        "colab": {
          "base_uri": "https://localhost:8080/",
          "height": 81
        },
        "execution": {
          "iopub.execute_input": "2021-04-11T01:56:29.198087Z",
          "iopub.status.busy": "2021-04-11T01:56:29.197553Z",
          "iopub.status.idle": "2021-04-11T01:56:29.211532Z",
          "shell.execute_reply": "2021-04-11T01:56:29.212036Z"
        },
        "id": "cgRCHOhSIzKx",
        "outputId": "d017db47-7907-4a69-fe9e-90a79ebd5ddc",
        "papermill": {
          "duration": 2.513621,
          "end_time": "2021-04-11T01:56:29.212152",
          "exception": false,
          "start_time": "2021-04-11T01:56:26.698531",
          "status": "completed"
        },
        "tags": []
      },
      "outputs": [
        {
          "data": {
            "application/vnd.google.colaboratory.intrinsic+json": {
              "summary": "{\n  \"name\": \"demo_df\",\n  \"rows\": 1,\n  \"fields\": [\n    {\n      \"column\": \"essay\",\n      \"properties\": {\n        \"dtype\": \"string\",\n        \"num_unique_values\": 1,\n        \"samples\": [\n          \"Dear@CAPS1 @CAPS2, I believe that using computers will benefit us in many ways like talking and becoming friends will others through websites like facebook and mysace. Using computers can help us find coordibates, locations, and able ourselfs to millions of information. Also computers will benefit us by helping with jobs as in planning a house plan and typing a @NUM1 page report for one of our jobs in less than writing it. Now lets go into the wonder world of technology. Using a computer will help us in life by talking or making friends on line. Many people have myspace, facebooks, aim, these all benefit us by having conversations with one another. Many people believe computers are bad but how can you make friends if you can never talk to them? I am very fortunate for having a computer that can help with not only school work but my social life and how I make friends. Computers help us with finding our locations, coordibates and millions of information online. If we didn't go on the internet a lot we wouldn't know how to go onto websites that @MONTH1 help us with locations and coordinates like @LOCATION1. Would you rather use a computer or be in @LOCATION3. When your supposed to be vacationing in @LOCATION2. Million of information is found on the internet. You can as almost every question and a computer will have it. Would you rather easily draw up a house plan on the computers or take @NUM1 hours doing one by hand with ugly erazer marks all over it, you are garrenteed that to find a job with a drawing like that. Also when appling for a job many workers must write very long papers like a @NUM3 word essay on why this job fits you the most, and many people I know don't like writing @NUM3 words non-stopp for hours when it could take them I hav an a computer. That is why computers we needed a lot now adays. I hope this essay has impacted your descion on computers because they are great machines to work with. The other day I showed my mom how to use a computer and she said it was the greatest invention sense sliced bread! Now go out and buy a computer to help you chat online with friends, find locations and millions of information on one click of the button and help your self with getting a job with neat, prepared, printed work that your boss will love.\"\n        ],\n        \"semantic_type\": \"\",\n        \"description\": \"\"\n      }\n    }\n  ]\n}",
              "type": "dataframe",
              "variable_name": "demo_df"
            },
            "text/html": [
              "\n",
              "  <div id=\"df-be9b1773-2099-4162-b7cf-3552de03111f\" class=\"colab-df-container\">\n",
              "    <div>\n",
              "<style scoped>\n",
              "    .dataframe tbody tr th:only-of-type {\n",
              "        vertical-align: middle;\n",
              "    }\n",
              "\n",
              "    .dataframe tbody tr th {\n",
              "        vertical-align: top;\n",
              "    }\n",
              "\n",
              "    .dataframe thead th {\n",
              "        text-align: right;\n",
              "    }\n",
              "</style>\n",
              "<table border=\"1\" class=\"dataframe\">\n",
              "  <thead>\n",
              "    <tr style=\"text-align: right;\">\n",
              "      <th></th>\n",
              "      <th>essay</th>\n",
              "    </tr>\n",
              "  </thead>\n",
              "  <tbody>\n",
              "    <tr>\n",
              "      <th>0</th>\n",
              "      <td>Dear@CAPS1 @CAPS2, I believe that using comput...</td>\n",
              "    </tr>\n",
              "  </tbody>\n",
              "</table>\n",
              "</div>\n",
              "    <div class=\"colab-df-buttons\">\n",
              "\n",
              "  <div class=\"colab-df-container\">\n",
              "    <button class=\"colab-df-convert\" onclick=\"convertToInteractive('df-be9b1773-2099-4162-b7cf-3552de03111f')\"\n",
              "            title=\"Convert this dataframe to an interactive table.\"\n",
              "            style=\"display:none;\">\n",
              "\n",
              "  <svg xmlns=\"http://www.w3.org/2000/svg\" height=\"24px\" viewBox=\"0 -960 960 960\">\n",
              "    <path d=\"M120-120v-720h720v720H120Zm60-500h600v-160H180v160Zm220 220h160v-160H400v160Zm0 220h160v-160H400v160ZM180-400h160v-160H180v160Zm440 0h160v-160H620v160ZM180-180h160v-160H180v160Zm440 0h160v-160H620v160Z\"/>\n",
              "  </svg>\n",
              "    </button>\n",
              "\n",
              "  <style>\n",
              "    .colab-df-container {\n",
              "      display:flex;\n",
              "      gap: 12px;\n",
              "    }\n",
              "\n",
              "    .colab-df-convert {\n",
              "      background-color: #E8F0FE;\n",
              "      border: none;\n",
              "      border-radius: 50%;\n",
              "      cursor: pointer;\n",
              "      display: none;\n",
              "      fill: #1967D2;\n",
              "      height: 32px;\n",
              "      padding: 0 0 0 0;\n",
              "      width: 32px;\n",
              "    }\n",
              "\n",
              "    .colab-df-convert:hover {\n",
              "      background-color: #E2EBFA;\n",
              "      box-shadow: 0px 1px 2px rgba(60, 64, 67, 0.3), 0px 1px 3px 1px rgba(60, 64, 67, 0.15);\n",
              "      fill: #174EA6;\n",
              "    }\n",
              "\n",
              "    .colab-df-buttons div {\n",
              "      margin-bottom: 4px;\n",
              "    }\n",
              "\n",
              "    [theme=dark] .colab-df-convert {\n",
              "      background-color: #3B4455;\n",
              "      fill: #D2E3FC;\n",
              "    }\n",
              "\n",
              "    [theme=dark] .colab-df-convert:hover {\n",
              "      background-color: #434B5C;\n",
              "      box-shadow: 0px 1px 3px 1px rgba(0, 0, 0, 0.15);\n",
              "      filter: drop-shadow(0px 1px 2px rgba(0, 0, 0, 0.3));\n",
              "      fill: #FFFFFF;\n",
              "    }\n",
              "  </style>\n",
              "\n",
              "    <script>\n",
              "      const buttonEl =\n",
              "        document.querySelector('#df-be9b1773-2099-4162-b7cf-3552de03111f button.colab-df-convert');\n",
              "      buttonEl.style.display =\n",
              "        google.colab.kernel.accessAllowed ? 'block' : 'none';\n",
              "\n",
              "      async function convertToInteractive(key) {\n",
              "        const element = document.querySelector('#df-be9b1773-2099-4162-b7cf-3552de03111f');\n",
              "        const dataTable =\n",
              "          await google.colab.kernel.invokeFunction('convertToInteractive',\n",
              "                                                    [key], {});\n",
              "        if (!dataTable) return;\n",
              "\n",
              "        const docLinkHtml = 'Like what you see? Visit the ' +\n",
              "          '<a target=\"_blank\" href=https://colab.research.google.com/notebooks/data_table.ipynb>data table notebook</a>'\n",
              "          + ' to learn more about interactive tables.';\n",
              "        element.innerHTML = '';\n",
              "        dataTable['output_type'] = 'display_data';\n",
              "        await google.colab.output.renderOutput(dataTable, element);\n",
              "        const docLink = document.createElement('div');\n",
              "        docLink.innerHTML = docLinkHtml;\n",
              "        element.appendChild(docLink);\n",
              "      }\n",
              "    </script>\n",
              "  </div>\n",
              "\n",
              "    </div>\n",
              "  </div>\n"
            ],
            "text/plain": [
              "                                               essay\n",
              "0  Dear@CAPS1 @CAPS2, I believe that using comput..."
            ]
          },
          "execution_count": 22,
          "metadata": {},
          "output_type": "execute_result"
        }
      ],
      "source": [
        "demo = [\"Dear@CAPS1 @CAPS2, I believe that using computers will benefit us in many ways like talking and becoming friends will others through websites like facebook and mysace. Using computers can help us find coordibates, locations, and able ourselfs to millions of information. Also computers will benefit us by helping with jobs as in planning a house plan and typing a @NUM1 page report for one of our jobs in less than writing it. Now lets go into the wonder world of technology. Using a computer will help us in life by talking or making friends on line. Many people have myspace, facebooks, aim, these all benefit us by having conversations with one another. Many people believe computers are bad but how can you make friends if you can never talk to them? I am very fortunate for having a computer that can help with not only school work but my social life and how I make friends. Computers help us with finding our locations, coordibates and millions of information online. If we didn't go on the internet a lot we wouldn't know how to go onto websites that @MONTH1 help us with locations and coordinates like @LOCATION1. Would you rather use a computer or be in @LOCATION3. When your supposed to be vacationing in @LOCATION2. Million of information is found on the internet. You can as almost every question and a computer will have it. Would you rather easily draw up a house plan on the computers or take @NUM1 hours doing one by hand with ugly erazer marks all over it, you are garrenteed that to find a job with a drawing like that. Also when appling for a job many workers must write very long papers like a @NUM3 word essay on why this job fits you the most, and many people I know don't like writing @NUM3 words non-stopp for hours when it could take them I hav an a computer. That is why computers we needed a lot now adays. I hope this essay has impacted your descion on computers because they are great machines to work with. The other day I showed my mom how to use a computer and she said it was the greatest invention sense sliced bread! Now go out and buy a computer to help you chat online with friends, find locations and millions of information on one click of the button and help your self with getting a job with neat, prepared, printed work that your boss will love.\"]\n",
        "demo_df = pd.DataFrame(demo,columns=['essay'])\n",
        "demo_df.head()"
      ]
    },
    {
      "cell_type": "code",
      "execution_count": 23,
      "metadata": {
        "colab": {
          "base_uri": "https://localhost:8080/",
          "height": 203
        },
        "execution": {
          "iopub.execute_input": "2021-04-11T01:56:34.891297Z",
          "iopub.status.busy": "2021-04-11T01:56:34.890519Z",
          "iopub.status.idle": "2021-04-11T01:56:34.895269Z",
          "shell.execute_reply": "2021-04-11T01:56:34.895862Z"
        },
        "id": "K7utn_wFIzKy",
        "outputId": "075bd8e5-868c-47f7-ff1a-fd158c232752",
        "papermill": {
          "duration": 3.198066,
          "end_time": "2021-04-11T01:56:34.896016",
          "exception": false,
          "start_time": "2021-04-11T01:56:31.697950",
          "status": "completed"
        },
        "tags": []
      },
      "outputs": [
        {
          "data": {
            "text/html": [
              "<div style=\"max-width:800px; border: 1px solid var(--colab-border-color);\"><style>\n",
              "      pre.function-repr-contents {\n",
              "        overflow-x: auto;\n",
              "        padding: 8px 12px;\n",
              "        max-height: 500px;\n",
              "      }\n",
              "\n",
              "      pre.function-repr-contents.function-repr-contents-collapsed {\n",
              "        cursor: pointer;\n",
              "        max-height: 100px;\n",
              "      }\n",
              "    </style>\n",
              "    <pre style=\"white-space: initial; background:\n",
              "         var(--colab-secondary-surface-color); padding: 8px 12px;\n",
              "         border-bottom: 1px solid var(--colab-border-color);\"><b>pandas.core.series.Series</b><br/>def __init__(data=None, index=None, dtype: Dtype | None=None, name=None, copy: bool | None=None, fastpath: bool=False) -&gt; None</pre><pre class=\"function-repr-contents function-repr-contents-collapsed\" style=\"\"><a class=\"filepath\" style=\"display:none\" href=\"#\">/usr/local/lib/python3.10/dist-packages/pandas/core/series.py</a>One-dimensional ndarray with axis labels (including time series).\n",
              "\n",
              "Labels need not be unique but must be a hashable type. The object\n",
              "supports both integer- and label-based indexing and provides a host of\n",
              "methods for performing operations involving the index. Statistical\n",
              "methods from ndarray have been overridden to automatically exclude\n",
              "missing data (currently represented as NaN).\n",
              "\n",
              "Operations between Series (+, -, /, \\*, \\*\\*) align values based on their\n",
              "associated index values-- they need not be the same length. The result\n",
              "index will be the sorted union of the two indexes.\n",
              "\n",
              "Parameters\n",
              "----------\n",
              "data : array-like, Iterable, dict, or scalar value\n",
              "    Contains data stored in Series. If data is a dict, argument order is\n",
              "    maintained.\n",
              "index : array-like or Index (1d)\n",
              "    Values must be hashable and have the same length as `data`.\n",
              "    Non-unique index values are allowed. Will default to\n",
              "    RangeIndex (0, 1, 2, ..., n) if not provided. If data is dict-like\n",
              "    and index is None, then the keys in the data are used as the index. If the\n",
              "    index is not None, the resulting Series is reindexed with the index values.\n",
              "dtype : str, numpy.dtype, or ExtensionDtype, optional\n",
              "    Data type for the output Series. If not specified, this will be\n",
              "    inferred from `data`.\n",
              "    See the :ref:`user guide &lt;basics.dtypes&gt;` for more usages.\n",
              "name : Hashable, default None\n",
              "    The name to give to the Series.\n",
              "copy : bool, default False\n",
              "    Copy input data. Only affects Series or 1d ndarray input. See examples.\n",
              "\n",
              "Notes\n",
              "-----\n",
              "Please reference the :ref:`User Guide &lt;basics.series&gt;` for more information.\n",
              "\n",
              "Examples\n",
              "--------\n",
              "Constructing Series from a dictionary with an Index specified\n",
              "\n",
              "&gt;&gt;&gt; d = {&#x27;a&#x27;: 1, &#x27;b&#x27;: 2, &#x27;c&#x27;: 3}\n",
              "&gt;&gt;&gt; ser = pd.Series(data=d, index=[&#x27;a&#x27;, &#x27;b&#x27;, &#x27;c&#x27;])\n",
              "&gt;&gt;&gt; ser\n",
              "a   1\n",
              "b   2\n",
              "c   3\n",
              "dtype: int64\n",
              "\n",
              "The keys of the dictionary match with the Index values, hence the Index\n",
              "values have no effect.\n",
              "\n",
              "&gt;&gt;&gt; d = {&#x27;a&#x27;: 1, &#x27;b&#x27;: 2, &#x27;c&#x27;: 3}\n",
              "&gt;&gt;&gt; ser = pd.Series(data=d, index=[&#x27;x&#x27;, &#x27;y&#x27;, &#x27;z&#x27;])\n",
              "&gt;&gt;&gt; ser\n",
              "x   NaN\n",
              "y   NaN\n",
              "z   NaN\n",
              "dtype: float64\n",
              "\n",
              "Note that the Index is first build with the keys from the dictionary.\n",
              "After this the Series is reindexed with the given Index values, hence we\n",
              "get all NaN as a result.\n",
              "\n",
              "Constructing Series from a list with `copy=False`.\n",
              "\n",
              "&gt;&gt;&gt; r = [1, 2]\n",
              "&gt;&gt;&gt; ser = pd.Series(r, copy=False)\n",
              "&gt;&gt;&gt; ser.iloc[0] = 999\n",
              "&gt;&gt;&gt; r\n",
              "[1, 2]\n",
              "&gt;&gt;&gt; ser\n",
              "0    999\n",
              "1      2\n",
              "dtype: int64\n",
              "\n",
              "Due to input data type the Series has a `copy` of\n",
              "the original data even though `copy=False`, so\n",
              "the data is unchanged.\n",
              "\n",
              "Constructing Series from a 1d ndarray with `copy=False`.\n",
              "\n",
              "&gt;&gt;&gt; r = np.array([1, 2])\n",
              "&gt;&gt;&gt; ser = pd.Series(r, copy=False)\n",
              "&gt;&gt;&gt; ser.iloc[0] = 999\n",
              "&gt;&gt;&gt; r\n",
              "array([999,   2])\n",
              "&gt;&gt;&gt; ser\n",
              "0    999\n",
              "1      2\n",
              "dtype: int64\n",
              "\n",
              "Due to input data type the Series has a `view` on\n",
              "the original data, so\n",
              "the data is changed as well.</pre>\n",
              "      <script>\n",
              "      if (google.colab.kernel.accessAllowed && google.colab.files && google.colab.files.view) {\n",
              "        for (const element of document.querySelectorAll('.filepath')) {\n",
              "          element.style.display = 'block'\n",
              "          element.onclick = (event) => {\n",
              "            event.preventDefault();\n",
              "            event.stopPropagation();\n",
              "            google.colab.files.view(element.textContent, 244);\n",
              "          };\n",
              "        }\n",
              "      }\n",
              "      for (const element of document.querySelectorAll('.function-repr-contents')) {\n",
              "        element.onclick = (event) => {\n",
              "          event.preventDefault();\n",
              "          event.stopPropagation();\n",
              "          element.classList.toggle('function-repr-contents-collapsed');\n",
              "        };\n",
              "      }\n",
              "      </script>\n",
              "      </div>"
            ],
            "text/plain": [
              "pandas.core.series.Series"
            ]
          },
          "execution_count": 23,
          "metadata": {},
          "output_type": "execute_result"
        }
      ],
      "source": [
        "type(demo_df['essay'])"
      ]
    },
    {
      "cell_type": "code",
      "execution_count": 24,
      "metadata": {
        "execution": {
          "iopub.execute_input": "2021-04-11T01:56:39.900573Z",
          "iopub.status.busy": "2021-04-11T01:56:39.898869Z",
          "iopub.status.idle": "2021-04-11T01:56:39.901173Z",
          "shell.execute_reply": "2021-04-11T01:56:39.901578Z"
        },
        "id": "r-zyeWKlIzKz",
        "papermill": {
          "duration": 2.479198,
          "end_time": "2021-04-11T01:56:39.901688",
          "exception": false,
          "start_time": "2021-04-11T01:56:37.422490",
          "status": "completed"
        },
        "tags": []
      },
      "outputs": [],
      "source": [
        "content = \"Dear@CAPS1 @CAPS2, I believe that using computers will benefit us in many ways like talking and becoming friends will others through websites like facebook and mysace. Using computers can help us find coordibates, locations, and able ourselfs to millions of information. Also computers will benefit us by helping with jobs as in planning a house plan and typing a @NUM1 page report for one of our jobs in less than writing it. Now lets go into the wonder world of technology. Using a computer will help us in life by talking or making friends on line. Many people have myspace, facebooks, aim, these all benefit us by having conversations with one another. Many people believe computers are bad but how can you make friends if you can never talk to them? I am very fortunate for having a computer that can help with not only school work but my social life and how I make friends. Computers help us with finding our locations, coordibates and millions of information online. If we didn't go on the internet a lot we wouldn't know how to go onto websites that @MONTH1 help us with locations and coordinates like @LOCATION1. Would you rather use a computer or be in @LOCATION3. When your supposed to be vacationing in @LOCATION2. Million of information is found on the internet. You can as almost every question and a computer will have it. Would you rather easily draw up a house plan on the computers or take @NUM1 hours doing one by hand with ugly erazer marks all over it, you are garrenteed that to find a job with a drawing like that. Also when appling for a job many workers must write very long papers like a @NUM3 word essay on why this job fits you the most, and many people I know don't like writing @NUM3 words non-stopp for hours when it could take them I hav an a computer. That is why computers we needed a lot now adays. I hope this essay has impacted your descion on computers because they are great machines to work with. The other day I showed my mom how to use a computer and she said it was the greatest invention sense sliced bread! Now go out and buy a computer to help you chat online with friends, find locations and millions of information on one click of the button and help your self with getting a job with neat, prepared, printed work that your boss will love.\""
      ]
    },
    {
      "cell_type": "code",
      "execution_count": 26,
      "metadata": {
        "id": "0poOL9xH9zhv"
      },
      "outputs": [],
      "source": [
        "def makeFeatureVec(words, model, num_features):\n",
        "    \"\"\"Make Feature Vector from the words list of an Essay.\"\"\"\n",
        "    featureVec = np.zeros((num_features,), dtype=\"float32\")\n",
        "    num_words = 0\n",
        "    index2word_set = set(model.index_to_key)  # Change from 'model.wv.index2word' to 'model.index_to_key'\n",
        "    for word in words:\n",
        "        if word in index2word_set:\n",
        "            num_words += 1\n",
        "            featureVec = np.add(featureVec, model[word])  # Change from 'model.wv[word]' to 'model[word]'\n",
        "    if num_words > 0:\n",
        "        featureVec = np.divide(featureVec, num_words)\n",
        "    return featureVec\n",
        "\n",
        "def getAvgFeatureVecs(essays, model, num_features):\n",
        "    \"\"\"Main function to generate the word vectors for word2vec model.\"\"\"\n",
        "    counter = 0\n",
        "    essayFeatureVecs = np.zeros((len(essays), num_features), dtype=\"float32\")\n",
        "    for essay in essays:\n",
        "        essayFeatureVecs[counter] = makeFeatureVec(essay, model, num_features)\n",
        "        counter += 1\n",
        "    return essayFeatureVecs\n"
      ]
    },
    {
      "cell_type": "code",
      "execution_count": 27,
      "metadata": {
        "colab": {
          "base_uri": "https://localhost:8080/"
        },
        "execution": {
          "iopub.execute_input": "2021-04-11T01:56:45.160628Z",
          "iopub.status.busy": "2021-04-11T01:56:45.159756Z",
          "iopub.status.idle": "2021-04-11T01:56:45.227770Z",
          "shell.execute_reply": "2021-04-11T01:56:45.226490Z"
        },
        "id": "gm3ma3fZIzKz",
        "outputId": "272ace48-513b-4281-d299-6894161c03bb",
        "papermill": {
          "duration": 2.772014,
          "end_time": "2021-04-11T01:56:45.227872",
          "exception": false,
          "start_time": "2021-04-11T01:56:42.455858",
          "status": "completed"
        },
        "tags": []
      },
      "outputs": [
        {
          "name": "stdout",
          "output_type": "stream",
          "text": [
            "1/1 [==============================] - 0s 56ms/step\n"
          ]
        }
      ],
      "source": [
        "from gensim.models import Word2Vec\n",
        "from gensim.models import KeyedVectors\n",
        "num_features = 300\n",
        "\n",
        "model = KeyedVectors.load_word2vec_format( \"./word2vecmodel.bin\", binary=True)\n",
        "clean_test_essays = []\n",
        "clean_test_essays.append(essay_to_wordlist( content, remove_stopwords=True ))\n",
        "testDataVecs = getAvgFeatureVecs( clean_test_essays, model, num_features )\n",
        "testDataVecs = np.array(testDataVecs)\n",
        "testDataVecs = np.reshape(testDataVecs, (testDataVecs.shape[0], 1, testDataVecs.shape[1]))\n",
        "\n",
        "# lstm_model = get_model()\n",
        "lstm_model.load_weights(\"./final_lstm.h5\")\n",
        "preds = lstm_model.predict(testDataVecs)"
      ]
    },
    {
      "cell_type": "code",
      "execution_count": 28,
      "metadata": {
        "colab": {
          "base_uri": "https://localhost:8080/"
        },
        "execution": {
          "iopub.execute_input": "2021-04-11T01:56:50.200308Z",
          "iopub.status.busy": "2021-04-11T01:56:50.199677Z",
          "iopub.status.idle": "2021-04-11T01:56:50.202437Z",
          "shell.execute_reply": "2021-04-11T01:56:50.202849Z"
        },
        "id": "Kw9RzD3CIzK0",
        "outputId": "6b0c1ed7-9ddc-45ec-b65b-1d3f94df714f",
        "papermill": {
          "duration": 2.515062,
          "end_time": "2021-04-11T01:56:50.202961",
          "exception": false,
          "start_time": "2021-04-11T01:56:47.687899",
          "status": "completed"
        },
        "tags": []
      },
      "outputs": [
        {
          "data": {
            "text/plain": [
              "9"
            ]
          },
          "execution_count": 28,
          "metadata": {},
          "output_type": "execute_result"
        }
      ],
      "source": [
        "int(np.around(preds))"
      ]
    },
    {
      "cell_type": "markdown",
      "metadata": {},
      "source": [
        "-----------------------------------------------------------------------------------------------"
      ]
    },
    {
      "cell_type": "code",
      "execution_count": null,
      "metadata": {
        "execution": {
          "iopub.execute_input": "2021-04-11T01:56:55.229677Z",
          "iopub.status.busy": "2021-04-11T01:56:55.228904Z",
          "iopub.status.idle": "2021-04-11T01:56:55.231762Z",
          "shell.execute_reply": "2021-04-11T01:56:55.231291Z"
        },
        "id": "J2pA0M1nIzK1",
        "papermill": {
          "duration": 2.540191,
          "end_time": "2021-04-11T01:56:55.231873",
          "exception": false,
          "start_time": "2021-04-11T01:56:52.691682",
          "status": "completed"
        },
        "tags": []
      },
      "outputs": [],
      "source": [
        "# val_essays = demo_df['essay']\n",
        "# sentences = []\n",
        "\n",
        "# for essay in val_essays:\n",
        "#         sentences += essay_to_sentences(essay, remove_stopwords = True)\n",
        "\n",
        "\n",
        "# num_features = 300\n",
        "# min_word_count = 40\n",
        "# num_workers = 4\n",
        "# context = 10\n",
        "# downsampling = 1e-3\n",
        "\n",
        "\n",
        "# # model = Word2Vec(sentences, workers=num_workers, size=num_features, min_count = min_word_count, window = context, sample = downsampling)\n",
        "# model = Word2Vec(sentences, workers=num_workers, vector_size=num_features, min_count=min_word_count, window=context, sample=downsampling)\n",
        "\n",
        "# model.init_sims(replace=True)\n",
        "\n",
        "# clean_train_essays = []\n",
        "\n",
        "# # Generate training and testing data word vectors.\n",
        "# for essay_v in val_essays:\n",
        "#     clean_train_essays.append(essay_to_wordlist(essay_v, remove_stopwords=True))\n",
        "# trainDataVecs = getAvgFeatureVecs(clean_train_essays, model, num_features)\n",
        "\n",
        "# trainDataVecs = np.array(trainDataVecs)\n",
        "# # Reshaping train and test vectors to 3 dimensions. (1 represnts one timestep)\n",
        "# trainDataVecs = np.reshape(trainDataVecs, (trainDataVecs.shape[0], 1, trainDataVecs.shape[1]))\n",
        "\n",
        "\n",
        "# y_pred = lstm_model.predict(trainDataVecs)\n",
        "\n",
        "\n",
        "\n",
        "# y_pred = np.around(y_pred)\n",
        "\n",
        "\n",
        "# # result = cohen_kappa_score(y_test.values,y_pred,weights='quadratic')\n",
        "# # print(\"Kappa Score: {}\".format(result))\n",
        "# print(y_pred)"
      ]
    },
    {
      "cell_type": "code",
      "execution_count": 32,
      "metadata": {
        "colab": {
          "base_uri": "https://localhost:8080/"
        },
        "execution": {
          "iopub.execute_input": "2021-04-11T01:57:00.504647Z",
          "iopub.status.busy": "2021-04-11T01:57:00.503752Z",
          "iopub.status.idle": "2021-04-11T01:57:00.507259Z",
          "shell.execute_reply": "2021-04-11T01:57:00.507692Z"
        },
        "id": "99l5kyNQIzK2",
        "outputId": "91fc62a3-837e-4c41-f8e6-8061e18cb0b2",
        "papermill": {
          "duration": 2.541567,
          "end_time": "2021-04-11T01:57:00.507804",
          "exception": false,
          "start_time": "2021-04-11T01:56:57.966237",
          "status": "completed"
        },
        "tags": []
      },
      "outputs": [
        {
          "data": {
            "text/plain": [
              "(2064,)"
            ]
          },
          "execution_count": 32,
          "metadata": {},
          "output_type": "execute_result"
        }
      ],
      "source": [
        "y_test.T.shape"
      ]
    },
    {
      "cell_type": "code",
      "execution_count": 36,
      "metadata": {
        "execution": {
          "iopub.execute_input": "2021-04-11T01:57:05.504675Z",
          "iopub.status.busy": "2021-04-11T01:57:05.504017Z",
          "iopub.status.idle": "2021-04-11T01:57:05.808233Z",
          "shell.execute_reply": "2021-04-11T01:57:05.807776Z"
        },
        "id": "fBn_IrUAIzK3",
        "papermill": {
          "duration": 2.773798,
          "end_time": "2021-04-11T01:57:05.808334",
          "exception": false,
          "start_time": "2021-04-11T01:57:03.034536",
          "status": "completed"
        },
        "tags": []
      },
      "outputs": [],
      "source": [
        "# y_pred1 = y_pred.T.reshape(2595,)\n",
        "y_pred1 = y_pred.flatten()  # This will make y_pred a flat array if it isn't already\n"
      ]
    },
    {
      "cell_type": "code",
      "execution_count": 37,
      "metadata": {
        "colab": {
          "base_uri": "https://localhost:8080/"
        },
        "execution": {
          "iopub.execute_input": "2021-04-11T01:57:11.535479Z",
          "iopub.status.busy": "2021-04-11T01:57:11.534522Z",
          "iopub.status.idle": "2021-04-11T01:57:11.539050Z",
          "shell.execute_reply": "2021-04-11T01:57:11.538621Z"
        },
        "id": "4SIZ9zgyIzK3",
        "outputId": "5be58802-1982-4489-a81e-a333ee81645e",
        "papermill": {
          "duration": 2.51824,
          "end_time": "2021-04-11T01:57:11.539138",
          "exception": false,
          "start_time": "2021-04-11T01:57:09.020898",
          "status": "completed"
        },
        "tags": []
      },
      "outputs": [
        {
          "data": {
            "text/plain": [
              "array([5., 7., 2., ..., 8., 8., 8.], dtype=float32)"
            ]
          },
          "execution_count": 37,
          "metadata": {},
          "output_type": "execute_result"
        }
      ],
      "source": [
        "y_pred1"
      ]
    },
    {
      "cell_type": "code",
      "execution_count": 40,
      "metadata": {
        "execution": {
          "iopub.execute_input": "2021-04-11T01:57:21.768979Z",
          "iopub.status.busy": "2021-04-11T01:57:21.768153Z",
          "iopub.status.idle": "2021-04-11T01:57:21.771668Z",
          "shell.execute_reply": "2021-04-11T01:57:21.772229Z"
        },
        "id": "kLhBv5zGIzK4",
        "papermill": {
          "duration": 2.506468,
          "end_time": "2021-04-11T01:57:21.772348",
          "exception": false,
          "start_time": "2021-04-11T01:57:19.265880",
          "status": "completed"
        },
        "tags": []
      },
      "outputs": [],
      "source": [
        "from sklearn.metrics import confusion_matrix\n",
        "cm = confusion_matrix(y_test, y_pred1)"
      ]
    },
    {
      "cell_type": "code",
      "execution_count": 41,
      "metadata": {
        "colab": {
          "base_uri": "https://localhost:8080/",
          "height": 118
        },
        "execution": {
          "iopub.execute_input": "2021-04-11T01:57:27.015597Z",
          "iopub.status.busy": "2021-04-11T01:57:27.014687Z",
          "iopub.status.idle": "2021-04-11T01:57:27.140953Z",
          "shell.execute_reply": "2021-04-11T01:57:27.141429Z"
        },
        "id": "a0bUHWNXIzK5",
        "outputId": "2e81ab8d-4fbd-41c7-b8bf-21039c7bad13",
        "papermill": {
          "duration": 2.86763,
          "end_time": "2021-04-11T01:57:27.141552",
          "exception": false,
          "start_time": "2021-04-11T01:57:24.273922",
          "status": "completed"
        },
        "tags": []
      },
      "outputs": [
        {
          "data": {
            "image/png": "[encoded data removed]",
            "text/plain": [
              "<Figure size 1000x100 with 1 Axes>"
            ]
          },
          "metadata": {},
          "output_type": "display_data"
        }
      ],
      "source": [
        "# Save a palette to a variable:\n",
        "palette = sns.color_palette(\"bright\")\n",
        "\n",
        "# Use palplot and pass in the variable:\n",
        "sns.palplot(palette)"
      ]
    },
    {
      "cell_type": "code",
      "execution_count": 42,
      "metadata": {
        "colab": {
          "base_uri": "https://localhost:8080/",
          "height": 1000
        },
        "execution": {
          "iopub.execute_input": "2021-04-11T01:57:32.384856Z",
          "iopub.status.busy": "2021-04-11T01:57:32.383993Z",
          "iopub.status.idle": "2021-04-11T01:57:32.513499Z",
          "shell.execute_reply": "2021-04-11T01:57:32.512996Z"
        },
        "id": "mtvVqb5wIzK5",
        "outputId": "5f79c8de-8111-41e4-c36e-b60547f8e704",
        "papermill": {
          "duration": 2.608509,
          "end_time": "2021-04-11T01:57:32.513607",
          "exception": false,
          "start_time": "2021-04-11T01:57:29.905098",
          "status": "completed"
        },
        "tags": []
      },
      "outputs": [
        {
          "data": {
            "text/plain": [
              "<Axes: >"
            ]
          },
          "execution_count": 42,
          "metadata": {},
          "output_type": "execute_result"
        },
        {
          "data": {
            "image/png": "[encoded data removed]",
            "text/plain": [
              "<Figure size 2000x2000 with 2 Axes>"
            ]
          },
          "metadata": {},
          "output_type": "display_data"
        }
      ],
      "source": [
        "import seaborn as sns\n",
        "import pandas as pd\n",
        "import matplotlib.pyplot as plt\n",
        "array =cm[0:10,0:10]\n",
        "df_cm = pd.DataFrame(array)\n",
        "plt.figure(figsize = (20,20))\n",
        "sns.heatmap(df_cm,cmap = 'Blues',square=True, annot=True)"
      ]
    },
    {
      "cell_type": "code",
      "execution_count": 43,
      "metadata": {
        "colab": {
          "base_uri": "https://localhost:8080/"
        },
        "execution": {
          "iopub.execute_input": "2021-04-11T01:57:37.516693Z",
          "iopub.status.busy": "2021-04-11T01:57:37.512585Z",
          "iopub.status.idle": "2021-04-11T01:57:37.520220Z",
          "shell.execute_reply": "2021-04-11T01:57:37.519705Z"
        },
        "id": "SSuVGQqGIzK5",
        "outputId": "5d1ea558-1db8-41bf-dace-dcad43a15ec7",
        "papermill": {
          "duration": 2.53678,
          "end_time": "2021-04-11T01:57:37.520328",
          "exception": false,
          "start_time": "2021-04-11T01:57:34.983548",
          "status": "completed"
        },
        "tags": []
      },
      "outputs": [
        {
          "data": {
            "text/plain": [
              "array([[ 23, 305,  23,   2,   2,   2,   1,   0,   0,   0],\n",
              "       [  7, 386,  99,   3,   1,   0,   0,   1,   0,   0],\n",
              "       [  0, 226, 312,  20,   1,   0,   2,   0,   0,   0],\n",
              "       [  0,  23, 233,  41,   0,   0,   0,   2,   0,   0],\n",
              "       [  0,   0,   4,  10,   0,   0,   0,   3,   0,   0],\n",
              "       [  0,   0,   0,   2,   0,   0,   7,  17,   2,   0],\n",
              "       [  0,   0,   0,   0,   2,   1,   4,  19,   3,   0],\n",
              "       [  0,   0,   0,   0,   0,   2,  12,  86,  38,   0],\n",
              "       [  0,   0,   0,   1,   0,   1,   3,  36,  32,   0],\n",
              "       [  0,   0,   0,   0,   0,   3,   2,  16,  43,   0]])"
            ]
          },
          "execution_count": 43,
          "metadata": {},
          "output_type": "execute_result"
        }
      ],
      "source": [
        "cm[0:10,0:10]"
      ]
    },
    {
      "cell_type": "code",
      "execution_count": 44,
      "metadata": {
        "colab": {
          "base_uri": "https://localhost:8080/"
        },
        "execution": {
          "iopub.execute_input": "2021-04-11T01:57:43.219214Z",
          "iopub.status.busy": "2021-04-11T01:57:43.218557Z",
          "iopub.status.idle": "2021-04-11T01:57:43.221888Z",
          "shell.execute_reply": "2021-04-11T01:57:43.222521Z"
        },
        "id": "pR95PuLVIzK6",
        "outputId": "b394862c-a336-4379-ba14-1159c426493c",
        "papermill": {
          "duration": 2.739651,
          "end_time": "2021-04-11T01:57:43.222670",
          "exception": false,
          "start_time": "2021-04-11T01:57:40.483019",
          "status": "completed"
        },
        "tags": []
      },
      "outputs": [
        {
          "name": "stdout",
          "output_type": "stream",
          "text": [
            "(2, 5)\n",
            "[]\n"
          ]
        }
      ],
      "source": [
        "arr = np.array([[1, 2, 3, 4, 5], [6, 7, 8, 9, 10]])\n",
        "print(arr.shape)\n",
        "print(arr[1:4, 4:1])\n",
        "# print(arr)"
      ]
    },
    {
      "cell_type": "code",
      "execution_count": 45,
      "metadata": {
        "colab": {
          "base_uri": "https://localhost:8080/"
        },
        "execution": {
          "iopub.execute_input": "2021-04-11T01:57:48.214068Z",
          "iopub.status.busy": "2021-04-11T01:57:48.213292Z",
          "iopub.status.idle": "2021-04-11T01:57:48.217224Z",
          "shell.execute_reply": "2021-04-11T01:57:48.216766Z"
        },
        "id": "G56FJCZmIzK6",
        "outputId": "d2c4b564-43d1-4104-cd86-b310cb74cc8a",
        "papermill": {
          "duration": 2.493674,
          "end_time": "2021-04-11T01:57:48.217318",
          "exception": false,
          "start_time": "2021-04-11T01:57:45.723644",
          "status": "completed"
        },
        "tags": []
      },
      "outputs": [
        {
          "data": {
            "text/plain": [
              "(10, 10)"
            ]
          },
          "execution_count": 45,
          "metadata": {},
          "output_type": "execute_result"
        }
      ],
      "source": [
        "cm.shape"
      ]
    },
    {
      "cell_type": "code",
      "execution_count": 47,
      "metadata": {
        "colab": {
          "base_uri": "https://localhost:8080/",
          "height": 785
        },
        "execution": {
          "iopub.execute_input": "2021-04-11T01:57:53.505402Z",
          "iopub.status.busy": "2021-04-11T01:57:53.504535Z",
          "iopub.status.idle": "2021-04-11T01:57:53.508307Z",
          "shell.execute_reply": "2021-04-11T01:57:53.508759Z"
        },
        "id": "eRxrPy2gIzLa",
        "outputId": "dadc559e-93b0-4734-d25a-2fb12adc26e2",
        "papermill": {
          "duration": 2.50708,
          "end_time": "2021-04-11T01:57:53.508883",
          "exception": false,
          "start_time": "2021-04-11T01:57:51.001803",
          "status": "completed"
        },
        "tags": []
      },
      "outputs": [
        {
          "data": {
            "text/plain": [
              "Text(0.5, 1.0, 'Fig:1')"
            ]
          },
          "execution_count": 47,
          "metadata": {},
          "output_type": "execute_result"
        },
        {
          "data": {
            "image/png": "[encoded data removed]",
            "text/plain": [
              "<Figure size 1100x900 with 2 Axes>"
            ]
          },
          "metadata": {},
          "output_type": "display_data"
        }
      ],
      "source": [
        "corr = cm\n",
        "\n",
        "mask = np.triu(np.ones_like(corr, dtype=bool))\n",
        "\n",
        "# Set up the matplotlib figure\n",
        "f, ax = plt.subplots(figsize=(11, 9))\n",
        "\n",
        "# Generate a custom diverging colormap\n",
        "cmap = sns.diverging_palette(220, 10, as_cmap=True)\n",
        "\n",
        "# Draw the heatmap with the mask and correct aspect ratio\n",
        "sns.heatmap(corr, mask=mask, cmap=cmap, vmax=.3, center=0,\n",
        "            square=True, linewidths=.5, cbar_kws={\"shrink\": .5})\n",
        "plt.title('Fig:1',size=15)"
      ]
    },
    {
      "cell_type": "code",
      "execution_count": 48,
      "metadata": {
        "colab": {
          "base_uri": "https://localhost:8080/"
        },
        "execution": {
          "iopub.execute_input": "2021-04-11T01:57:58.511451Z",
          "iopub.status.busy": "2021-04-11T01:57:58.510545Z",
          "iopub.status.idle": "2021-04-11T01:57:58.514724Z",
          "shell.execute_reply": "2021-04-11T01:57:58.514296Z"
        },
        "id": "XAnKxwUuIzLa",
        "outputId": "a5affb80-b8ec-4402-949c-2777155a8c2c",
        "papermill": {
          "duration": 2.536714,
          "end_time": "2021-04-11T01:57:58.514817",
          "exception": false,
          "start_time": "2021-04-11T01:57:55.978103",
          "status": "completed"
        },
        "tags": []
      },
      "outputs": [
        {
          "data": {
            "text/plain": [
              "0.23885041359532216"
            ]
          },
          "execution_count": 48,
          "metadata": {},
          "output_type": "execute_result"
        }
      ],
      "source": [
        "from sklearn.metrics import f1_score\n",
        "f1_score(y_test, y_pred1, average='macro')"
      ]
    },
    {
      "cell_type": "code",
      "execution_count": 49,
      "metadata": {
        "execution": {
          "iopub.execute_input": "2021-04-11T01:58:03.818446Z",
          "iopub.status.busy": "2021-04-11T01:58:03.804049Z",
          "iopub.status.idle": "2021-04-11T01:58:03.822213Z",
          "shell.execute_reply": "2021-04-11T01:58:03.821662Z"
        },
        "id": "18-UDKCrIzLb",
        "papermill": {
          "duration": 2.813738,
          "end_time": "2021-04-11T01:58:03.822306",
          "exception": false,
          "start_time": "2021-04-11T01:58:01.008568",
          "status": "completed"
        },
        "tags": []
      },
      "outputs": [],
      "source": [
        "from sklearn.metrics import classification_report\n",
        "cr = classification_report(y_test, y_pred1)"
      ]
    },
    {
      "cell_type": "code",
      "execution_count": 50,
      "metadata": {
        "colab": {
          "base_uri": "https://localhost:8080/",
          "height": 108
        },
        "execution": {
          "iopub.execute_input": "2021-04-11T01:58:08.786301Z",
          "iopub.status.busy": "2021-04-11T01:58:08.773971Z",
          "iopub.status.idle": "2021-04-11T01:58:08.790002Z",
          "shell.execute_reply": "2021-04-11T01:58:08.789475Z"
        },
        "id": "7UL4n1jkIzLb",
        "outputId": "d3ff119a-0e88-47ff-d63d-e313c80fd70b",
        "papermill": {
          "duration": 2.496015,
          "end_time": "2021-04-11T01:58:08.790092",
          "exception": false,
          "start_time": "2021-04-11T01:58:06.294077",
          "status": "completed"
        },
        "tags": []
      },
      "outputs": [
        {
          "data": {
            "application/vnd.google.colaboratory.intrinsic+json": {
              "type": "string"
            },
            "text/plain": [
              "'              precision    recall  f1-score   support\\n\\n           1       0.77      0.06      0.12       358\\n           2       0.41      0.78      0.54       497\\n           3       0.46      0.56      0.51       561\\n           4       0.52      0.14      0.22       299\\n           5       0.00      0.00      0.00        17\\n           6       0.00      0.00      0.00        28\\n           7       0.13      0.14      0.13        29\\n           8       0.48      0.62      0.54       138\\n           9       0.27      0.44      0.34        73\\n          10       0.00      0.00      0.00        64\\n\\n    accuracy                           0.43      2064\\n   macro avg       0.30      0.27      0.24      2064\\nweighted avg       0.48      0.43      0.37      2064\\n'"
            ]
          },
          "execution_count": 50,
          "metadata": {},
          "output_type": "execute_result"
        }
      ],
      "source": [
        "cr"
      ]
    },
    {
      "cell_type": "code",
      "execution_count": 51,
      "metadata": {
        "colab": {
          "base_uri": "https://localhost:8080/",
          "height": 830
        },
        "execution": {
          "iopub.execute_input": "2021-04-11T01:58:14.532561Z",
          "iopub.status.busy": "2021-04-11T01:58:14.531717Z",
          "iopub.status.idle": "2021-04-11T01:58:14.535690Z",
          "shell.execute_reply": "2021-04-11T01:58:14.535239Z"
        },
        "id": "KohmKLC4IzLb",
        "outputId": "71d39703-b9fd-4809-efc5-8980e75dc7a0",
        "papermill": {
          "duration": 3.229399,
          "end_time": "2021-04-11T01:58:14.535779",
          "exception": false,
          "start_time": "2021-04-11T01:58:11.306380",
          "status": "completed"
        },
        "tags": []
      },
      "outputs": [
        {
          "data": {
            "image/png": "[encoded data removed]",
            "text/plain": [
              "<Figure size 1000x1000 with 1 Axes>"
            ]
          },
          "metadata": {},
          "output_type": "display_data"
        }
      ],
      "source": [
        "import seaborn as sns\n",
        "import numpy as np\n",
        "from sklearn.metrics import precision_recall_fscore_support\n",
        "import matplotlib.pyplot as plt\n",
        "\n",
        "def plot_classification_report(y_tru, y_prd, figsize=(10, 10), ax=None):\n",
        "\n",
        "    plt.figure(figsize=figsize)\n",
        "\n",
        "    xticks = ['precision', 'recall', 'f1-score', 'support']\n",
        "    yticks = list(np.unique(y_tru))\n",
        "    yticks += ['avg']\n",
        "\n",
        "    rep = np.array(precision_recall_fscore_support(y_tru, y_prd)).T\n",
        "    avg = np.mean(rep, axis=0)\n",
        "    avg[-1] = np.sum(rep[:, -1])\n",
        "    rep = np.insert(rep, rep.shape[0], avg, axis=0)\n",
        "\n",
        "    sns.heatmap(rep,\n",
        "                annot=True,\n",
        "                cbar=False,\n",
        "                xticklabels=xticks,\n",
        "                yticklabels=yticks,\n",
        "                ax=ax)\n",
        "\n",
        "plot_classification_report(y_test, y_pred1)"
      ]
    },
    {
      "cell_type": "code",
      "execution_count": 57,
      "metadata": {
        "colab": {
          "base_uri": "https://localhost:8080/",
          "height": 487
        },
        "id": "qesIBJOcDBey",
        "outputId": "0a3074b2-46f1-43ef-ece3-a0a1b81d22ff"
      },
      "outputs": [
        {
          "data": {
            "image/png": "[encoded data removed]",
            "text/plain": [
              "<Figure size 640x480 with 2 Axes>"
            ]
          },
          "metadata": {},
          "output_type": "display_data"
        }
      ],
      "source": [
        "import matplotlib.pyplot as plt\n",
        "import numpy as np\n",
        "import itertools\n",
        "\n",
        "def plot_classification_report(classificationReport,\n",
        "                               title='Classification report',\n",
        "                               cmap='RdBu'):\n",
        "    classificationReport = classificationReport.replace('\\n\\n', '\\n')\n",
        "    classificationReport = classificationReport.replace(' / ', '/')\n",
        "    lines = classificationReport.split('\\n')\n",
        "\n",
        "    classes, plotMat, support, class_names = [], [], [], []\n",
        "    for line in lines[2:]:  # if you don't want avg/total result, then change [1:] into [1:-1]\n",
        "        t = line.strip().split()\n",
        "        if len(t) < 2:\n",
        "            continue\n",
        "        classes.append(t[0])\n",
        "        try:\n",
        "            # Try to convert each value to float; skip non-numeric strings\n",
        "            v = [float(x) for x in t[1: len(t) - 1]]\n",
        "            support.append(int(t[-1]))\n",
        "            class_names.append(t[0])\n",
        "            plotMat.append(v)\n",
        "        except ValueError:\n",
        "            print(f\"Skipping line due to conversion error: {line}\")\n",
        "            continue\n",
        "\n",
        "    plotMat = np.array(plotMat)\n",
        "    xticklabels = ['Precision', 'Recall', 'F1-score']\n",
        "    yticklabels = ['{0} ({1})'.format(class_names[idx], sup)\n",
        "                   for idx, sup in enumerate(support)]\n",
        "\n",
        "    plt.imshow(plotMat, interpolation='nearest', cmap=cmap, aspect='auto')\n",
        "    plt.title(title)\n",
        "    plt.colorbar()\n",
        "    plt.xticks(np.arange(3), xticklabels, rotation=45)\n",
        "    plt.yticks(np.arange(len(classes)), yticklabels)\n",
        "\n",
        "    upper_thresh = plotMat.min() + (plotMat.max() - plotMat.min()) / 10 * 8\n",
        "    lower_thresh = plotMat.min() + (plotMat.max() - plotMat.min()) / 10 * 2\n",
        "    for i, j in itertools.product(range(plotMat.shape[0]), range(plotMat.shape[1])):\n",
        "        plt.text(j, i, format(plotMat[i, j], '.2f'),\n",
        "                 horizontalalignment=\"center\",\n",
        "                 color=\"white\" if plotMat[i, j] > upper_thresh or plotMat[i, j] < lower_thresh else \"black\")\n",
        "\n",
        "    plt.ylabel('Classes')\n",
        "    plt.xlabel('Metrics')\n",
        "    plt.tight_layout()\n",
        "    plt.show()\n",
        "\n",
        "def main():\n",
        "    # Sample classification report string\n",
        "    sampleClassificationReport = \"\"\"\n",
        "               precision    recall  f1-score   support\n",
        "\n",
        "    class0       0.82      0.55      0.66       120\n",
        "    class1       0.75      0.62      0.68       150\n",
        "    avg/total    0.78      0.59      0.67       270\n",
        "    \"\"\"\n",
        "\n",
        "    plot_classification_report(sampleClassificationReport)\n",
        "\n",
        "if __name__ == '__main__':\n",
        "    main()\n"
      ]
    },
    {
      "cell_type": "code",
      "execution_count": 61,
      "metadata": {
        "execution": {
          "iopub.execute_input": "2021-04-11T01:58:24.933254Z",
          "iopub.status.busy": "2021-04-11T01:58:24.932587Z",
          "iopub.status.idle": "2021-04-11T01:58:25.035256Z",
          "shell.execute_reply": "2021-04-11T01:58:25.034006Z"
        },
        "id": "Q3r_qpFaIzLc",
        "papermill": {
          "duration": 2.862097,
          "end_time": "2021-04-11T01:58:25.035366",
          "exception": false,
          "start_time": "2021-04-11T01:58:22.173269",
          "status": "completed"
        },
        "tags": []
      },
      "outputs": [],
      "source": [
        "from sklearn.linear_model import LogisticRegression\n",
        "from sklearn.svm import SVC\n",
        "from sklearn.neighbors import KNeighborsClassifier\n",
        "from sklearn.tree import DecisionTreeClassifier\n",
        "from sklearn.ensemble import RandomForestClassifier\n",
        "from sklearn.naive_bayes import MultinomialNB\n",
        "# from sklearn.metrics import classification_report,confusion_matrix,accuracy_score,plot_confusion_matrix"
      ]
    },
    {
      "cell_type": "code",
      "execution_count": 62,
      "metadata": {
        "execution": {
          "iopub.execute_input": "2021-04-11T01:58:30.024450Z",
          "iopub.status.busy": "2021-04-11T01:58:30.023662Z",
          "iopub.status.idle": "2021-04-11T01:58:30.026820Z",
          "shell.execute_reply": "2021-04-11T01:58:30.026386Z"
        },
        "id": "nIhZiACDIzLc",
        "papermill": {
          "duration": 2.521139,
          "end_time": "2021-04-11T01:58:30.026937",
          "exception": false,
          "start_time": "2021-04-11T01:58:27.505798",
          "status": "completed"
        },
        "tags": []
      },
      "outputs": [],
      "source": [
        "classifiers = {\n",
        "    \"LogisiticRegression\": LogisticRegression(),\n",
        "    \"KNearest\": KNeighborsClassifier(n_neighbors=1),\n",
        "    \"Support Vector Classifier\": SVC(),\n",
        "    \"DecisionTreeClassifier\": DecisionTreeClassifier(),\n",
        "    \"MultinimialNB\": MultinomialNB()\n",
        "}\n"
      ]
    },
    {
      "cell_type": "code",
      "execution_count": 63,
      "metadata": {
        "colab": {
          "base_uri": "https://localhost:8080/"
        },
        "execution": {
          "iopub.execute_input": "2021-04-11T01:58:35.224865Z",
          "iopub.status.busy": "2021-04-11T01:58:35.224118Z",
          "iopub.status.idle": "2021-04-11T01:58:35.227873Z",
          "shell.execute_reply": "2021-04-11T01:58:35.227447Z"
        },
        "id": "4wyQHCyqIzLc",
        "outputId": "a9e31aea-580d-4a0e-f342-6b932b251151",
        "papermill": {
          "duration": 2.710225,
          "end_time": "2021-04-11T01:58:35.227965",
          "exception": false,
          "start_time": "2021-04-11T01:58:32.517740",
          "status": "completed"
        },
        "tags": []
      },
      "outputs": [
        {
          "data": {
            "text/plain": [
              "300"
            ]
          },
          "execution_count": 63,
          "metadata": {},
          "output_type": "execute_result"
        }
      ],
      "source": [
        "trainDataVecs.shape[2]"
      ]
    },
    {
      "cell_type": "code",
      "execution_count": null,
      "metadata": {
        "execution": {
          "iopub.execute_input": "2021-04-11T01:58:40.254150Z",
          "iopub.status.busy": "2021-04-11T01:58:40.253608Z",
          "iopub.status.idle": "2021-04-11T01:58:40.288365Z",
          "shell.execute_reply": "2021-04-11T01:58:40.287654Z"
        },
        "id": "h92jHHm3IzLc",
        "papermill": {
          "duration": 2.542427,
          "end_time": "2021-04-11T01:58:40.288466",
          "exception": false,
          "start_time": "2021-04-11T01:58:37.746039",
          "status": "completed"
        },
        "tags": []
      },
      "outputs": [],
      "source": [
        "trainDataVecs1 = np.reshape(trainDataVecs,trainDataVecs.shape[0],trainDataVecs.shape[2])\n",
        "trainDataVecs1.shape"
      ]
    },
    {
      "cell_type": "code",
      "execution_count": null,
      "metadata": {
        "execution": {
          "iopub.execute_input": "2021-04-11T01:58:45.328788Z",
          "iopub.status.busy": "2021-04-11T01:58:45.327824Z",
          "iopub.status.idle": "2021-04-11T01:58:45.377630Z",
          "shell.execute_reply": "2021-04-11T01:58:45.378208Z"
        },
        "id": "JKqhy6LaIzLd",
        "papermill": {
          "duration": 2.582958,
          "end_time": "2021-04-11T01:58:45.378363",
          "exception": false,
          "start_time": "2021-04-11T01:58:42.795405",
          "status": "completed"
        },
        "tags": []
      },
      "outputs": [],
      "source": [
        "from sklearn.model_selection import cross_val_score\n",
        "\n",
        "classifier = KNeighborsClassifier()\n",
        "\n",
        "classifier.fit(trainDataVecs, y_train)\n",
        "training_score = cross_val_score(classifier, train_vectors, df_train[\"domain1_score\"], cv=5)\n",
        "print(\"Classifiers: \", classifier.__class__.__name__, \"Has a training score of\", round(training_score.mean(), 2) * 100, \"% accuracy score\")"
      ]
    },
    {
      "cell_type": "code",
      "execution_count": null,
      "metadata": {
        "execution": {
          "iopub.execute_input": "2021-04-11T01:58:51.047349Z",
          "iopub.status.busy": "2021-04-11T01:58:51.046567Z",
          "iopub.status.idle": "2021-04-11T01:58:51.113440Z",
          "shell.execute_reply": "2021-04-11T01:58:51.113921Z"
        },
        "id": "8Yw8w25IIzLd",
        "papermill": {
          "duration": 2.614627,
          "end_time": "2021-04-11T01:58:51.114045",
          "exception": false,
          "start_time": "2021-04-11T01:58:48.499418",
          "status": "completed"
        },
        "tags": []
      },
      "outputs": [],
      "source": [
        "np.unique(df['domain1_score'],return_counts=True)"
      ]
    },
    {
      "cell_type": "code",
      "execution_count": null,
      "metadata": {
        "execution": {
          "iopub.execute_input": "2021-04-11T01:58:56.174858Z",
          "iopub.status.busy": "2021-04-11T01:58:56.174019Z",
          "iopub.status.idle": "2021-04-11T01:58:56.179362Z",
          "shell.execute_reply": "2021-04-11T01:58:56.178842Z"
        },
        "id": "KRhehdvdIzLd",
        "papermill": {
          "duration": 2.53005,
          "end_time": "2021-04-11T01:58:56.179483",
          "exception": false,
          "start_time": "2021-04-11T01:58:53.649433",
          "status": "completed"
        },
        "tags": []
      },
      "outputs": [],
      "source": [
        "df"
      ]
    },
    {
      "cell_type": "code",
      "execution_count": null,
      "metadata": {
        "execution": {
          "iopub.execute_input": "2021-04-11T01:59:01.549179Z",
          "iopub.status.busy": "2021-04-11T01:59:01.502768Z",
          "iopub.status.idle": "2021-04-11T01:59:01.556114Z",
          "shell.execute_reply": "2021-04-11T01:59:01.556646Z"
        },
        "id": "7Kx2zywPIzLd",
        "papermill": {
          "duration": 2.597351,
          "end_time": "2021-04-11T01:59:01.556766",
          "exception": false,
          "start_time": "2021-04-11T01:58:58.959415",
          "status": "completed"
        },
        "tags": []
      },
      "outputs": [],
      "source": [
        "from sklearn.utils import class_weight\n",
        "class_weights = class_weight.compute_class_weight('balanced',\n",
        "                                                 np.unique(df['domain1_score']),\n",
        "                                                 train)"
      ]
    }
  ],
  "metadata": {
    "colab": {
      "provenance": []
    },
    "kernelspec": {
      "display_name": "Python 3",
      "language": "python",
      "name": "python3"
    },
    "language_info": {
      "codemirror_mode": {
        "name": "ipython",
        "version": 3
      },
      "file_extension": ".py",
      "mimetype": "text/x-python",
      "name": "python",
      "nbconvert_exporter": "python",
      "pygments_lexer": "ipython3",
      "version": "3.9.5"
    },
    "papermill": {
      "duration": 1162.588092,
      "end_time": "2021-04-11T01:59:05.843016",
      "environment_variables": {},
      "exception": null,
      "input_path": "__notebook__.ipynb",
      "output_path": "__notebook__.ipynb",
      "parameters": {},
      "start_time": "2021-04-11T01:39:43.254924",
      "version": "2.1.0"
    }
  },
  "nbformat": 4,
  "nbformat_minor": 0
}
