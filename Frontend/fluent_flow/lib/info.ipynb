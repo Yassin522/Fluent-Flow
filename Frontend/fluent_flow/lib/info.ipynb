{
 "cells": [
  {
   "cell_type": "code",
   "execution_count": null,
   "metadata": {},
   "outputs": [],
   "source": [
    "\"Script Scores\"\n",
    "{\n",
    "    name: \"Script Total Score\",\n",
    "    definition: \"A combined score representing the overall quality of the script, considering various factors like clarity, structure, and grammar\",\n",
    "    scoreInfo: \"0 (the script too bad)\\n10 (excellent script)\",\n",
    "\n",
    "    name: \"Sentence Length Score\",\n",
    "    definition: \"A measure of the average length of sentences, with a balance between short and long sentences generally being ideal\",\n",
    "    scoreInfo: \"XXX\",\n",
    "\n",
    "    name: \"Grammar Score\",\n",
    "    definition: \"A measure of how effectively the speaker's head movements align with their gaze and speech, contributing to communication effectiveness\",\n",
    "    scoreInfo: \"0 (the grammar mistakes aren't noticeable)\\n5 (there are a lot of grammar mistakes and they are distracting)\",\n",
    "}"
   ]
  },
  {
   "cell_type": "code",
   "execution_count": null,
   "metadata": {},
   "outputs": [],
   "source": [
    "\"Script Analytics\"\n",
    "{\n",
    "    name: \"Unique Words Count\",\n",
    "    definition: \"The number of distinct words or phrases used in the script, indicating lexical variety\",\n",
    "\n",
    "    name: \"Words Count\",\n",
    "    definition: \"The total number of words or tokens in the script, providing a measure of script length\",\n",
    "\n",
    "    name: \"Stop Word Count\",\n",
    "    definition: \"The number of common words (like \\\"and,\\\" \\\"the,\\\" \\\"uh\\\") that usually carry less meaning and are often excluded from key analyses\",\n",
    "\n",
    "    name: \"Sentences Count\",\n",
    "    definition: \"The total number of sentences in the script, indicating the script's structure and flow\",\n",
    "}"
   ]
  },
  {
   "cell_type": "code",
   "execution_count": null,
   "metadata": {},
   "outputs": [],
   "source": [
    "\"Voice Scores\"\n",
    "{\n",
    "    name: \"Filler Words Score\",\n",
    "    definition: \"A score that reflects the frequency of filler words like \\\"um,\\\" \\\"uh,\\\" or \\\"like,\\\" which can detract from the clarity of speech\",\n",
    "    scoreInfo: \"0 (the filler words aren't distracting)\\n5 (there are a lot of filler words and that they are distracting)\",\n",
    "    \n",
    "    name: \"Speed/Pace Score\",\n",
    "    definition: \"A measure of the pace at which the speaker talks, indicating whether the speech is too fast, too slow, or at an appropriate speed\",\n",
    "    scoreInfo: \"-5 (means too slow)\\n0 (perfect or optimal)\\n5 (means too fast)\",\n",
    "    \n",
    "    name: \"Voice Variation Score\",\n",
    "    definition: \"A measure of how much the speaking speed varies, with some variation typically being beneficial for engagement\",\n",
    "    scoreInfo: \"-5 (too monotonic)\\n0 (optimal or perfect)\\n5 (too varying)\",\n",
    "    \n",
    "    name: \"Pausing Score\",\n",
    "    definition: \"A score that indicates the effectiveness of pauses during speech, which can enhance comprehension and emphasize key points\",\n",
    "    scoreInfo: \"-5 (the person is pausing too much)\\n0 (good / optimal)\\n5 (the person isn't pausing at all)\",\n",
    "    \n",
    "    name: \"Vocal Variation\",\n",
    "    definition: \"XXX\",\n",
    "    scoreInfo: \"-5 (XXX)\\n0 (perfect or optimal)\\n5 (XXX)\",\n",
    "}"
   ]
  },
  {
   "cell_type": "code",
   "execution_count": null,
   "metadata": {},
   "outputs": [],
   "source": [
    "\"Gestures Scores\"\n",
    "{\n",
    "    name: \"Gesture Use Score\",\n",
    "    definition: \"A measure of how effectively the speaker uses gestures to complement and emphasize their speech\",\n",
    "    scoreInfo: \"-5 (the presenter isn't using any gestures)\\n0 (good use of gesture)\\n5 (the gestures are distracting/too much)\",\n",
    "    \n",
    "    name: \"Eye Gaze Score\",\n",
    "    definition: \"A measure of how effectively the speaker uses eye contact to connect with the audience\",\n",
    "    scoreInfo: \"0 (the presenter isn't engaging with the audience (ex: looking away or down)\\n5 (the presenter is engaging in a good way)\",\n",
    "    \n",
    "    name: \"Head Gaze Score\",\n",
    "    definition: \"A measure of how effectively the speaker's head movements align with their gaze and speech, contributing to communication effectiveness\",\n",
    "    scoreInfo: \"0 (the presenter isn't engaging with the audience (ex: looking away or down)\\n5 (the presenter is engaging in a good way)\",\n",
    "}"
   ]
  },
  {
   "cell_type": "code",
   "execution_count": null,
   "metadata": {},
   "outputs": [],
   "source": [
    "\"Gestures Analytics\"\n",
    "{\n",
    "    name: \"Gesture Place\",\n",
    "    definition: \"A measure of how well the speaker places their gestures in alignment with their words and meaning\",\n",
    "    scoreInfo: \"percentage of the whole presentation\",\n",
    "\n",
    "    name: \"Gesture Close\",\n",
    "    definition: \"The percentage of time the speaker’s gestures are appropriately close to the body, typically indicating controlled and intentional movement\",\n",
    "    scoreInfo: \"percentage of the whole presentation\",\n",
    "\n",
    "    name: \"Good Poses\",\n",
    "    definition: \"The percentage of time the speaker maintains a good posture or stance, which can convey confidence and professionalism\",\n",
    "    scoreInfo: \"percentage of the whole presentation\",\n",
    "\n",
    "    name: \"Bad Poses\\n(Hands On Hips)\",\n",
    "    definition: \"The percentage of time the speaker's hands are on their hips, which can be perceived as aggressive or defensive\",\n",
    "    scoreInfo: \"percentage of the whole presentation\",\n",
    "\n",
    "    name: \"Bad Poses\\n(Hands Crossed)\",\n",
    "    definition: \"The percentage of time the speaker's hands crossed, which can be perceived as aggressive or defensive\",\n",
    "    scoreInfo: \"percentage of the whole presentation\",\n",
    "\n",
    "    name: \"Gaze Ratio\",\n",
    "    svgName: \"assets/icons/head-svgrepo-com.svg\",\n",
    "    definition: \"The percentage of time the speaker maintains proper eye contact, which is key for engaging the audience\",\n",
    "    scoreInfo: \"percentage of the whole presentation\",\n",
    "}"
   ]
  }
 ],
 "metadata": {
  "kernelspec": {
   "display_name": "Python 3",
   "language": "python",
   "name": "python3"
  },
  "language_info": {
   "codemirror_mode": {
    "name": "ipython",
    "version": 3
   },
   "file_extension": ".py",
   "mimetype": "text/x-python",
   "name": "python",
   "nbconvert_exporter": "python",
   "pygments_lexer": "ipython3",
   "version": "3.10.0"
  }
 },
 "nbformat": 4,
 "nbformat_minor": 2
}
